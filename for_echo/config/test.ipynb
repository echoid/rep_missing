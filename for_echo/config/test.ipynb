{
 "cells": [
  {
   "cell_type": "code",
   "execution_count": null,
   "metadata": {},
   "outputs": [
    {
     "ename": "",
     "evalue": "",
     "output_type": "error",
     "traceback": [
      "\u001b[1;31mFailed to start the Kernel. \n",
      "\u001b[1;31mJupyter server crashed. Unable to connect. \n",
      "\u001b[1;31mError code from Jupyter: 1\n",
      "\u001b[1;31mTraceback (most recent call last):\n",
      "\u001b[1;31m  File \"/Users/epochoid/opt/anaconda3/envs/py3.10/bin/jupyter-notebook\", line 5, in <module>\n",
      "\u001b[1;31m\n",
      "\u001b[1;31m    from notebook.app import main\n",
      "\u001b[1;31m  File \"/Users/epochoid/opt/anaconda3/envs/py3.10/lib/python3.10/site-packages/notebook/app.py\", line 9, in <module>\n",
      "\u001b[1;31m\n",
      "\u001b[1;31m    from jupyter_server.base.handlers import JupyterHandler\n",
      "\u001b[1;31m  File \"/Users/epochoid/opt/anaconda3/envs/py3.10/lib/python3.10/site-packages/jupyter_server/base/handlers.py\", line 20, in <module>\n",
      "\u001b[1;31m\n",
      "\u001b[1;31m    import prometheus_client\n",
      "\u001b[1;31m  File \"/Users/epochoid/opt/anaconda3/envs/py3.10/lib/python3.10/site-packages/prometheus_client/__init__.py\", line 3, in <module>\n",
      "\u001b[1;31m\n",
      "\u001b[1;31m    from . import (\n",
      "\u001b[1;31m  File \"/Users/epochoid/opt/anaconda3/envs/py3.10/lib/python3.10/site-packages/prometheus_client/exposition.py\", line 8, in <module>\n",
      "\u001b[1;31m\n",
      "\u001b[1;31m    import ssl\n",
      "\u001b[1;31m  File \"/Users/epochoid/opt/anaconda3/envs/py3.10/lib/python3.10/ssl.py\", line 99, in <module>\n",
      "\u001b[1;31m\n",
      "\u001b[1;31m    import _ssl             # if we can't import it, let the error propagate\n",
      "\u001b[1;31mImportError\n",
      "\u001b[1;31m: dlopen(/Users/epochoid/opt/anaconda3/envs/py3.10/lib/python3.10/lib-dynload/_ssl.cpython-310-darwin.so, 0x0002): Library not loaded: @rpath/libssl.1.1.dylib\n",
      "\u001b[1;31m  Referenced from: <D8C92A5A-26A0-37B8-B5E3-97A73CD85BF3> /Users/epochoid/opt/anaconda3/envs/py3.10/lib/python3.10/lib-dynload/_ssl.cpython-310-darwin.so\n",
      "\u001b[1;31m  Reason: tried: '/Users/epochoid/opt/anaconda3/envs/py3.10/lib/python3.10/lib-dynload/../../libssl.1.1.dylib' (mach-o file, but is an incompatible architecture (have 'arm64', need 'x86_64')), '/Users/epochoid/opt/anaconda3/envs/py3.10/lib/python3.10/lib-dynload/../../libssl.1.1.dylib' (mach-o file, but is an incompatible architecture (have 'arm64', need 'x86_64')), '/Users/epochoid/opt/anaconda3/envs/py3.10/bin/../lib/libssl.1.1.dylib' (mach-o file, but is an incompatible architecture (have 'arm64', need 'x86_64')), '/Users/epochoid/opt/anaconda3/envs/py3.10/bin/../lib/libssl.1.1.dylib' (mach-o file, but is an incompatible architecture (have 'arm64', need 'x86_64')), '/usr/local/lib/libssl.1.1.dylib' (no such file), '/usr/lib/libssl.1.1.dylib' (no such file, not in dyld cache). \n",
      "\u001b[1;31mView Jupyter <a href='command:jupyter.viewOutput'>log</a> for further details."
     ]
    }
   ],
   "source": [
    "import tomllib"
   ]
  },
  {
   "cell_type": "code",
   "execution_count": null,
   "metadata": {},
   "outputs": [],
   "source": []
  }
 ],
 "metadata": {
  "kernelspec": {
   "display_name": "Python 3",
   "language": "python",
   "name": "python3"
  },
  "language_info": {
   "name": "python",
   "version": "3.11.2"
  },
  "orig_nbformat": 4
 },
 "nbformat": 4,
 "nbformat_minor": 2
}
