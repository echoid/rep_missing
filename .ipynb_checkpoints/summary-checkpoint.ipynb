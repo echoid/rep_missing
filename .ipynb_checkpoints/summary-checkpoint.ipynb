{
 "cells": [
  {
   "cell_type": "code",
   "execution_count": 1,
   "metadata": {},
   "outputs": [],
   "source": [
    "import pandas as pd"
   ]
  },
  {
   "cell_type": "code",
   "execution_count": 10,
   "metadata": {},
   "outputs": [],
   "source": [
    "data_list = [\"banknote\", \"climate_model_crashes\", \"connectionist_bench_sonar\", \"qsar_biodegradation\", \"yeast\"]\n",
    "type_list = [\"logistic\", \"mar\", \"mcar\"]\n",
    "para_list = [0.5]\n",
    "full_norm = [\"full\"]\n",
    "\n",
    "models = [\"baseline\",\"genRBF\",\"KPCA_RBF\",\"PPCA\",\"IK\"]"
   ]
  },
  {
   "cell_type": "code",
   "execution_count": 11,
   "metadata": {},
   "outputs": [],
   "source": [
    "data_list = [\"banknote\"]\n",
    "type_list = [\"mcar\"]\n",
    "para_list = [0.5]\n",
    "full_norm = [\"full\"]"
   ]
  },
  {
   "cell_type": "code",
   "execution_count": 16,
   "metadata": {},
   "outputs": [
    {
     "name": "stdout",
     "output_type": "stream",
     "text": [
      "banknote mcar 0.5 full\n",
      "       model       Imputer  Accuracy Score  F1 Score\n",
      "0   baseline  mean Imputer         0.77818   0.76740\n",
      "1   baseline  mice Imputer         0.88727   0.88641\n",
      "2     genRBF          zero         0.51713   0.42947\n",
      "3     genRBF          mean         0.52369   0.43238\n",
      "4     genRBF          mice         0.50766   0.43348\n",
      "5   KPCA_RBF          zero         0.79863   0.79733\n",
      "6   KPCA_RBF          mean         0.79863   0.79733\n",
      "7   KPCA_RBF          mice         0.80886   0.80048\n",
      "8       PPCA          zero         0.77601   0.76186\n",
      "9       PPCA          mean         0.77601   0.76186\n",
      "10      PPCA          mice         0.77891   0.76818\n",
      "11        IK          zero         0.84980   0.84455\n",
      "12        IK          mean         0.84980   0.84455\n",
      "13        IK          mice         0.84837   0.84400\n"
     ]
    }
   ],
   "source": [
    "df = pd.DataFrame()\n",
    "for data in data_list:\n",
    "    for type in type_list:\n",
    "        for para in para_list:\n",
    "            for f_n in full_norm:\n",
    "                print(data, type, para, f_n)\n",
    "                for model in models:\n",
    "                    sub_df = pd.read_csv(\"results/{}/{}/{}/{}_{}.csv\".format(\n",
    "                        model, data, type, para, f_n\n",
    "                    ))\n",
    "                    # Add a new column named \"model\" filled with the model name\n",
    "                    sub_df.insert(0,'model','')\n",
    "                    sub_df['model'] = model\n",
    "                    # Concatenate sub_df to df\n",
    "                    df = pd.concat([df, sub_df], ignore_index=True)\n",
    "                print(df)\n"
   ]
  }
 ],
 "metadata": {
  "kernelspec": {
   "display_name": "Python 3",
   "language": "python",
   "name": "python3"
  },
  "language_info": {
   "codemirror_mode": {
    "name": "ipython",
    "version": 3
   },
   "file_extension": ".py",
   "mimetype": "text/x-python",
   "name": "python",
   "nbconvert_exporter": "python",
   "pygments_lexer": "ipython3",
   "version": "3.10.13"
  }
 },
 "nbformat": 4,
 "nbformat_minor": 2
}
