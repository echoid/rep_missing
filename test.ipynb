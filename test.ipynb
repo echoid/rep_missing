{
 "cells": [
  {
   "cell_type": "code",
   "execution_count": 87,
   "metadata": {},
   "outputs": [],
   "source": [
    "from sklearn.datasets import make_circles\n",
    "from sklearn.model_selection import train_test_split\n",
    "from sklearn.metrics.pairwise import rbf_kernel\n",
    "from sklearn.decomposition import PCA, KernelPCA\n",
    "\n",
    "import os\n",
    "import sys\n",
    "import pandas as pd\n",
    "import numpy as np\n",
    "from sklearn.metrics import accuracy_score, f1_score\n",
    "from sklearn.experimental import enable_iterative_imputer\n",
    "from sklearn.impute import SimpleImputer, IterativeImputer\n",
    "from sklearn.svm import SVC\n",
    "from load_txt import load_txt\n",
    "from sklearn.decomposition import PCA, KernelPCA\n",
    "from ik import IKSimilarity\n",
    "from sklearn.neighbors import KDTree\n",
    "\n",
    "import numpy as np\n",
    "from sklearn.svm import SVC\n",
    "from sklearn.metrics import accuracy_score\n",
    "from sklearn.datasets import make_classification\n",
    "from sklearn.model_selection import train_test_split\n",
    "\n",
    "x,y = make_classification(n_samples = 1000)\n",
    "x_train, x_test, y_train, y_test = train_test_split(x, y, stratify = y)\n",
    "\n",
    "\n",
    "# X, y = make_circles(n_samples=1_000, factor=0.3, noise=0.05, random_state=0)\n",
    "# X_train, X_test, y_train, y_test = train_test_split(X, y, stratify=y, random_state=0)\n",
    "\n",
    "\n"
   ]
  },
  {
   "cell_type": "code",
   "execution_count": 80,
   "metadata": {},
   "outputs": [],
   "source": [
    "import numpy as np\n",
    "from sklearn.utils import check_random_state\n",
    "from sklearn.metrics.pairwise import pairwise_distances\n",
    "from sklearn.neighbors import KDTree\n",
    "\n",
    "def IKFeature(data, Sdata=None, psi=64, t=200, Sp=True):\n",
    "    if Sdata is None:\n",
    "        Sdata = data.copy()\n",
    "\n",
    "    sizeS = Sdata.shape[0]\n",
    "    sizeN = data.shape[0]\n",
    "\n",
    "    for _ in range(t):\n",
    "        subIndex = check_random_state(None).choice(sizeS, psi, replace=False)\n",
    "        \n",
    "        tdata = Sdata[subIndex, :]\n",
    "        #distances = pairwise_distances(tdata, data, metric='euclidean')\n",
    "        #nn_indices = np.argmin(distances, axis=0)\n",
    "        tree = KDTree(tdata) \n",
    "        dist, nn_indices = tree.query(data, k=1)        \n",
    "        \n",
    "        OneFeature = np.zeros((sizeN, psi), dtype=int)\n",
    "        OneFeature[np.arange(sizeN), nn_indices] = 1\n",
    "        \n",
    "        if Feature is None:\n",
    "            Feature = OneFeature  # Initialize Feature with OneFeature in the first iteration\n",
    "        else:\n",
    "            Feature = np.hstack((Feature, OneFeature))  # Add OneFeature to Feature vertically\n",
    "\n",
    "    return Feature  # sparse matrix\n",
    " \n",
    "\n",
    "def IKSimilarity(data, Sdata=None, psi=64, t=200):\n",
    "    Feature = IKFeature(data, Sdata, psi, t)\n",
    "    SimMatrix = np.dot(Feature, Feature.T) / t\n",
    "    return SimMatrix\n",
    "\n"
   ]
  },
  {
   "cell_type": "code",
   "execution_count": 92,
   "metadata": {},
   "outputs": [],
   "source": [
    "def Build_tree(Sdata, psi=64, t=200):\n",
    "\n",
    "    sizeS = Sdata.shape[0]\n",
    "    Feature = None\n",
    "    \n",
    "    tree_list = []\n",
    "    for _ in range(t):\n",
    "        subIndex = check_random_state(None).choice(sizeS, psi, replace=False)\n",
    "        \n",
    "        tdata = Sdata[subIndex, :]\n",
    "        #distances = pairwise_distances(tdata, data, metric='euclidean')\n",
    "        #nn_indices = np.argmin(distances, axis=0)\n",
    "        tree = KDTree(tdata) \n",
    "        \n",
    "        tree_list.append(tree)\n",
    "    return tree_list\n",
    "    \n",
    "#         dist, nn_indices = tree.query(data, k=1)        \n",
    "        \n",
    "#         OneFeature = np.zeros((sizeN, psi), dtype=int)\n",
    "#         OneFeature[np.arange(sizeN), nn_indices] = 1\n",
    "        \n",
    "#         if Feature is None:\n",
    "#             Feature = OneFeature  # Initialize Feature with OneFeature in the first iteration\n",
    "#         else:\n",
    "#             Feature = np.hstack((Feature, OneFeature))  # Add OneFeature to Feature vertically\n",
    "\n",
    "#     return Feature  # sparse matrix\n",
    " "
   ]
  },
  {
   "cell_type": "code",
   "execution_count": null,
   "metadata": {},
   "outputs": [],
   "source": []
  },
  {
   "cell_type": "code",
   "execution_count": 94,
   "metadata": {},
   "outputs": [],
   "source": [
    "tree_list = Build_tree(x_train)"
   ]
  },
  {
   "cell_type": "code",
   "execution_count": 100,
   "metadata": {},
   "outputs": [],
   "source": [
    "def IKFeature_tree(data, tree_list, psi=64, t=200):\n",
    "    sizeN = data.shape[0]\n",
    "    Feature = None\n",
    "\n",
    "    for _ in range(t):\n",
    "        tree = tree_list[_]\n",
    "        dist, nn_indices = tree.query(data, k=1)        \n",
    "        \n",
    "        OneFeature = np.zeros((sizeN, psi), dtype=int)\n",
    "        OneFeature[np.arange(sizeN), nn_indices] = 1\n",
    "        \n",
    "        if Feature is None:\n",
    "            Feature = OneFeature  # Initialize Feature with OneFeature in the first iteration\n",
    "        else:\n",
    "            Feature = np.hstack((Feature, OneFeature))  # Add OneFeature to Feature vertically\n",
    "\n",
    "    return Feature  # sparse matrix\n",
    " \n"
   ]
  },
  {
   "cell_type": "code",
   "execution_count": null,
   "metadata": {},
   "outputs": [],
   "source": []
  },
  {
   "cell_type": "code",
   "execution_count": null,
   "metadata": {},
   "outputs": [],
   "source": []
  },
  {
   "cell_type": "code",
   "execution_count": 103,
   "metadata": {},
   "outputs": [],
   "source": [
    "train_feature = IKFeature_tree(x_train, tree_list)"
   ]
  },
  {
   "cell_type": "code",
   "execution_count": null,
   "metadata": {},
   "outputs": [],
   "source": []
  },
  {
   "cell_type": "code",
   "execution_count": 104,
   "metadata": {},
   "outputs": [],
   "source": [
    "test_feature = IKFeature_tree(x_test, tree_list)"
   ]
  },
  {
   "cell_type": "code",
   "execution_count": 108,
   "metadata": {},
   "outputs": [],
   "source": [
    "t = 200"
   ]
  },
  {
   "cell_type": "code",
   "execution_count": 105,
   "metadata": {},
   "outputs": [
    {
     "data": {
      "text/plain": [
       "(750, 12800)"
      ]
     },
     "execution_count": 105,
     "metadata": {},
     "output_type": "execute_result"
    }
   ],
   "source": [
    "train_feature.shape"
   ]
  },
  {
   "cell_type": "code",
   "execution_count": 106,
   "metadata": {},
   "outputs": [
    {
     "data": {
      "text/plain": [
       "(250, 12800)"
      ]
     },
     "execution_count": 106,
     "metadata": {},
     "output_type": "execute_result"
    }
   ],
   "source": [
    "test_feature.shape"
   ]
  },
  {
   "cell_type": "code",
   "execution_count": 109,
   "metadata": {},
   "outputs": [
    {
     "data": {
      "text/plain": [
       "array([[64., 64., 64., ..., 64., 64., 64.],\n",
       "       [64., 64., 64., ..., 64., 64., 64.],\n",
       "       [64., 64., 64., ..., 64., 64., 64.],\n",
       "       ...,\n",
       "       [64., 64., 64., ..., 64., 64., 64.],\n",
       "       [64., 64., 64., ..., 64., 64., 64.],\n",
       "       [64., 64., 64., ..., 64., 64., 64.]])"
      ]
     },
     "execution_count": 109,
     "metadata": {},
     "output_type": "execute_result"
    }
   ],
   "source": [
    "np.dot(train_feature, train_feature.T) / t"
   ]
  },
  {
   "cell_type": "code",
   "execution_count": null,
   "metadata": {},
   "outputs": [],
   "source": []
  },
  {
   "cell_type": "code",
   "execution_count": null,
   "metadata": {},
   "outputs": [],
   "source": []
  },
  {
   "cell_type": "code",
   "execution_count": null,
   "metadata": {},
   "outputs": [],
   "source": []
  },
  {
   "cell_type": "code",
   "execution_count": null,
   "metadata": {},
   "outputs": [],
   "source": []
  },
  {
   "cell_type": "code",
   "execution_count": null,
   "metadata": {},
   "outputs": [],
   "source": []
  },
  {
   "cell_type": "code",
   "execution_count": null,
   "metadata": {},
   "outputs": [],
   "source": [
    "\n",
    "\n",
    "# Method 2\n",
    "def get_gram(x1, x2, kernel):\n",
    "    return np.array([[kernel(_x1, _x2) for _x2 in x2] for _x1 in x1])\n",
    "\n",
    "def RBF(x1, x2, gamma  = 1):\n",
    "    return np.exp(-gamma * np.linalg.norm(x1-x2))\n",
    "\n",
    "clf1 = SVC(kernel = 'precomputed')\n",
    "clf1.fit(get_gram(x_train, x_train, RBF), y_train)\n",
    "print(f'Accuracy on Custom Kernel: {accuracy_score(y_test, clf1.predict(get_gram(x_test, x_train, RBF)))}')\n"
   ]
  },
  {
   "cell_type": "code",
   "execution_count": 53,
   "metadata": {},
   "outputs": [
    {
     "data": {
      "text/plain": [
       "1.0"
      ]
     },
     "execution_count": 53,
     "metadata": {},
     "output_type": "execute_result"
    }
   ],
   "source": []
  },
  {
   "cell_type": "code",
   "execution_count": 89,
   "metadata": {},
   "outputs": [
    {
     "data": {
      "text/plain": [
       "array([[-0.20859006,  0.98726917, -0.45878911, ..., -1.31777554,\n",
       "        -0.93826654,  0.90428525],\n",
       "       [ 0.42733036, -0.14509267, -1.74282177, ...,  1.30932456,\n",
       "         2.28761128,  0.69444053],\n",
       "       [ 0.06649308, -0.29983229,  1.40733446, ..., -0.06199133,\n",
       "         1.07556671,  0.68275835],\n",
       "       ...,\n",
       "       [-0.91710569, -0.73271751, -1.66633431, ...,  0.01258449,\n",
       "         0.83710496, -0.88024936],\n",
       "       [ 0.02470963, -0.32864367, -0.17992339, ..., -0.43626829,\n",
       "        -0.06912585,  0.47887312],\n",
       "       [-0.50776275,  0.01291784,  0.71763245, ..., -1.11798464,\n",
       "         1.36597444,  1.50631067]])"
      ]
     },
     "execution_count": 89,
     "metadata": {},
     "output_type": "execute_result"
    }
   ],
   "source": [
    "x_train"
   ]
  },
  {
   "cell_type": "code",
   "execution_count": 86,
   "metadata": {},
   "outputs": [
    {
     "name": "stdout",
     "output_type": "stream",
     "text": [
      "Train and Train (750, 12800)\n",
      "Test and Train (250, 12800)\n"
     ]
    }
   ],
   "source": [
    "print(\"Train and Train\",IKFeature(x_train,x_train).shape)\n",
    "#print(\"Train and Test\",IKFeature(x_train,x_test).shape)\n",
    "#print(\"Test and Test\",IKFeature(x_test,x_test).shape)\n",
    "print(\"Test and Train\",IKFeature(x_test,x_train).shape)"
   ]
  },
  {
   "cell_type": "code",
   "execution_count": 81,
   "metadata": {},
   "outputs": [
    {
     "data": {
      "text/plain": [
       "(750, 750)"
      ]
     },
     "execution_count": 81,
     "metadata": {},
     "output_type": "execute_result"
    }
   ],
   "source": [
    "# Find train Kernal\n",
    "\n",
    "'''\n",
    "IKSimilarity <- function(data, Sdata=data, psi = 64, t = 200) {\n",
    "  Feature<-IKFeature(data, Sdata, psi, t)\n",
    "  SimMatrix <- Feature%*%t(as.matrix(Feature))/t # the similarity matrix based on Isolation kernel\n",
    "}\n",
    "'''\n",
    "\n",
    "# IKFeature(x_train,x_train) %*% IKFeature(x_train,x_train).T\n",
    "\n",
    "# (750, 12800)  %*% (12800, 750)  = (750, 750)\n"
   ]
  },
  {
   "cell_type": "code",
   "execution_count": 82,
   "metadata": {},
   "outputs": [
    {
     "data": {
      "text/plain": [
       "(750, 750)"
      ]
     },
     "execution_count": 82,
     "metadata": {},
     "output_type": "execute_result"
    }
   ],
   "source": [
    "# Find test Kernal (FAILED)\n",
    "\n",
    "# IKFeature(x_train,x_test) %*% IKFeature(x_train,x_test).T\n",
    "\n",
    "# (750, 12800)  %*% (12800, 750)  = (750, 750)"
   ]
  },
  {
   "cell_type": "code",
   "execution_count": null,
   "metadata": {},
   "outputs": [],
   "source": [
    "## Cal similarity matrix manually"
   ]
  },
  {
   "cell_type": "code",
   "execution_count": 72,
   "metadata": {},
   "outputs": [],
   "source": [
    "train_feature = IKFeature(x_train,x_train)"
   ]
  },
  {
   "cell_type": "code",
   "execution_count": 73,
   "metadata": {},
   "outputs": [],
   "source": [
    "test_feature = IKFeature(x_test,x_train)"
   ]
  },
  {
   "cell_type": "code",
   "execution_count": 74,
   "metadata": {},
   "outputs": [],
   "source": [
    "t = 200"
   ]
  },
  {
   "cell_type": "code",
   "execution_count": 75,
   "metadata": {},
   "outputs": [],
   "source": [
    "## Similarity for train \n",
    "\n",
    "\n",
    "# IKFeature(x_train,x_train) %*% IKFeature(x_train,x_train).T\n",
    "\n",
    "# (750, 12800) %*% (12800,750)\n",
    "\n",
    "\n",
    "train_sim = np.dot(train_feature, train_feature.T) / t\n"
   ]
  },
  {
   "cell_type": "code",
   "execution_count": 76,
   "metadata": {},
   "outputs": [],
   "source": [
    "## Similarity for test \n",
    "\n",
    "\n",
    "# IKFeature(x_test,x_train) %*% IKFeature(x_train,x_train).T\n",
    "\n",
    "# (250, 12800) %*% (12800,750)\n",
    "\n",
    "\n",
    "test_sim = np.dot(test_feature, train_feature.T) / t\n"
   ]
  },
  {
   "cell_type": "code",
   "execution_count": 77,
   "metadata": {},
   "outputs": [
    {
     "data": {
      "text/plain": [
       "(250, 750)"
      ]
     },
     "execution_count": 77,
     "metadata": {},
     "output_type": "execute_result"
    }
   ],
   "source": []
  },
  {
   "cell_type": "code",
   "execution_count": 78,
   "metadata": {},
   "outputs": [
    {
     "data": {
      "text/plain": [
       "(750, 750)"
      ]
     },
     "execution_count": 78,
     "metadata": {},
     "output_type": "execute_result"
    }
   ],
   "source": []
  },
  {
   "cell_type": "code",
   "execution_count": 115,
   "metadata": {},
   "outputs": [],
   "source": [
    "class Isolation_Kernal:\n",
    "    def __init__(self, psi=64, t=200):\n",
    "        self.t = t  # attribute: t\n",
    "        self.psi = psi    # attribute: t\n",
    "        self.tree_list = []\n",
    "\n",
    "    def build_tree(self,Sdata):\n",
    "        t = self.t\n",
    "        psi = self.psi\n",
    "        \n",
    "        sizeS = Sdata.shape[0]\n",
    "\n",
    "        tree_list = []\n",
    "        for _ in range(t):\n",
    "            subIndex = check_random_state(None).choice(sizeS, psi, replace=False)\n",
    "\n",
    "            tdata = Sdata[subIndex, :]\n",
    "            #distances = pairwise_distances(tdata, data, metric='euclidean')\n",
    "            #nn_indices = np.argmin(distances, axis=0)\n",
    "            tree = KDTree(tdata) \n",
    "\n",
    "            tree_list.append(tree)\n",
    "            \n",
    "        self.tree_list = tree_list\n",
    "        \n",
    "        \n",
    "    def build_feature(self,data):\n",
    "        t = self.t\n",
    "        psi = self.psi\n",
    "        tree_list = self.tree_list\n",
    "        \n",
    "        sizeN = data.shape[0]\n",
    "        Feature = None\n",
    "\n",
    "        for _ in range(t):\n",
    "            tree = tree_list[_]\n",
    "            dist, nn_indices = tree.query(data, k=1)        \n",
    "\n",
    "            OneFeature = np.zeros((sizeN, psi), dtype=int)\n",
    "            OneFeature[np.arange(sizeN), nn_indices] = 1\n",
    "\n",
    "            if Feature is None:\n",
    "                Feature = OneFeature  # Initialize Feature with OneFeature in the first iteration\n",
    "            else:\n",
    "                Feature = np.hstack((Feature, OneFeature))  # Add OneFeature to Feature vertically\n",
    "\n",
    "        return Feature  # sparse matrix\n",
    "    \n",
    "    def cal_similarity(self,feature1,feature2):\n",
    "        return np.dot(feature1, feature2.T) / self.t"
   ]
  },
  {
   "cell_type": "code",
   "execution_count": null,
   "metadata": {},
   "outputs": [],
   "source": []
  },
  {
   "cell_type": "code",
   "execution_count": 117,
   "metadata": {},
   "outputs": [],
   "source": [
    "IK = Isolation_Kernal()"
   ]
  },
  {
   "cell_type": "code",
   "execution_count": null,
   "metadata": {},
   "outputs": [],
   "source": []
  },
  {
   "cell_type": "code",
   "execution_count": null,
   "metadata": {},
   "outputs": [],
   "source": []
  },
  {
   "cell_type": "code",
   "execution_count": 118,
   "metadata": {},
   "outputs": [],
   "source": [
    "IK.build_tree(X_train)"
   ]
  },
  {
   "cell_type": "code",
   "execution_count": null,
   "metadata": {},
   "outputs": [],
   "source": []
  },
  {
   "cell_type": "code",
   "execution_count": 119,
   "metadata": {},
   "outputs": [],
   "source": [
    "train_feature = IK.build_feature(X_train)"
   ]
  },
  {
   "cell_type": "code",
   "execution_count": 120,
   "metadata": {},
   "outputs": [],
   "source": [
    "test_feature = IK.build_feature(X_test)"
   ]
  },
  {
   "cell_type": "code",
   "execution_count": 121,
   "metadata": {},
   "outputs": [
    {
     "data": {
      "text/plain": [
       "array([[56.565, 56.565, 56.565, ..., 56.565, 56.565, 56.565],\n",
       "       [56.565, 56.565, 56.565, ..., 56.565, 56.565, 56.565],\n",
       "       [56.565, 56.565, 56.565, ..., 56.565, 56.565, 56.565],\n",
       "       ...,\n",
       "       [56.565, 56.565, 56.565, ..., 56.565, 56.565, 56.565],\n",
       "       [56.565, 56.565, 56.565, ..., 56.565, 56.565, 56.565],\n",
       "       [56.565, 56.565, 56.565, ..., 56.565, 56.565, 56.565]])"
      ]
     },
     "execution_count": 121,
     "metadata": {},
     "output_type": "execute_result"
    }
   ],
   "source": [
    "IK.cal_similarity(test_feature,train_feature)"
   ]
  },
  {
   "cell_type": "code",
   "execution_count": 122,
   "metadata": {},
   "outputs": [
    {
     "data": {
      "text/plain": [
       "array([[64., 64., 64., ..., 64., 64., 64.],\n",
       "       [64., 64., 64., ..., 64., 64., 64.],\n",
       "       [64., 64., 64., ..., 64., 64., 64.],\n",
       "       ...,\n",
       "       [64., 64., 64., ..., 64., 64., 64.],\n",
       "       [64., 64., 64., ..., 64., 64., 64.],\n",
       "       [64., 64., 64., ..., 64., 64., 64.]])"
      ]
     },
     "execution_count": 122,
     "metadata": {},
     "output_type": "execute_result"
    }
   ],
   "source": [
    "IK.cal_similarity(train_feature,train_feature)"
   ]
  },
  {
   "cell_type": "code",
   "execution_count": null,
   "metadata": {},
   "outputs": [],
   "source": []
  },
  {
   "cell_type": "code",
   "execution_count": null,
   "metadata": {},
   "outputs": [],
   "source": []
  },
  {
   "cell_type": "code",
   "execution_count": null,
   "metadata": {},
   "outputs": [],
   "source": []
  }
 ],
 "metadata": {
  "kernelspec": {
   "display_name": "Python 3 (ipykernel)",
   "language": "python",
   "name": "python3"
  },
  "language_info": {
   "codemirror_mode": {
    "name": "ipython",
    "version": 3
   },
   "file_extension": ".py",
   "mimetype": "text/x-python",
   "name": "python",
   "nbconvert_exporter": "python",
   "pygments_lexer": "ipython3",
   "version": "3.10.13"
  }
 },
 "nbformat": 4,
 "nbformat_minor": 4
}
