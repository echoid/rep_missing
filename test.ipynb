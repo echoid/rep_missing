{
 "cells": [
  {
   "cell_type": "code",
   "execution_count": 6,
   "metadata": {},
   "outputs": [],
   "source": [
    "from sklearn.datasets import make_circles\n",
    "from sklearn.model_selection import train_test_split\n",
    "\n",
    "X, y = make_circles(n_samples=1_000, factor=0.3, noise=0.05, random_state=0)\n",
    "X_train, X_test, y_train, y_test = train_test_split(X, y, stratify=y, random_state=0)\n",
    "\n",
    "\n"
   ]
  },
  {
   "cell_type": "code",
   "execution_count": 9,
   "metadata": {},
   "outputs": [
    {
     "data": {
      "text/plain": [
       "(750, 750)"
      ]
     },
     "execution_count": 9,
     "metadata": {},
     "output_type": "execute_result"
    }
   ],
   "source": [
    "from sklearn.metrics.pairwise import rbf_kernel\n",
    "\n"
   ]
  },
  {
   "cell_type": "code",
   "execution_count": 12,
   "metadata": {},
   "outputs": [
    {
     "data": {
      "text/plain": [
       "array([[1.        , 0.73451141, 0.63319839, ..., 0.61076305, 0.14534005,\n",
       "        0.3783166 ],\n",
       "       [0.73451141, 1.        , 0.97782212, ..., 0.96092166, 0.48893632,\n",
       "        0.55593275],\n",
       "       [0.63319839, 0.97782212, 1.        , ..., 0.99685392, 0.54987154,\n",
       "        0.47558138],\n",
       "       ...,\n",
       "       [0.61076305, 0.96092166, 0.99685392, ..., 1.        , 0.54187099,\n",
       "        0.43166512],\n",
       "       [0.14534005, 0.48893632, 0.54987154, ..., 0.54187099, 1.        ,\n",
       "        0.43127951],\n",
       "       [0.3783166 , 0.55593275, 0.47558138, ..., 0.43166512, 0.43127951,\n",
       "        1.        ]])"
      ]
     },
     "execution_count": 12,
     "metadata": {},
     "output_type": "execute_result"
    }
   ],
   "source": [
    "rbf_kernel(X_train)"
   ]
  },
  {
   "cell_type": "code",
   "execution_count": 16,
   "metadata": {},
   "outputs": [],
   "source": [
    "from sklearn.decomposition import PCA, KernelPCA\n",
    "\n",
    "\n"
   ]
  },
  {
   "cell_type": "code",
   "execution_count": null,
   "metadata": {},
   "outputs": [],
   "source": []
  },
  {
   "cell_type": "code",
   "execution_count": 17,
   "metadata": {},
   "outputs": [
    {
     "data": {
      "text/plain": [
       "(750, 67)"
      ]
     },
     "execution_count": 17,
     "metadata": {},
     "output_type": "execute_result"
    }
   ],
   "source": [
    "X_train_kernel_pca.shape"
   ]
  },
  {
   "cell_type": "code",
   "execution_count": 5,
   "metadata": {},
   "outputs": [
    {
     "data": {
      "text/plain": [
       "array([[0.71653131, 0.51341712, 1.        ],\n",
       "       [0.51341712, 0.71653131, 0.36787944],\n",
       "       [0.71653131, 0.51341712, 1.        ]])"
      ]
     },
     "execution_count": 5,
     "metadata": {},
     "output_type": "execute_result"
    }
   ],
   "source": []
  },
  {
   "cell_type": "markdown",
   "metadata": {},
   "source": [
    "# Isolation Kernal from R"
   ]
  },
  {
   "cell_type": "code",
   "execution_count": 117,
   "metadata": {},
   "outputs": [],
   "source": [
    "import numpy as np\n",
    "from sklearn.utils import check_random_state\n",
    "from sklearn.metrics.pairwise import pairwise_distances\n",
    "\n",
    "def IKFeature(data, Sdata=None, psi=64, t=200, Sp=True):\n",
    "    if Sdata is None:\n",
    "        Sdata = data.copy()\n",
    "\n",
    "    sizeS = Sdata.shape[0]\n",
    "    sizeN = data.shape[0]\n",
    "    Feature = None\n",
    "\n",
    "    for _ in range(t):\n",
    "        subIndex = check_random_state(None).choice(sizeS, psi, replace=False)\n",
    "        \n",
    "        tdata = Sdata[subIndex, :]\n",
    "        distances = pairwise_distances(tdata, data, metric='euclidean')\n",
    "        #print(distances)\n",
    "        nn_indices = np.argmin(distances, axis=0)\n",
    "        OneFeature = np.zeros((sizeN, psi), dtype=int)\n",
    "        OneFeature[np.arange(sizeN), nn_indices] = 1\n",
    "        \n",
    "        if Feature is None:\n",
    "            Feature = OneFeature  # Initialize Feature with OneFeature in the first iteration\n",
    "        else:\n",
    "            Feature = np.hstack((Feature, OneFeature))  # Add OneFeature to Feature vertically\n",
    "\n",
    "\n",
    "    return Feature  # sparse matrix\n",
    " \n",
    "\n",
    "\n",
    "def IKSimilarity(data, Sdata=None, psi=64, t=200):\n",
    "    Feature = IKFeature(data, Sdata, psi, t)\n",
    "    SimMatrix = np.dot(Feature, Feature.T) / t\n",
    "    return SimMatrix"
   ]
  },
  {
   "cell_type": "code",
   "execution_count": 114,
   "metadata": {},
   "outputs": [
    {
     "name": "stdout",
     "output_type": "stream",
     "text": [
      "[3 1 0 0 2]\n",
      "[0 1 2 3 4] [3 1 0 0 2]\n",
      "[1 2 0 0 3]\n",
      "[0 1 2 3 4] [1 2 0 0 3]\n"
     ]
    }
   ],
   "source": [
    "# Compute SIKFeatures (sparse matrix)\n",
    "SIKFeatures = IKFeature(data[:5,], psi=128, t=2)"
   ]
  },
  {
   "cell_type": "code",
   "execution_count": 115,
   "metadata": {},
   "outputs": [
    {
     "data": {
      "text/plain": [
       "array([[0, 0, 0, 1, 0, 1, 0, 0],\n",
       "       [0, 1, 0, 0, 0, 0, 1, 0],\n",
       "       [1, 0, 0, 0, 1, 0, 0, 0],\n",
       "       [1, 0, 0, 0, 1, 0, 0, 0],\n",
       "       [0, 0, 1, 0, 0, 0, 0, 1]])"
      ]
     },
     "execution_count": 115,
     "metadata": {},
     "output_type": "execute_result"
    }
   ],
   "source": [
    "SIKFeatures"
   ]
  },
  {
   "cell_type": "code",
   "execution_count": 118,
   "metadata": {},
   "outputs": [],
   "source": [
    "from sklearn.datasets import load_iris\n",
    "\n",
    "\n",
    "# Load iris dataset\n",
    "iris = load_iris()\n",
    "data = iris.data[:, :4]  # Selecting first four columns\n",
    "\n",
    "# Compute SIKFeatures (sparse matrix)\n",
    "IKFeatures = IKFeature(data, psi=4, t=200)\n",
    "\n"
   ]
  },
  {
   "cell_type": "code",
   "execution_count": 123,
   "metadata": {},
   "outputs": [
    {
     "data": {
      "text/plain": [
       "(150, 150)"
      ]
     },
     "execution_count": 123,
     "metadata": {},
     "output_type": "execute_result"
    }
   ],
   "source": [
    "IKSimilarity_my(data, psi=4, t=200)"
   ]
  },
  {
   "cell_type": "code",
   "execution_count": 125,
   "metadata": {},
   "outputs": [
    {
     "name": "stdout",
     "output_type": "stream",
     "text": [
      "Combined Array:\n",
      "[[1]\n",
      " [2]\n",
      " [3]\n",
      " [4]\n",
      " [5]\n",
      " [6]]\n"
     ]
    }
   ],
   "source": [
    "import numpy as np\n",
    "\n",
    "# Assuming y_train and y_test are numpy arrays\n",
    "# Here's a sample creation of y_train and y_test for demonstration purposes\n",
    "y_train = np.array([1, 2, 3])\n",
    "y_test = np.array([4, 5, 6])\n",
    "\n",
    "# Stack y_train and y_test horizontally\n",
    "y_combined = \n",
    "\n",
    "print(\"Combined Array:\")\n",
    "print(y_combined)\n"
   ]
  }
 ],
 "metadata": {
  "kernelspec": {
   "display_name": "Python 3",
   "language": "python",
   "name": "python3"
  },
  "language_info": {
   "codemirror_mode": {
    "name": "ipython",
    "version": 3
   },
   "file_extension": ".py",
   "mimetype": "text/x-python",
   "name": "python",
   "nbconvert_exporter": "python",
   "pygments_lexer": "ipython3",
   "version": "3.10.13"
  }
 },
 "nbformat": 4,
 "nbformat_minor": 2
}
