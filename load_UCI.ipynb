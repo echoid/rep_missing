{
 "cells": [
  {
   "cell_type": "code",
   "execution_count": 90,
   "metadata": {},
   "outputs": [],
   "source": [
    "import os\n",
    "import numpy as np\n",
    "from sklearn.experimental import enable_iterative_imputer\n",
    "from sklearn.impute import IterativeImputer\n",
    "from sklearn.impute import SimpleImputer\n",
    "import pandas as pd\n",
    "import json"
   ]
  },
  {
   "cell_type": "code",
   "execution_count": 105,
   "metadata": {},
   "outputs": [],
   "source": [
    "data_list = ['banknote','california','climate_model_crashes','concrete_compression',\n",
    " 'connectionist_bench_sonar','qsar_biodegradation','wine_quality_red','wine_quality_white','yacht_hydrodynamics',\n",
    " 'yeast']\n",
    "\n",
    "clf_list = [\"banknote\",\"climate_model_crashes\",\"connectionist_bench_sonar\",\"qsar_biodegradation\",\"yeast\"]\n",
    "reg_list = ['concrete_compression','wine_quality_red','wine_quality_white','yacht_hydrodynamics']\n",
    "\n",
    "para_set = [0.3,0.5,0.7]\n",
    "type_list = [\"diffuse\",\"logistic\",\"mar\",\"mcar\"]\n",
    "\n",
    "prefilled_type = [\"zero\",\"mean\",\"mice\"]"
   ]
  },
  {
   "cell_type": "code",
   "execution_count": 100,
   "metadata": {},
   "outputs": [],
   "source": [
    "def find_mean_cov(train_data):\n",
    "    \n",
    "    means = np.mean(train_data, axis=0)\n",
    "\n",
    "    covariance_matrix = np.cov(train_data, rowvar=False)\n",
    "\n",
    "    return means,covariance_matrix"
   ]
  },
  {
   "cell_type": "code",
   "execution_count": 103,
   "metadata": {},
   "outputs": [],
   "source": [
    "def fill_zero(train_data_copy,train_data):\n",
    "    \n",
    "    if train_data_copy.shape != train_data.shape: \n",
    "        #print(\"need to refill\")\n",
    "        columns_with_all_nan = np.all(np.isnan(train_data), axis=0)\n",
    "        # Iterate over columns to fill in the first row with zeros if all NaN\n",
    "        for i, col_has_all_nan in enumerate(columns_with_all_nan):\n",
    "            if col_has_all_nan:\n",
    "                train_data[:, i] = 0\n",
    "\n",
    "        return train_data\n",
    "    else:\n",
    "        return train_data_copy"
   ]
  },
  {
   "cell_type": "code",
   "execution_count": 99,
   "metadata": {},
   "outputs": [],
   "source": [
    "def run_norm(train_data, save_name):\n",
    "\n",
    "    # fillintype,dataname,missingtype,missingpara,norm_full\n",
    "\n",
    "    fillintype = save_name[0]\n",
    "    prefilled_path = save_name[1]\n",
    "    norm_full = save_name[2]\n",
    "\n",
    "    # print(\"Before Fill\")\n",
    "    # print(train_data[-1,:])\n",
    "\n",
    "    if fillintype == \"mean\":\n",
    "        train_data_copy = train_data.copy()\n",
    "        # Impute missing values with column means\n",
    "        if fillintype == \"mean\":\n",
    "            # Create a SimpleImputer object with strategy set to 'mean'\n",
    "            imputer = SimpleImputer(strategy='mean')\n",
    "            # Fit the imputer on the training data and transform the data\n",
    "            train_data_copy = imputer.fit_transform(train_data)\n",
    "\n",
    "        # print(\"Afterfill\")\n",
    "        # print(train_data_copy[-1,:])\n",
    "        train_data = fill_zero(train_data_copy,train_data)\n",
    "        means, covariance_matrix = find_mean_cov(train_data) \n",
    "\n",
    "    elif fillintype == \"mice\":\n",
    "        train_data_copy = train_data.copy()\n",
    "        # Initialize the MICE imputer\n",
    "        mice_imputer = IterativeImputer()\n",
    "        # Impute missing values\n",
    "        train_data_copy = mice_imputer.fit_transform(train_data_copy)\n",
    "\n",
    "        # print(\"Afterfill\")\n",
    "        # print(train_data_copy[-1,:])\n",
    "        train_data = fill_zero(train_data_copy,train_data)\n",
    "        means, covariance_matrix = find_mean_cov(train_data)  \n",
    "\n",
    "    elif fillintype == \"zero\":\n",
    "        train_data_copy = train_data.copy()\n",
    "        # Impute missing values with zeros\n",
    "        train_data_copy[np.isnan(train_data_copy)] = 0\n",
    "        # print(\"Afterfill\")\n",
    "        # print(train_data_copy[-1,:])\n",
    "        train_data = fill_zero(train_data_copy,train_data)\n",
    "        means, covariance_matrix = find_mean_cov(train_data)  \n",
    "\n",
    "    # print(\"Afterfill_zero\")\n",
    "    # print()\n",
    "    # print(train_data[-1,:])\n",
    "    # print(means)\n",
    "    # print(covariance_matrix)\n",
    "    # Write parameters to files\n",
    "    # fillintype,dataname,missingtype,missingpara,norm/full\n",
    "    if not os.path.exists(\"{}/{}\".format(prefilled_path, fillintype)):\n",
    "        os.makedirs(\"{}/{}\".format(prefilled_path, fillintype))\n",
    "    #print(\"{}/{}/{}_cov.txt\".format(prefilled_path, fillintype, norm_full))\n",
    "    np.savetxt(\"{}/{}/{}_cov.txt\".format(prefilled_path, fillintype, norm_full), covariance_matrix, delimiter=',', fmt='%f')\n",
    "    np.savetxt(\"{}/{}/{}_mu.txt\".format(prefilled_path,fillintype, norm_full), means, delimiter=',', fmt='%f')\n"
   ]
  },
  {
   "cell_type": "code",
   "execution_count": 88,
   "metadata": {},
   "outputs": [],
   "source": []
  },
  {
   "cell_type": "code",
   "execution_count": 107,
   "metadata": {},
   "outputs": [
    {
     "name": "stdout",
     "output_type": "stream",
     "text": [
      "Data: banknote | Type: diffuse | Para: 0.3\n",
      "Data: banknote | Type: diffuse | Para: 0.5\n",
      "Data: banknote | Type: diffuse | Para: 0.7\n"
     ]
    },
    {
     "name": "stderr",
     "output_type": "stream",
     "text": [
      "d:\\miniconda3\\envs\\py3.10\\lib\\site-packages\\sklearn\\impute\\_iterative.py:800: ConvergenceWarning: [IterativeImputer] Early stopping criterion not reached.\n",
      "  warnings.warn(\n",
      "d:\\miniconda3\\envs\\py3.10\\lib\\site-packages\\sklearn\\impute\\_iterative.py:800: ConvergenceWarning: [IterativeImputer] Early stopping criterion not reached.\n",
      "  warnings.warn(\n",
      "d:\\miniconda3\\envs\\py3.10\\lib\\site-packages\\sklearn\\impute\\_iterative.py:800: ConvergenceWarning: [IterativeImputer] Early stopping criterion not reached.\n",
      "  warnings.warn(\n",
      "d:\\miniconda3\\envs\\py3.10\\lib\\site-packages\\sklearn\\impute\\_iterative.py:800: ConvergenceWarning: [IterativeImputer] Early stopping criterion not reached.\n",
      "  warnings.warn(\n",
      "d:\\miniconda3\\envs\\py3.10\\lib\\site-packages\\sklearn\\impute\\_iterative.py:800: ConvergenceWarning: [IterativeImputer] Early stopping criterion not reached.\n",
      "  warnings.warn(\n",
      "d:\\miniconda3\\envs\\py3.10\\lib\\site-packages\\sklearn\\impute\\_iterative.py:800: ConvergenceWarning: [IterativeImputer] Early stopping criterion not reached.\n",
      "  warnings.warn(\n",
      "d:\\miniconda3\\envs\\py3.10\\lib\\site-packages\\sklearn\\impute\\_iterative.py:800: ConvergenceWarning: [IterativeImputer] Early stopping criterion not reached.\n",
      "  warnings.warn(\n",
      "d:\\miniconda3\\envs\\py3.10\\lib\\site-packages\\sklearn\\impute\\_iterative.py:800: ConvergenceWarning: [IterativeImputer] Early stopping criterion not reached.\n",
      "  warnings.warn(\n"
     ]
    },
    {
     "name": "stdout",
     "output_type": "stream",
     "text": [
      "Data: banknote | Type: logistic | Para: 0.3\n",
      "Data: banknote | Type: logistic | Para: 0.5\n"
     ]
    },
    {
     "name": "stderr",
     "output_type": "stream",
     "text": [
      "d:\\miniconda3\\envs\\py3.10\\lib\\site-packages\\sklearn\\impute\\_iterative.py:800: ConvergenceWarning: [IterativeImputer] Early stopping criterion not reached.\n",
      "  warnings.warn(\n",
      "d:\\miniconda3\\envs\\py3.10\\lib\\site-packages\\sklearn\\impute\\_iterative.py:800: ConvergenceWarning: [IterativeImputer] Early stopping criterion not reached.\n",
      "  warnings.warn(\n",
      "d:\\miniconda3\\envs\\py3.10\\lib\\site-packages\\sklearn\\impute\\_iterative.py:800: ConvergenceWarning: [IterativeImputer] Early stopping criterion not reached.\n",
      "  warnings.warn(\n",
      "d:\\miniconda3\\envs\\py3.10\\lib\\site-packages\\sklearn\\impute\\_iterative.py:800: ConvergenceWarning: [IterativeImputer] Early stopping criterion not reached.\n",
      "  warnings.warn(\n",
      "d:\\miniconda3\\envs\\py3.10\\lib\\site-packages\\sklearn\\impute\\_iterative.py:800: ConvergenceWarning: [IterativeImputer] Early stopping criterion not reached.\n",
      "  warnings.warn(\n",
      "d:\\miniconda3\\envs\\py3.10\\lib\\site-packages\\sklearn\\impute\\_iterative.py:800: ConvergenceWarning: [IterativeImputer] Early stopping criterion not reached.\n",
      "  warnings.warn(\n",
      "d:\\miniconda3\\envs\\py3.10\\lib\\site-packages\\sklearn\\impute\\_iterative.py:800: ConvergenceWarning: [IterativeImputer] Early stopping criterion not reached.\n",
      "  warnings.warn(\n"
     ]
    },
    {
     "name": "stdout",
     "output_type": "stream",
     "text": [
      "Data: banknote | Type: logistic | Para: 0.7\n",
      "Data: banknote | Type: mar | Para: 0.3\n",
      "Data: banknote | Type: mar | Para: 0.5\n",
      "Data: banknote | Type: mar | Para: 0.7\n",
      "Data: banknote | Type: mcar | Para: 0.3\n"
     ]
    },
    {
     "name": "stderr",
     "output_type": "stream",
     "text": [
      "d:\\miniconda3\\envs\\py3.10\\lib\\site-packages\\sklearn\\impute\\_base.py:558: UserWarning: Skipping features without any observed values: [1]. At least one non-missing value is needed for imputation with strategy='mean'.\n",
      "  warnings.warn(\n",
      "d:\\miniconda3\\envs\\py3.10\\lib\\site-packages\\sklearn\\impute\\_base.py:558: UserWarning: Skipping features without any observed values: [1]. At least one non-missing value is needed for imputation with strategy='mean'.\n",
      "  warnings.warn(\n",
      "d:\\miniconda3\\envs\\py3.10\\lib\\site-packages\\sklearn\\impute\\_base.py:558: UserWarning: Skipping features without any observed values: [1]. At least one non-missing value is needed for imputation with strategy='mean'.\n",
      "  warnings.warn(\n",
      "d:\\miniconda3\\envs\\py3.10\\lib\\site-packages\\sklearn\\impute\\_base.py:558: UserWarning: Skipping features without any observed values: [1]. At least one non-missing value is needed for imputation with strategy='mean'.\n",
      "  warnings.warn(\n",
      "d:\\miniconda3\\envs\\py3.10\\lib\\site-packages\\sklearn\\impute\\_base.py:558: UserWarning: Skipping features without any observed values: [1]. At least one non-missing value is needed for imputation with strategy='mean'.\n",
      "  warnings.warn(\n",
      "d:\\miniconda3\\envs\\py3.10\\lib\\site-packages\\sklearn\\impute\\_base.py:558: UserWarning: Skipping features without any observed values: [1]. At least one non-missing value is needed for imputation with strategy='mean'.\n",
      "  warnings.warn(\n",
      "d:\\miniconda3\\envs\\py3.10\\lib\\site-packages\\sklearn\\impute\\_base.py:558: UserWarning: Skipping features without any observed values: [1]. At least one non-missing value is needed for imputation with strategy='mean'.\n",
      "  warnings.warn(\n",
      "d:\\miniconda3\\envs\\py3.10\\lib\\site-packages\\sklearn\\impute\\_base.py:558: UserWarning: Skipping features without any observed values: [1]. At least one non-missing value is needed for imputation with strategy='mean'.\n",
      "  warnings.warn(\n",
      "d:\\miniconda3\\envs\\py3.10\\lib\\site-packages\\sklearn\\impute\\_base.py:558: UserWarning: Skipping features without any observed values: [1]. At least one non-missing value is needed for imputation with strategy='mean'.\n",
      "  warnings.warn(\n",
      "d:\\miniconda3\\envs\\py3.10\\lib\\site-packages\\sklearn\\impute\\_base.py:558: UserWarning: Skipping features without any observed values: [1]. At least one non-missing value is needed for imputation with strategy='mean'.\n",
      "  warnings.warn(\n",
      "d:\\miniconda3\\envs\\py3.10\\lib\\site-packages\\sklearn\\impute\\_base.py:558: UserWarning: Skipping features without any observed values: [1 2]. At least one non-missing value is needed for imputation with strategy='mean'.\n",
      "  warnings.warn(\n",
      "d:\\miniconda3\\envs\\py3.10\\lib\\site-packages\\sklearn\\impute\\_base.py:558: UserWarning: Skipping features without any observed values: [1 2]. At least one non-missing value is needed for imputation with strategy='mean'.\n",
      "  warnings.warn(\n",
      "d:\\miniconda3\\envs\\py3.10\\lib\\site-packages\\sklearn\\impute\\_base.py:558: UserWarning: Skipping features without any observed values: [1 2]. At least one non-missing value is needed for imputation with strategy='mean'.\n",
      "  warnings.warn(\n",
      "d:\\miniconda3\\envs\\py3.10\\lib\\site-packages\\sklearn\\impute\\_base.py:558: UserWarning: Skipping features without any observed values: [1 2]. At least one non-missing value is needed for imputation with strategy='mean'.\n",
      "  warnings.warn(\n",
      "d:\\miniconda3\\envs\\py3.10\\lib\\site-packages\\sklearn\\impute\\_base.py:558: UserWarning: Skipping features without any observed values: [1 2]. At least one non-missing value is needed for imputation with strategy='mean'.\n",
      "  warnings.warn(\n",
      "d:\\miniconda3\\envs\\py3.10\\lib\\site-packages\\sklearn\\impute\\_base.py:558: UserWarning: Skipping features without any observed values: [1 2]. At least one non-missing value is needed for imputation with strategy='mean'.\n",
      "  warnings.warn(\n",
      "d:\\miniconda3\\envs\\py3.10\\lib\\site-packages\\sklearn\\impute\\_base.py:558: UserWarning: Skipping features without any observed values: [1 2]. At least one non-missing value is needed for imputation with strategy='mean'.\n",
      "  warnings.warn(\n",
      "d:\\miniconda3\\envs\\py3.10\\lib\\site-packages\\sklearn\\impute\\_base.py:558: UserWarning: Skipping features without any observed values: [1 2]. At least one non-missing value is needed for imputation with strategy='mean'.\n",
      "  warnings.warn(\n",
      "d:\\miniconda3\\envs\\py3.10\\lib\\site-packages\\sklearn\\impute\\_base.py:558: UserWarning: Skipping features without any observed values: [1 2]. At least one non-missing value is needed for imputation with strategy='mean'.\n",
      "  warnings.warn(\n",
      "d:\\miniconda3\\envs\\py3.10\\lib\\site-packages\\sklearn\\impute\\_base.py:558: UserWarning: Skipping features without any observed values: [1 2]. At least one non-missing value is needed for imputation with strategy='mean'.\n",
      "  warnings.warn(\n",
      "d:\\miniconda3\\envs\\py3.10\\lib\\site-packages\\sklearn\\impute\\_base.py:558: UserWarning: Skipping features without any observed values: [0 1 2]. At least one non-missing value is needed for imputation with strategy='mean'.\n",
      "  warnings.warn(\n",
      "d:\\miniconda3\\envs\\py3.10\\lib\\site-packages\\sklearn\\impute\\_base.py:558: UserWarning: Skipping features without any observed values: [0 1 2]. At least one non-missing value is needed for imputation with strategy='mean'.\n",
      "  warnings.warn(\n",
      "d:\\miniconda3\\envs\\py3.10\\lib\\site-packages\\sklearn\\impute\\_base.py:558: UserWarning: Skipping features without any observed values: [0 1 2]. At least one non-missing value is needed for imputation with strategy='mean'.\n",
      "  warnings.warn(\n",
      "d:\\miniconda3\\envs\\py3.10\\lib\\site-packages\\sklearn\\impute\\_base.py:558: UserWarning: Skipping features without any observed values: [0 1 2]. At least one non-missing value is needed for imputation with strategy='mean'.\n",
      "  warnings.warn(\n",
      "d:\\miniconda3\\envs\\py3.10\\lib\\site-packages\\sklearn\\impute\\_base.py:558: UserWarning: Skipping features without any observed values: [0 1 2]. At least one non-missing value is needed for imputation with strategy='mean'.\n",
      "  warnings.warn(\n",
      "d:\\miniconda3\\envs\\py3.10\\lib\\site-packages\\sklearn\\impute\\_base.py:558: UserWarning: Skipping features without any observed values: [0 1 2]. At least one non-missing value is needed for imputation with strategy='mean'.\n",
      "  warnings.warn(\n",
      "d:\\miniconda3\\envs\\py3.10\\lib\\site-packages\\sklearn\\impute\\_base.py:558: UserWarning: Skipping features without any observed values: [0 1 2]. At least one non-missing value is needed for imputation with strategy='mean'.\n",
      "  warnings.warn(\n",
      "d:\\miniconda3\\envs\\py3.10\\lib\\site-packages\\sklearn\\impute\\_base.py:558: UserWarning: Skipping features without any observed values: [0 1 2]. At least one non-missing value is needed for imputation with strategy='mean'.\n",
      "  warnings.warn(\n",
      "d:\\miniconda3\\envs\\py3.10\\lib\\site-packages\\sklearn\\impute\\_base.py:558: UserWarning: Skipping features without any observed values: [0 1 2]. At least one non-missing value is needed for imputation with strategy='mean'.\n",
      "  warnings.warn(\n",
      "d:\\miniconda3\\envs\\py3.10\\lib\\site-packages\\sklearn\\impute\\_base.py:558: UserWarning: Skipping features without any observed values: [0 1 2]. At least one non-missing value is needed for imputation with strategy='mean'.\n",
      "  warnings.warn(\n",
      "d:\\miniconda3\\envs\\py3.10\\lib\\site-packages\\sklearn\\impute\\_iterative.py:800: ConvergenceWarning: [IterativeImputer] Early stopping criterion not reached.\n",
      "  warnings.warn(\n",
      "d:\\miniconda3\\envs\\py3.10\\lib\\site-packages\\sklearn\\impute\\_iterative.py:800: ConvergenceWarning: [IterativeImputer] Early stopping criterion not reached.\n",
      "  warnings.warn(\n",
      "d:\\miniconda3\\envs\\py3.10\\lib\\site-packages\\sklearn\\impute\\_iterative.py:800: ConvergenceWarning: [IterativeImputer] Early stopping criterion not reached.\n",
      "  warnings.warn(\n",
      "d:\\miniconda3\\envs\\py3.10\\lib\\site-packages\\sklearn\\impute\\_iterative.py:800: ConvergenceWarning: [IterativeImputer] Early stopping criterion not reached.\n",
      "  warnings.warn(\n",
      "d:\\miniconda3\\envs\\py3.10\\lib\\site-packages\\sklearn\\impute\\_iterative.py:800: ConvergenceWarning: [IterativeImputer] Early stopping criterion not reached.\n",
      "  warnings.warn(\n",
      "d:\\miniconda3\\envs\\py3.10\\lib\\site-packages\\sklearn\\impute\\_iterative.py:800: ConvergenceWarning: [IterativeImputer] Early stopping criterion not reached.\n",
      "  warnings.warn(\n",
      "d:\\miniconda3\\envs\\py3.10\\lib\\site-packages\\sklearn\\impute\\_iterative.py:800: ConvergenceWarning: [IterativeImputer] Early stopping criterion not reached.\n",
      "  warnings.warn(\n",
      "d:\\miniconda3\\envs\\py3.10\\lib\\site-packages\\sklearn\\impute\\_iterative.py:800: ConvergenceWarning: [IterativeImputer] Early stopping criterion not reached.\n",
      "  warnings.warn(\n",
      "d:\\miniconda3\\envs\\py3.10\\lib\\site-packages\\sklearn\\impute\\_iterative.py:800: ConvergenceWarning: [IterativeImputer] Early stopping criterion not reached.\n",
      "  warnings.warn(\n",
      "d:\\miniconda3\\envs\\py3.10\\lib\\site-packages\\sklearn\\impute\\_iterative.py:800: ConvergenceWarning: [IterativeImputer] Early stopping criterion not reached.\n",
      "  warnings.warn(\n",
      "d:\\miniconda3\\envs\\py3.10\\lib\\site-packages\\sklearn\\impute\\_iterative.py:800: ConvergenceWarning: [IterativeImputer] Early stopping criterion not reached.\n",
      "  warnings.warn(\n",
      "d:\\miniconda3\\envs\\py3.10\\lib\\site-packages\\sklearn\\impute\\_iterative.py:800: ConvergenceWarning: [IterativeImputer] Early stopping criterion not reached.\n",
      "  warnings.warn(\n"
     ]
    },
    {
     "name": "stdout",
     "output_type": "stream",
     "text": [
      "Data: banknote | Type: mcar | Para: 0.5\n",
      "Data: banknote | Type: mcar | Para: 0.7\n"
     ]
    },
    {
     "name": "stderr",
     "output_type": "stream",
     "text": [
      "d:\\miniconda3\\envs\\py3.10\\lib\\site-packages\\sklearn\\impute\\_iterative.py:800: ConvergenceWarning: [IterativeImputer] Early stopping criterion not reached.\n",
      "  warnings.warn(\n",
      "d:\\miniconda3\\envs\\py3.10\\lib\\site-packages\\sklearn\\impute\\_iterative.py:800: ConvergenceWarning: [IterativeImputer] Early stopping criterion not reached.\n",
      "  warnings.warn(\n",
      "d:\\miniconda3\\envs\\py3.10\\lib\\site-packages\\sklearn\\impute\\_iterative.py:800: ConvergenceWarning: [IterativeImputer] Early stopping criterion not reached.\n",
      "  warnings.warn(\n"
     ]
    },
    {
     "name": "stdout",
     "output_type": "stream",
     "text": [
      "Data: california | Type: diffuse | Para: 0.3\n"
     ]
    },
    {
     "name": "stderr",
     "output_type": "stream",
     "text": [
      "d:\\miniconda3\\envs\\py3.10\\lib\\site-packages\\sklearn\\impute\\_iterative.py:800: ConvergenceWarning: [IterativeImputer] Early stopping criterion not reached.\n",
      "  warnings.warn(\n",
      "d:\\miniconda3\\envs\\py3.10\\lib\\site-packages\\sklearn\\impute\\_iterative.py:800: ConvergenceWarning: [IterativeImputer] Early stopping criterion not reached.\n",
      "  warnings.warn(\n",
      "d:\\miniconda3\\envs\\py3.10\\lib\\site-packages\\sklearn\\impute\\_iterative.py:800: ConvergenceWarning: [IterativeImputer] Early stopping criterion not reached.\n",
      "  warnings.warn(\n",
      "d:\\miniconda3\\envs\\py3.10\\lib\\site-packages\\sklearn\\impute\\_iterative.py:800: ConvergenceWarning: [IterativeImputer] Early stopping criterion not reached.\n",
      "  warnings.warn(\n",
      "d:\\miniconda3\\envs\\py3.10\\lib\\site-packages\\sklearn\\impute\\_iterative.py:800: ConvergenceWarning: [IterativeImputer] Early stopping criterion not reached.\n",
      "  warnings.warn(\n"
     ]
    },
    {
     "name": "stdout",
     "output_type": "stream",
     "text": [
      "Data: california | Type: diffuse | Para: 0.5\n"
     ]
    },
    {
     "name": "stderr",
     "output_type": "stream",
     "text": [
      "d:\\miniconda3\\envs\\py3.10\\lib\\site-packages\\sklearn\\impute\\_iterative.py:800: ConvergenceWarning: [IterativeImputer] Early stopping criterion not reached.\n",
      "  warnings.warn(\n",
      "d:\\miniconda3\\envs\\py3.10\\lib\\site-packages\\sklearn\\impute\\_iterative.py:800: ConvergenceWarning: [IterativeImputer] Early stopping criterion not reached.\n",
      "  warnings.warn(\n",
      "d:\\miniconda3\\envs\\py3.10\\lib\\site-packages\\sklearn\\impute\\_iterative.py:800: ConvergenceWarning: [IterativeImputer] Early stopping criterion not reached.\n",
      "  warnings.warn(\n",
      "d:\\miniconda3\\envs\\py3.10\\lib\\site-packages\\sklearn\\impute\\_iterative.py:800: ConvergenceWarning: [IterativeImputer] Early stopping criterion not reached.\n",
      "  warnings.warn(\n"
     ]
    },
    {
     "name": "stdout",
     "output_type": "stream",
     "text": [
      "Data: california | Type: diffuse | Para: 0.7\n"
     ]
    },
    {
     "name": "stderr",
     "output_type": "stream",
     "text": [
      "d:\\miniconda3\\envs\\py3.10\\lib\\site-packages\\sklearn\\impute\\_iterative.py:800: ConvergenceWarning: [IterativeImputer] Early stopping criterion not reached.\n",
      "  warnings.warn(\n",
      "d:\\miniconda3\\envs\\py3.10\\lib\\site-packages\\sklearn\\impute\\_iterative.py:800: ConvergenceWarning: [IterativeImputer] Early stopping criterion not reached.\n",
      "  warnings.warn(\n",
      "d:\\miniconda3\\envs\\py3.10\\lib\\site-packages\\sklearn\\impute\\_iterative.py:800: ConvergenceWarning: [IterativeImputer] Early stopping criterion not reached.\n",
      "  warnings.warn(\n",
      "d:\\miniconda3\\envs\\py3.10\\lib\\site-packages\\sklearn\\impute\\_iterative.py:800: ConvergenceWarning: [IterativeImputer] Early stopping criterion not reached.\n",
      "  warnings.warn(\n",
      "d:\\miniconda3\\envs\\py3.10\\lib\\site-packages\\sklearn\\impute\\_iterative.py:800: ConvergenceWarning: [IterativeImputer] Early stopping criterion not reached.\n",
      "  warnings.warn(\n",
      "d:\\miniconda3\\envs\\py3.10\\lib\\site-packages\\sklearn\\impute\\_iterative.py:800: ConvergenceWarning: [IterativeImputer] Early stopping criterion not reached.\n",
      "  warnings.warn(\n"
     ]
    },
    {
     "name": "stdout",
     "output_type": "stream",
     "text": [
      "Data: california | Type: logistic | Para: 0.3\n"
     ]
    },
    {
     "name": "stderr",
     "output_type": "stream",
     "text": [
      "d:\\miniconda3\\envs\\py3.10\\lib\\site-packages\\sklearn\\impute\\_iterative.py:800: ConvergenceWarning: [IterativeImputer] Early stopping criterion not reached.\n",
      "  warnings.warn(\n",
      "d:\\miniconda3\\envs\\py3.10\\lib\\site-packages\\sklearn\\impute\\_iterative.py:800: ConvergenceWarning: [IterativeImputer] Early stopping criterion not reached.\n",
      "  warnings.warn(\n",
      "d:\\miniconda3\\envs\\py3.10\\lib\\site-packages\\sklearn\\impute\\_iterative.py:800: ConvergenceWarning: [IterativeImputer] Early stopping criterion not reached.\n",
      "  warnings.warn(\n",
      "d:\\miniconda3\\envs\\py3.10\\lib\\site-packages\\sklearn\\impute\\_iterative.py:800: ConvergenceWarning: [IterativeImputer] Early stopping criterion not reached.\n",
      "  warnings.warn(\n"
     ]
    },
    {
     "name": "stdout",
     "output_type": "stream",
     "text": [
      "Data: california | Type: logistic | Para: 0.5\n",
      "Data: california | Type: logistic | Para: 0.7\n",
      "Data: california | Type: mar | Para: 0.3\n",
      "Data: california | Type: mar | Para: 0.5\n"
     ]
    },
    {
     "name": "stderr",
     "output_type": "stream",
     "text": [
      "d:\\miniconda3\\envs\\py3.10\\lib\\site-packages\\sklearn\\impute\\_base.py:558: UserWarning: Skipping features without any observed values: [0 5]. At least one non-missing value is needed for imputation with strategy='mean'.\n",
      "  warnings.warn(\n",
      "d:\\miniconda3\\envs\\py3.10\\lib\\site-packages\\sklearn\\impute\\_base.py:558: UserWarning: Skipping features without any observed values: [0 5]. At least one non-missing value is needed for imputation with strategy='mean'.\n",
      "  warnings.warn(\n",
      "d:\\miniconda3\\envs\\py3.10\\lib\\site-packages\\sklearn\\impute\\_base.py:558: UserWarning: Skipping features without any observed values: [0 5]. At least one non-missing value is needed for imputation with strategy='mean'.\n",
      "  warnings.warn(\n",
      "d:\\miniconda3\\envs\\py3.10\\lib\\site-packages\\sklearn\\impute\\_base.py:558: UserWarning: Skipping features without any observed values: [0 5]. At least one non-missing value is needed for imputation with strategy='mean'.\n",
      "  warnings.warn(\n",
      "d:\\miniconda3\\envs\\py3.10\\lib\\site-packages\\sklearn\\impute\\_base.py:558: UserWarning: Skipping features without any observed values: [0 5]. At least one non-missing value is needed for imputation with strategy='mean'.\n",
      "  warnings.warn(\n",
      "d:\\miniconda3\\envs\\py3.10\\lib\\site-packages\\sklearn\\impute\\_base.py:558: UserWarning: Skipping features without any observed values: [0 5]. At least one non-missing value is needed for imputation with strategy='mean'.\n",
      "  warnings.warn(\n",
      "d:\\miniconda3\\envs\\py3.10\\lib\\site-packages\\sklearn\\impute\\_base.py:558: UserWarning: Skipping features without any observed values: [0 5]. At least one non-missing value is needed for imputation with strategy='mean'.\n",
      "  warnings.warn(\n",
      "d:\\miniconda3\\envs\\py3.10\\lib\\site-packages\\sklearn\\impute\\_base.py:558: UserWarning: Skipping features without any observed values: [0 5]. At least one non-missing value is needed for imputation with strategy='mean'.\n",
      "  warnings.warn(\n",
      "d:\\miniconda3\\envs\\py3.10\\lib\\site-packages\\sklearn\\impute\\_base.py:558: UserWarning: Skipping features without any observed values: [0 5]. At least one non-missing value is needed for imputation with strategy='mean'.\n",
      "  warnings.warn(\n",
      "d:\\miniconda3\\envs\\py3.10\\lib\\site-packages\\sklearn\\impute\\_base.py:558: UserWarning: Skipping features without any observed values: [0 5]. At least one non-missing value is needed for imputation with strategy='mean'.\n",
      "  warnings.warn(\n",
      "d:\\miniconda3\\envs\\py3.10\\lib\\site-packages\\sklearn\\impute\\_base.py:558: UserWarning: Skipping features without any observed values: [0 3 4 5]. At least one non-missing value is needed for imputation with strategy='mean'.\n",
      "  warnings.warn(\n",
      "d:\\miniconda3\\envs\\py3.10\\lib\\site-packages\\sklearn\\impute\\_base.py:558: UserWarning: Skipping features without any observed values: [0 3 4 5]. At least one non-missing value is needed for imputation with strategy='mean'.\n",
      "  warnings.warn(\n",
      "d:\\miniconda3\\envs\\py3.10\\lib\\site-packages\\sklearn\\impute\\_base.py:558: UserWarning: Skipping features without any observed values: [0 3 4 5]. At least one non-missing value is needed for imputation with strategy='mean'.\n",
      "  warnings.warn(\n",
      "d:\\miniconda3\\envs\\py3.10\\lib\\site-packages\\sklearn\\impute\\_base.py:558: UserWarning: Skipping features without any observed values: [0 3 4 5]. At least one non-missing value is needed for imputation with strategy='mean'.\n",
      "  warnings.warn(\n",
      "d:\\miniconda3\\envs\\py3.10\\lib\\site-packages\\sklearn\\impute\\_base.py:558: UserWarning: Skipping features without any observed values: [0 3 4 5]. At least one non-missing value is needed for imputation with strategy='mean'.\n",
      "  warnings.warn(\n",
      "d:\\miniconda3\\envs\\py3.10\\lib\\site-packages\\sklearn\\impute\\_base.py:558: UserWarning: Skipping features without any observed values: [0 3 4 5]. At least one non-missing value is needed for imputation with strategy='mean'.\n",
      "  warnings.warn(\n",
      "d:\\miniconda3\\envs\\py3.10\\lib\\site-packages\\sklearn\\impute\\_base.py:558: UserWarning: Skipping features without any observed values: [0 3 4 5]. At least one non-missing value is needed for imputation with strategy='mean'.\n",
      "  warnings.warn(\n",
      "d:\\miniconda3\\envs\\py3.10\\lib\\site-packages\\sklearn\\impute\\_base.py:558: UserWarning: Skipping features without any observed values: [0 3 4 5]. At least one non-missing value is needed for imputation with strategy='mean'.\n",
      "  warnings.warn(\n",
      "d:\\miniconda3\\envs\\py3.10\\lib\\site-packages\\sklearn\\impute\\_base.py:558: UserWarning: Skipping features without any observed values: [0 3 4 5]. At least one non-missing value is needed for imputation with strategy='mean'.\n",
      "  warnings.warn(\n",
      "d:\\miniconda3\\envs\\py3.10\\lib\\site-packages\\sklearn\\impute\\_base.py:558: UserWarning: Skipping features without any observed values: [0 3 4 5]. At least one non-missing value is needed for imputation with strategy='mean'.\n",
      "  warnings.warn(\n"
     ]
    },
    {
     "name": "stdout",
     "output_type": "stream",
     "text": [
      "Data: california | Type: mar | Para: 0.7\n",
      "Data: california | Type: mcar | Para: 0.3\n"
     ]
    },
    {
     "name": "stderr",
     "output_type": "stream",
     "text": [
      "d:\\miniconda3\\envs\\py3.10\\lib\\site-packages\\sklearn\\impute\\_base.py:558: UserWarning: Skipping features without any observed values: [0 3 4 5 7]. At least one non-missing value is needed for imputation with strategy='mean'.\n",
      "  warnings.warn(\n",
      "d:\\miniconda3\\envs\\py3.10\\lib\\site-packages\\sklearn\\impute\\_base.py:558: UserWarning: Skipping features without any observed values: [0 3 4 5 7]. At least one non-missing value is needed for imputation with strategy='mean'.\n",
      "  warnings.warn(\n",
      "d:\\miniconda3\\envs\\py3.10\\lib\\site-packages\\sklearn\\impute\\_base.py:558: UserWarning: Skipping features without any observed values: [0 3 4 5 7]. At least one non-missing value is needed for imputation with strategy='mean'.\n",
      "  warnings.warn(\n",
      "d:\\miniconda3\\envs\\py3.10\\lib\\site-packages\\sklearn\\impute\\_base.py:558: UserWarning: Skipping features without any observed values: [0 3 4 5 7]. At least one non-missing value is needed for imputation with strategy='mean'.\n",
      "  warnings.warn(\n",
      "d:\\miniconda3\\envs\\py3.10\\lib\\site-packages\\sklearn\\impute\\_base.py:558: UserWarning: Skipping features without any observed values: [0 3 4 5 7]. At least one non-missing value is needed for imputation with strategy='mean'.\n",
      "  warnings.warn(\n",
      "d:\\miniconda3\\envs\\py3.10\\lib\\site-packages\\sklearn\\impute\\_base.py:558: UserWarning: Skipping features without any observed values: [0 3 4 5 7]. At least one non-missing value is needed for imputation with strategy='mean'.\n",
      "  warnings.warn(\n",
      "d:\\miniconda3\\envs\\py3.10\\lib\\site-packages\\sklearn\\impute\\_base.py:558: UserWarning: Skipping features without any observed values: [0 3 4 5 7]. At least one non-missing value is needed for imputation with strategy='mean'.\n",
      "  warnings.warn(\n",
      "d:\\miniconda3\\envs\\py3.10\\lib\\site-packages\\sklearn\\impute\\_base.py:558: UserWarning: Skipping features without any observed values: [0 3 4 5 7]. At least one non-missing value is needed for imputation with strategy='mean'.\n",
      "  warnings.warn(\n",
      "d:\\miniconda3\\envs\\py3.10\\lib\\site-packages\\sklearn\\impute\\_base.py:558: UserWarning: Skipping features without any observed values: [0 3 4 5 7]. At least one non-missing value is needed for imputation with strategy='mean'.\n",
      "  warnings.warn(\n",
      "d:\\miniconda3\\envs\\py3.10\\lib\\site-packages\\sklearn\\impute\\_base.py:558: UserWarning: Skipping features without any observed values: [0 3 4 5 7]. At least one non-missing value is needed for imputation with strategy='mean'.\n",
      "  warnings.warn(\n",
      "d:\\miniconda3\\envs\\py3.10\\lib\\site-packages\\sklearn\\impute\\_iterative.py:800: ConvergenceWarning: [IterativeImputer] Early stopping criterion not reached.\n",
      "  warnings.warn(\n",
      "d:\\miniconda3\\envs\\py3.10\\lib\\site-packages\\sklearn\\impute\\_iterative.py:800: ConvergenceWarning: [IterativeImputer] Early stopping criterion not reached.\n",
      "  warnings.warn(\n",
      "d:\\miniconda3\\envs\\py3.10\\lib\\site-packages\\sklearn\\impute\\_iterative.py:800: ConvergenceWarning: [IterativeImputer] Early stopping criterion not reached.\n",
      "  warnings.warn(\n",
      "d:\\miniconda3\\envs\\py3.10\\lib\\site-packages\\sklearn\\impute\\_iterative.py:800: ConvergenceWarning: [IterativeImputer] Early stopping criterion not reached.\n",
      "  warnings.warn(\n",
      "d:\\miniconda3\\envs\\py3.10\\lib\\site-packages\\sklearn\\impute\\_iterative.py:800: ConvergenceWarning: [IterativeImputer] Early stopping criterion not reached.\n",
      "  warnings.warn(\n",
      "d:\\miniconda3\\envs\\py3.10\\lib\\site-packages\\sklearn\\impute\\_iterative.py:800: ConvergenceWarning: [IterativeImputer] Early stopping criterion not reached.\n",
      "  warnings.warn(\n"
     ]
    },
    {
     "name": "stdout",
     "output_type": "stream",
     "text": [
      "Data: california | Type: mcar | Para: 0.5\n"
     ]
    },
    {
     "name": "stderr",
     "output_type": "stream",
     "text": [
      "d:\\miniconda3\\envs\\py3.10\\lib\\site-packages\\sklearn\\impute\\_iterative.py:800: ConvergenceWarning: [IterativeImputer] Early stopping criterion not reached.\n",
      "  warnings.warn(\n",
      "d:\\miniconda3\\envs\\py3.10\\lib\\site-packages\\sklearn\\impute\\_iterative.py:800: ConvergenceWarning: [IterativeImputer] Early stopping criterion not reached.\n",
      "  warnings.warn(\n",
      "d:\\miniconda3\\envs\\py3.10\\lib\\site-packages\\sklearn\\impute\\_iterative.py:800: ConvergenceWarning: [IterativeImputer] Early stopping criterion not reached.\n",
      "  warnings.warn(\n",
      "d:\\miniconda3\\envs\\py3.10\\lib\\site-packages\\sklearn\\impute\\_iterative.py:800: ConvergenceWarning: [IterativeImputer] Early stopping criterion not reached.\n",
      "  warnings.warn(\n"
     ]
    },
    {
     "name": "stdout",
     "output_type": "stream",
     "text": [
      "Data: california | Type: mcar | Para: 0.7\n"
     ]
    },
    {
     "name": "stderr",
     "output_type": "stream",
     "text": [
      "d:\\miniconda3\\envs\\py3.10\\lib\\site-packages\\sklearn\\impute\\_iterative.py:800: ConvergenceWarning: [IterativeImputer] Early stopping criterion not reached.\n",
      "  warnings.warn(\n",
      "d:\\miniconda3\\envs\\py3.10\\lib\\site-packages\\sklearn\\impute\\_iterative.py:800: ConvergenceWarning: [IterativeImputer] Early stopping criterion not reached.\n",
      "  warnings.warn(\n",
      "d:\\miniconda3\\envs\\py3.10\\lib\\site-packages\\sklearn\\impute\\_iterative.py:800: ConvergenceWarning: [IterativeImputer] Early stopping criterion not reached.\n",
      "  warnings.warn(\n"
     ]
    },
    {
     "name": "stdout",
     "output_type": "stream",
     "text": [
      "Data: climate_model_crashes | Type: diffuse | Para: 0.3\n",
      "Data: climate_model_crashes | Type: diffuse | Para: 0.5\n",
      "Data: climate_model_crashes | Type: diffuse | Para: 0.7\n"
     ]
    },
    {
     "name": "stderr",
     "output_type": "stream",
     "text": [
      "d:\\miniconda3\\envs\\py3.10\\lib\\site-packages\\sklearn\\impute\\_iterative.py:800: ConvergenceWarning: [IterativeImputer] Early stopping criterion not reached.\n",
      "  warnings.warn(\n"
     ]
    },
    {
     "name": "stdout",
     "output_type": "stream",
     "text": [
      "Data: climate_model_crashes | Type: logistic | Para: 0.3\n",
      "Data: climate_model_crashes | Type: logistic | Para: 0.5\n"
     ]
    },
    {
     "name": "stderr",
     "output_type": "stream",
     "text": [
      "d:\\miniconda3\\envs\\py3.10\\lib\\site-packages\\sklearn\\impute\\_iterative.py:800: ConvergenceWarning: [IterativeImputer] Early stopping criterion not reached.\n",
      "  warnings.warn(\n"
     ]
    },
    {
     "name": "stdout",
     "output_type": "stream",
     "text": [
      "Data: climate_model_crashes | Type: logistic | Para: 0.7\n"
     ]
    },
    {
     "name": "stderr",
     "output_type": "stream",
     "text": [
      "d:\\miniconda3\\envs\\py3.10\\lib\\site-packages\\sklearn\\impute\\_iterative.py:800: ConvergenceWarning: [IterativeImputer] Early stopping criterion not reached.\n",
      "  warnings.warn(\n",
      "d:\\miniconda3\\envs\\py3.10\\lib\\site-packages\\sklearn\\impute\\_iterative.py:800: ConvergenceWarning: [IterativeImputer] Early stopping criterion not reached.\n",
      "  warnings.warn(\n",
      "d:\\miniconda3\\envs\\py3.10\\lib\\site-packages\\sklearn\\impute\\_iterative.py:800: ConvergenceWarning: [IterativeImputer] Early stopping criterion not reached.\n",
      "  warnings.warn(\n",
      "d:\\miniconda3\\envs\\py3.10\\lib\\site-packages\\sklearn\\impute\\_iterative.py:800: ConvergenceWarning: [IterativeImputer] Early stopping criterion not reached.\n",
      "  warnings.warn(\n",
      "d:\\miniconda3\\envs\\py3.10\\lib\\site-packages\\sklearn\\impute\\_base.py:558: UserWarning: Skipping features without any observed values: [ 6 10 12 13 14]. At least one non-missing value is needed for imputation with strategy='mean'.\n",
      "  warnings.warn(\n",
      "d:\\miniconda3\\envs\\py3.10\\lib\\site-packages\\sklearn\\impute\\_base.py:558: UserWarning: Skipping features without any observed values: [ 6 10 12 13 14]. At least one non-missing value is needed for imputation with strategy='mean'.\n",
      "  warnings.warn(\n",
      "d:\\miniconda3\\envs\\py3.10\\lib\\site-packages\\sklearn\\impute\\_base.py:558: UserWarning: Skipping features without any observed values: [ 6 10 12 13 14]. At least one non-missing value is needed for imputation with strategy='mean'.\n",
      "  warnings.warn(\n",
      "d:\\miniconda3\\envs\\py3.10\\lib\\site-packages\\sklearn\\impute\\_base.py:558: UserWarning: Skipping features without any observed values: [ 6 10 12 13 14]. At least one non-missing value is needed for imputation with strategy='mean'.\n",
      "  warnings.warn(\n",
      "d:\\miniconda3\\envs\\py3.10\\lib\\site-packages\\sklearn\\impute\\_base.py:558: UserWarning: Skipping features without any observed values: [ 6 10 12 13 14]. At least one non-missing value is needed for imputation with strategy='mean'.\n",
      "  warnings.warn(\n",
      "d:\\miniconda3\\envs\\py3.10\\lib\\site-packages\\sklearn\\impute\\_base.py:558: UserWarning: Skipping features without any observed values: [ 6 10 12 13 14]. At least one non-missing value is needed for imputation with strategy='mean'.\n",
      "  warnings.warn(\n",
      "d:\\miniconda3\\envs\\py3.10\\lib\\site-packages\\sklearn\\impute\\_base.py:558: UserWarning: Skipping features without any observed values: [ 6 10 12 13 14]. At least one non-missing value is needed for imputation with strategy='mean'.\n",
      "  warnings.warn(\n",
      "d:\\miniconda3\\envs\\py3.10\\lib\\site-packages\\sklearn\\impute\\_base.py:558: UserWarning: Skipping features without any observed values: [ 6 10 12 13 14]. At least one non-missing value is needed for imputation with strategy='mean'.\n",
      "  warnings.warn(\n",
      "d:\\miniconda3\\envs\\py3.10\\lib\\site-packages\\sklearn\\impute\\_base.py:558: UserWarning: Skipping features without any observed values: [ 6 10 12 13 14]. At least one non-missing value is needed for imputation with strategy='mean'.\n",
      "  warnings.warn(\n",
      "d:\\miniconda3\\envs\\py3.10\\lib\\site-packages\\sklearn\\impute\\_base.py:558: UserWarning: Skipping features without any observed values: [ 6 10 12 13 14]. At least one non-missing value is needed for imputation with strategy='mean'.\n",
      "  warnings.warn(\n",
      "d:\\miniconda3\\envs\\py3.10\\lib\\site-packages\\sklearn\\impute\\_base.py:558: UserWarning: Skipping features without any observed values: [ 3  4  5  6  8 10 11 12 13 14 17]. At least one non-missing value is needed for imputation with strategy='mean'.\n",
      "  warnings.warn(\n",
      "d:\\miniconda3\\envs\\py3.10\\lib\\site-packages\\sklearn\\impute\\_base.py:558: UserWarning: Skipping features without any observed values: [ 3  4  5  6  8 10 11 12 13 14 17]. At least one non-missing value is needed for imputation with strategy='mean'.\n",
      "  warnings.warn(\n",
      "d:\\miniconda3\\envs\\py3.10\\lib\\site-packages\\sklearn\\impute\\_base.py:558: UserWarning: Skipping features without any observed values: [ 3  4  5  6  8 10 11 12 13 14 17]. At least one non-missing value is needed for imputation with strategy='mean'.\n",
      "  warnings.warn(\n",
      "d:\\miniconda3\\envs\\py3.10\\lib\\site-packages\\sklearn\\impute\\_base.py:558: UserWarning: Skipping features without any observed values: [ 3  4  5  6  8 10 11 12 13 14 17]. At least one non-missing value is needed for imputation with strategy='mean'.\n",
      "  warnings.warn(\n",
      "d:\\miniconda3\\envs\\py3.10\\lib\\site-packages\\sklearn\\impute\\_base.py:558: UserWarning: Skipping features without any observed values: [ 3  4  5  6  8 10 11 12 13 14 17]. At least one non-missing value is needed for imputation with strategy='mean'.\n",
      "  warnings.warn(\n",
      "d:\\miniconda3\\envs\\py3.10\\lib\\site-packages\\sklearn\\impute\\_base.py:558: UserWarning: Skipping features without any observed values: [ 3  4  5  6  8 10 11 12 13 14 17]. At least one non-missing value is needed for imputation with strategy='mean'.\n",
      "  warnings.warn(\n",
      "d:\\miniconda3\\envs\\py3.10\\lib\\site-packages\\sklearn\\impute\\_base.py:558: UserWarning: Skipping features without any observed values: [ 3  4  5  6  8 10 11 12 13 14 17]. At least one non-missing value is needed for imputation with strategy='mean'.\n",
      "  warnings.warn(\n",
      "d:\\miniconda3\\envs\\py3.10\\lib\\site-packages\\sklearn\\impute\\_base.py:558: UserWarning: Skipping features without any observed values: [ 3  4  5  6  8 10 11 12 13 14 17]. At least one non-missing value is needed for imputation with strategy='mean'.\n",
      "  warnings.warn(\n",
      "d:\\miniconda3\\envs\\py3.10\\lib\\site-packages\\sklearn\\impute\\_base.py:558: UserWarning: Skipping features without any observed values: [ 3  4  5  6  8 10 11 12 13 14 17]. At least one non-missing value is needed for imputation with strategy='mean'.\n",
      "  warnings.warn(\n",
      "d:\\miniconda3\\envs\\py3.10\\lib\\site-packages\\sklearn\\impute\\_base.py:558: UserWarning: Skipping features without any observed values: [ 3  4  5  6  8 10 11 12 13 14 17]. At least one non-missing value is needed for imputation with strategy='mean'.\n",
      "  warnings.warn(\n",
      "d:\\miniconda3\\envs\\py3.10\\lib\\site-packages\\sklearn\\impute\\_base.py:558: UserWarning: Skipping features without any observed values: [ 1  2  3  4  5  6  7  8  9 10 11 12 13 14 15 17]. At least one non-missing value is needed for imputation with strategy='mean'.\n",
      "  warnings.warn(\n",
      "d:\\miniconda3\\envs\\py3.10\\lib\\site-packages\\sklearn\\impute\\_base.py:558: UserWarning: Skipping features without any observed values: [ 1  2  3  4  5  6  7  8  9 10 11 12 13 14 15 17]. At least one non-missing value is needed for imputation with strategy='mean'.\n",
      "  warnings.warn(\n",
      "d:\\miniconda3\\envs\\py3.10\\lib\\site-packages\\sklearn\\impute\\_base.py:558: UserWarning: Skipping features without any observed values: [ 1  2  3  4  5  6  7  8  9 10 11 12 13 14 15 17]. At least one non-missing value is needed for imputation with strategy='mean'.\n",
      "  warnings.warn(\n",
      "d:\\miniconda3\\envs\\py3.10\\lib\\site-packages\\sklearn\\impute\\_base.py:558: UserWarning: Skipping features without any observed values: [ 1  2  3  4  5  6  7  8  9 10 11 12 13 14 15 17]. At least one non-missing value is needed for imputation with strategy='mean'.\n",
      "  warnings.warn(\n",
      "d:\\miniconda3\\envs\\py3.10\\lib\\site-packages\\sklearn\\impute\\_base.py:558: UserWarning: Skipping features without any observed values: [ 1  2  3  4  5  6  7  8  9 10 11 12 13 14 15 17]. At least one non-missing value is needed for imputation with strategy='mean'.\n",
      "  warnings.warn(\n",
      "d:\\miniconda3\\envs\\py3.10\\lib\\site-packages\\sklearn\\impute\\_base.py:558: UserWarning: Skipping features without any observed values: [ 1  2  3  4  5  6  7  8  9 10 11 12 13 14 15 17]. At least one non-missing value is needed for imputation with strategy='mean'.\n",
      "  warnings.warn(\n",
      "d:\\miniconda3\\envs\\py3.10\\lib\\site-packages\\sklearn\\impute\\_base.py:558: UserWarning: Skipping features without any observed values: [ 1  2  3  4  5  6  7  8  9 10 11 12 13 14 15 17]. At least one non-missing value is needed for imputation with strategy='mean'.\n",
      "  warnings.warn(\n",
      "d:\\miniconda3\\envs\\py3.10\\lib\\site-packages\\sklearn\\impute\\_base.py:558: UserWarning: Skipping features without any observed values: [ 1  2  3  4  5  6  7  8  9 10 11 12 13 14 15 17]. At least one non-missing value is needed for imputation with strategy='mean'.\n",
      "  warnings.warn(\n",
      "d:\\miniconda3\\envs\\py3.10\\lib\\site-packages\\sklearn\\impute\\_base.py:558: UserWarning: Skipping features without any observed values: [ 1  2  3  4  5  6  7  8  9 10 11 12 13 14 15 17]. At least one non-missing value is needed for imputation with strategy='mean'.\n",
      "  warnings.warn(\n",
      "d:\\miniconda3\\envs\\py3.10\\lib\\site-packages\\sklearn\\impute\\_base.py:558: UserWarning: Skipping features without any observed values: [ 1  2  3  4  5  6  7  8  9 10 11 12 13 14 15 17]. At least one non-missing value is needed for imputation with strategy='mean'.\n",
      "  warnings.warn(\n"
     ]
    },
    {
     "name": "stdout",
     "output_type": "stream",
     "text": [
      "Data: climate_model_crashes | Type: mar | Para: 0.3\n",
      "Data: climate_model_crashes | Type: mar | Para: 0.5\n",
      "Data: climate_model_crashes | Type: mar | Para: 0.7\n",
      "Data: climate_model_crashes | Type: mcar | Para: 0.3\n",
      "Data: climate_model_crashes | Type: mcar | Para: 0.5\n"
     ]
    },
    {
     "name": "stderr",
     "output_type": "stream",
     "text": [
      "d:\\miniconda3\\envs\\py3.10\\lib\\site-packages\\sklearn\\impute\\_iterative.py:800: ConvergenceWarning: [IterativeImputer] Early stopping criterion not reached.\n",
      "  warnings.warn(\n",
      "d:\\miniconda3\\envs\\py3.10\\lib\\site-packages\\sklearn\\impute\\_iterative.py:800: ConvergenceWarning: [IterativeImputer] Early stopping criterion not reached.\n",
      "  warnings.warn(\n"
     ]
    },
    {
     "name": "stdout",
     "output_type": "stream",
     "text": [
      "Data: climate_model_crashes | Type: mcar | Para: 0.7\n"
     ]
    },
    {
     "name": "stderr",
     "output_type": "stream",
     "text": [
      "d:\\miniconda3\\envs\\py3.10\\lib\\site-packages\\sklearn\\impute\\_iterative.py:800: ConvergenceWarning: [IterativeImputer] Early stopping criterion not reached.\n",
      "  warnings.warn(\n"
     ]
    },
    {
     "name": "stdout",
     "output_type": "stream",
     "text": [
      "Data: concrete_compression | Type: diffuse | Para: 0.3\n"
     ]
    },
    {
     "name": "stderr",
     "output_type": "stream",
     "text": [
      "d:\\miniconda3\\envs\\py3.10\\lib\\site-packages\\sklearn\\impute\\_iterative.py:800: ConvergenceWarning: [IterativeImputer] Early stopping criterion not reached.\n",
      "  warnings.warn(\n",
      "d:\\miniconda3\\envs\\py3.10\\lib\\site-packages\\sklearn\\impute\\_iterative.py:800: ConvergenceWarning: [IterativeImputer] Early stopping criterion not reached.\n",
      "  warnings.warn(\n",
      "d:\\miniconda3\\envs\\py3.10\\lib\\site-packages\\sklearn\\impute\\_iterative.py:800: ConvergenceWarning: [IterativeImputer] Early stopping criterion not reached.\n",
      "  warnings.warn(\n",
      "d:\\miniconda3\\envs\\py3.10\\lib\\site-packages\\sklearn\\impute\\_iterative.py:800: ConvergenceWarning: [IterativeImputer] Early stopping criterion not reached.\n",
      "  warnings.warn(\n",
      "d:\\miniconda3\\envs\\py3.10\\lib\\site-packages\\sklearn\\impute\\_iterative.py:800: ConvergenceWarning: [IterativeImputer] Early stopping criterion not reached.\n",
      "  warnings.warn(\n",
      "d:\\miniconda3\\envs\\py3.10\\lib\\site-packages\\sklearn\\impute\\_iterative.py:800: ConvergenceWarning: [IterativeImputer] Early stopping criterion not reached.\n",
      "  warnings.warn(\n",
      "d:\\miniconda3\\envs\\py3.10\\lib\\site-packages\\sklearn\\impute\\_iterative.py:800: ConvergenceWarning: [IterativeImputer] Early stopping criterion not reached.\n",
      "  warnings.warn(\n",
      "d:\\miniconda3\\envs\\py3.10\\lib\\site-packages\\sklearn\\impute\\_iterative.py:800: ConvergenceWarning: [IterativeImputer] Early stopping criterion not reached.\n",
      "  warnings.warn(\n"
     ]
    },
    {
     "name": "stdout",
     "output_type": "stream",
     "text": [
      "Data: concrete_compression | Type: diffuse | Para: 0.5\n"
     ]
    },
    {
     "name": "stderr",
     "output_type": "stream",
     "text": [
      "d:\\miniconda3\\envs\\py3.10\\lib\\site-packages\\sklearn\\impute\\_iterative.py:800: ConvergenceWarning: [IterativeImputer] Early stopping criterion not reached.\n",
      "  warnings.warn(\n",
      "d:\\miniconda3\\envs\\py3.10\\lib\\site-packages\\sklearn\\impute\\_iterative.py:800: ConvergenceWarning: [IterativeImputer] Early stopping criterion not reached.\n",
      "  warnings.warn(\n"
     ]
    },
    {
     "name": "stdout",
     "output_type": "stream",
     "text": [
      "Data: concrete_compression | Type: diffuse | Para: 0.7\n",
      "Data: concrete_compression | Type: logistic | Para: 0.3\n"
     ]
    },
    {
     "name": "stderr",
     "output_type": "stream",
     "text": [
      "d:\\miniconda3\\envs\\py3.10\\lib\\site-packages\\sklearn\\impute\\_iterative.py:800: ConvergenceWarning: [IterativeImputer] Early stopping criterion not reached.\n",
      "  warnings.warn(\n",
      "d:\\miniconda3\\envs\\py3.10\\lib\\site-packages\\sklearn\\impute\\_iterative.py:800: ConvergenceWarning: [IterativeImputer] Early stopping criterion not reached.\n",
      "  warnings.warn(\n",
      "d:\\miniconda3\\envs\\py3.10\\lib\\site-packages\\sklearn\\impute\\_iterative.py:800: ConvergenceWarning: [IterativeImputer] Early stopping criterion not reached.\n",
      "  warnings.warn(\n",
      "d:\\miniconda3\\envs\\py3.10\\lib\\site-packages\\sklearn\\impute\\_iterative.py:800: ConvergenceWarning: [IterativeImputer] Early stopping criterion not reached.\n",
      "  warnings.warn(\n",
      "d:\\miniconda3\\envs\\py3.10\\lib\\site-packages\\sklearn\\impute\\_iterative.py:800: ConvergenceWarning: [IterativeImputer] Early stopping criterion not reached.\n",
      "  warnings.warn(\n",
      "d:\\miniconda3\\envs\\py3.10\\lib\\site-packages\\sklearn\\impute\\_iterative.py:800: ConvergenceWarning: [IterativeImputer] Early stopping criterion not reached.\n",
      "  warnings.warn(\n",
      "d:\\miniconda3\\envs\\py3.10\\lib\\site-packages\\sklearn\\impute\\_iterative.py:800: ConvergenceWarning: [IterativeImputer] Early stopping criterion not reached.\n",
      "  warnings.warn(\n",
      "d:\\miniconda3\\envs\\py3.10\\lib\\site-packages\\sklearn\\impute\\_iterative.py:800: ConvergenceWarning: [IterativeImputer] Early stopping criterion not reached.\n",
      "  warnings.warn(\n"
     ]
    },
    {
     "name": "stdout",
     "output_type": "stream",
     "text": [
      "Data: concrete_compression | Type: logistic | Para: 0.5\n"
     ]
    },
    {
     "name": "stderr",
     "output_type": "stream",
     "text": [
      "d:\\miniconda3\\envs\\py3.10\\lib\\site-packages\\sklearn\\impute\\_iterative.py:800: ConvergenceWarning: [IterativeImputer] Early stopping criterion not reached.\n",
      "  warnings.warn(\n",
      "d:\\miniconda3\\envs\\py3.10\\lib\\site-packages\\sklearn\\impute\\_base.py:558: UserWarning: Skipping features without any observed values: [4 5]. At least one non-missing value is needed for imputation with strategy='mean'.\n",
      "  warnings.warn(\n",
      "d:\\miniconda3\\envs\\py3.10\\lib\\site-packages\\sklearn\\impute\\_base.py:558: UserWarning: Skipping features without any observed values: [4 5]. At least one non-missing value is needed for imputation with strategy='mean'.\n",
      "  warnings.warn(\n",
      "d:\\miniconda3\\envs\\py3.10\\lib\\site-packages\\sklearn\\impute\\_base.py:558: UserWarning: Skipping features without any observed values: [4 5]. At least one non-missing value is needed for imputation with strategy='mean'.\n",
      "  warnings.warn(\n",
      "d:\\miniconda3\\envs\\py3.10\\lib\\site-packages\\sklearn\\impute\\_base.py:558: UserWarning: Skipping features without any observed values: [4 5]. At least one non-missing value is needed for imputation with strategy='mean'.\n",
      "  warnings.warn(\n",
      "d:\\miniconda3\\envs\\py3.10\\lib\\site-packages\\sklearn\\impute\\_base.py:558: UserWarning: Skipping features without any observed values: [4 5]. At least one non-missing value is needed for imputation with strategy='mean'.\n",
      "  warnings.warn(\n",
      "d:\\miniconda3\\envs\\py3.10\\lib\\site-packages\\sklearn\\impute\\_base.py:558: UserWarning: Skipping features without any observed values: [4 5]. At least one non-missing value is needed for imputation with strategy='mean'.\n",
      "  warnings.warn(\n",
      "d:\\miniconda3\\envs\\py3.10\\lib\\site-packages\\sklearn\\impute\\_base.py:558: UserWarning: Skipping features without any observed values: [4 5]. At least one non-missing value is needed for imputation with strategy='mean'.\n",
      "  warnings.warn(\n",
      "d:\\miniconda3\\envs\\py3.10\\lib\\site-packages\\sklearn\\impute\\_base.py:558: UserWarning: Skipping features without any observed values: [4 5]. At least one non-missing value is needed for imputation with strategy='mean'.\n",
      "  warnings.warn(\n",
      "d:\\miniconda3\\envs\\py3.10\\lib\\site-packages\\sklearn\\impute\\_base.py:558: UserWarning: Skipping features without any observed values: [4 5]. At least one non-missing value is needed for imputation with strategy='mean'.\n",
      "  warnings.warn(\n",
      "d:\\miniconda3\\envs\\py3.10\\lib\\site-packages\\sklearn\\impute\\_base.py:558: UserWarning: Skipping features without any observed values: [4 5]. At least one non-missing value is needed for imputation with strategy='mean'.\n",
      "  warnings.warn(\n",
      "d:\\miniconda3\\envs\\py3.10\\lib\\site-packages\\sklearn\\impute\\_base.py:558: UserWarning: Skipping features without any observed values: [2 3 4 5 7]. At least one non-missing value is needed for imputation with strategy='mean'.\n",
      "  warnings.warn(\n",
      "d:\\miniconda3\\envs\\py3.10\\lib\\site-packages\\sklearn\\impute\\_base.py:558: UserWarning: Skipping features without any observed values: [2 3 4 5 7]. At least one non-missing value is needed for imputation with strategy='mean'.\n",
      "  warnings.warn(\n",
      "d:\\miniconda3\\envs\\py3.10\\lib\\site-packages\\sklearn\\impute\\_base.py:558: UserWarning: Skipping features without any observed values: [2 3 4 5 7]. At least one non-missing value is needed for imputation with strategy='mean'.\n",
      "  warnings.warn(\n",
      "d:\\miniconda3\\envs\\py3.10\\lib\\site-packages\\sklearn\\impute\\_base.py:558: UserWarning: Skipping features without any observed values: [2 3 4 5 7]. At least one non-missing value is needed for imputation with strategy='mean'.\n",
      "  warnings.warn(\n",
      "d:\\miniconda3\\envs\\py3.10\\lib\\site-packages\\sklearn\\impute\\_base.py:558: UserWarning: Skipping features without any observed values: [2 3 4 5 7]. At least one non-missing value is needed for imputation with strategy='mean'.\n",
      "  warnings.warn(\n",
      "d:\\miniconda3\\envs\\py3.10\\lib\\site-packages\\sklearn\\impute\\_base.py:558: UserWarning: Skipping features without any observed values: [2 3 4 5 7]. At least one non-missing value is needed for imputation with strategy='mean'.\n",
      "  warnings.warn(\n",
      "d:\\miniconda3\\envs\\py3.10\\lib\\site-packages\\sklearn\\impute\\_base.py:558: UserWarning: Skipping features without any observed values: [2 3 4 5 7]. At least one non-missing value is needed for imputation with strategy='mean'.\n",
      "  warnings.warn(\n",
      "d:\\miniconda3\\envs\\py3.10\\lib\\site-packages\\sklearn\\impute\\_base.py:558: UserWarning: Skipping features without any observed values: [2 3 4 5 7]. At least one non-missing value is needed for imputation with strategy='mean'.\n",
      "  warnings.warn(\n",
      "d:\\miniconda3\\envs\\py3.10\\lib\\site-packages\\sklearn\\impute\\_base.py:558: UserWarning: Skipping features without any observed values: [2 3 4 5 7]. At least one non-missing value is needed for imputation with strategy='mean'.\n",
      "  warnings.warn(\n",
      "d:\\miniconda3\\envs\\py3.10\\lib\\site-packages\\sklearn\\impute\\_base.py:558: UserWarning: Skipping features without any observed values: [2 3 4 5 7]. At least one non-missing value is needed for imputation with strategy='mean'.\n",
      "  warnings.warn(\n",
      "d:\\miniconda3\\envs\\py3.10\\lib\\site-packages\\sklearn\\impute\\_base.py:558: UserWarning: Skipping features without any observed values: [1 2 3 4 5 6 7]. At least one non-missing value is needed for imputation with strategy='mean'.\n",
      "  warnings.warn(\n",
      "d:\\miniconda3\\envs\\py3.10\\lib\\site-packages\\sklearn\\impute\\_base.py:558: UserWarning: Skipping features without any observed values: [1 2 3 4 5 6 7]. At least one non-missing value is needed for imputation with strategy='mean'.\n",
      "  warnings.warn(\n",
      "d:\\miniconda3\\envs\\py3.10\\lib\\site-packages\\sklearn\\impute\\_base.py:558: UserWarning: Skipping features without any observed values: [1 2 3 4 5 6 7]. At least one non-missing value is needed for imputation with strategy='mean'.\n",
      "  warnings.warn(\n",
      "d:\\miniconda3\\envs\\py3.10\\lib\\site-packages\\sklearn\\impute\\_base.py:558: UserWarning: Skipping features without any observed values: [1 2 3 4 5 6 7]. At least one non-missing value is needed for imputation with strategy='mean'.\n",
      "  warnings.warn(\n",
      "d:\\miniconda3\\envs\\py3.10\\lib\\site-packages\\sklearn\\impute\\_base.py:558: UserWarning: Skipping features without any observed values: [1 2 3 4 5 6 7]. At least one non-missing value is needed for imputation with strategy='mean'.\n",
      "  warnings.warn(\n",
      "d:\\miniconda3\\envs\\py3.10\\lib\\site-packages\\sklearn\\impute\\_base.py:558: UserWarning: Skipping features without any observed values: [1 2 3 4 5 6 7]. At least one non-missing value is needed for imputation with strategy='mean'.\n",
      "  warnings.warn(\n",
      "d:\\miniconda3\\envs\\py3.10\\lib\\site-packages\\sklearn\\impute\\_base.py:558: UserWarning: Skipping features without any observed values: [1 2 3 4 5 6 7]. At least one non-missing value is needed for imputation with strategy='mean'.\n",
      "  warnings.warn(\n",
      "d:\\miniconda3\\envs\\py3.10\\lib\\site-packages\\sklearn\\impute\\_base.py:558: UserWarning: Skipping features without any observed values: [1 2 3 4 5 6 7]. At least one non-missing value is needed for imputation with strategy='mean'.\n",
      "  warnings.warn(\n",
      "d:\\miniconda3\\envs\\py3.10\\lib\\site-packages\\sklearn\\impute\\_base.py:558: UserWarning: Skipping features without any observed values: [1 2 3 4 5 6 7]. At least one non-missing value is needed for imputation with strategy='mean'.\n",
      "  warnings.warn(\n",
      "d:\\miniconda3\\envs\\py3.10\\lib\\site-packages\\sklearn\\impute\\_base.py:558: UserWarning: Skipping features without any observed values: [1 2 3 4 5 6 7]. At least one non-missing value is needed for imputation with strategy='mean'.\n",
      "  warnings.warn(\n"
     ]
    },
    {
     "name": "stdout",
     "output_type": "stream",
     "text": [
      "Data: concrete_compression | Type: logistic | Para: 0.7\n",
      "Data: concrete_compression | Type: mar | Para: 0.3\n",
      "Data: concrete_compression | Type: mar | Para: 0.5\n",
      "Data: concrete_compression | Type: mar | Para: 0.7\n",
      "Data: concrete_compression | Type: mcar | Para: 0.3\n"
     ]
    },
    {
     "name": "stderr",
     "output_type": "stream",
     "text": [
      "d:\\miniconda3\\envs\\py3.10\\lib\\site-packages\\sklearn\\impute\\_iterative.py:800: ConvergenceWarning: [IterativeImputer] Early stopping criterion not reached.\n",
      "  warnings.warn(\n",
      "d:\\miniconda3\\envs\\py3.10\\lib\\site-packages\\sklearn\\impute\\_iterative.py:800: ConvergenceWarning: [IterativeImputer] Early stopping criterion not reached.\n",
      "  warnings.warn(\n",
      "d:\\miniconda3\\envs\\py3.10\\lib\\site-packages\\sklearn\\impute\\_iterative.py:800: ConvergenceWarning: [IterativeImputer] Early stopping criterion not reached.\n",
      "  warnings.warn(\n",
      "d:\\miniconda3\\envs\\py3.10\\lib\\site-packages\\sklearn\\impute\\_iterative.py:800: ConvergenceWarning: [IterativeImputer] Early stopping criterion not reached.\n",
      "  warnings.warn(\n",
      "d:\\miniconda3\\envs\\py3.10\\lib\\site-packages\\sklearn\\impute\\_iterative.py:800: ConvergenceWarning: [IterativeImputer] Early stopping criterion not reached.\n",
      "  warnings.warn(\n",
      "d:\\miniconda3\\envs\\py3.10\\lib\\site-packages\\sklearn\\impute\\_iterative.py:800: ConvergenceWarning: [IterativeImputer] Early stopping criterion not reached.\n",
      "  warnings.warn(\n",
      "d:\\miniconda3\\envs\\py3.10\\lib\\site-packages\\sklearn\\impute\\_iterative.py:800: ConvergenceWarning: [IterativeImputer] Early stopping criterion not reached.\n",
      "  warnings.warn(\n",
      "d:\\miniconda3\\envs\\py3.10\\lib\\site-packages\\sklearn\\impute\\_iterative.py:800: ConvergenceWarning: [IterativeImputer] Early stopping criterion not reached.\n",
      "  warnings.warn(\n"
     ]
    },
    {
     "name": "stdout",
     "output_type": "stream",
     "text": [
      "Data: concrete_compression | Type: mcar | Para: 0.5\n"
     ]
    },
    {
     "name": "stderr",
     "output_type": "stream",
     "text": [
      "d:\\miniconda3\\envs\\py3.10\\lib\\site-packages\\sklearn\\impute\\_iterative.py:800: ConvergenceWarning: [IterativeImputer] Early stopping criterion not reached.\n",
      "  warnings.warn(\n"
     ]
    },
    {
     "name": "stdout",
     "output_type": "stream",
     "text": [
      "Data: concrete_compression | Type: mcar | Para: 0.7\n",
      "Data: connectionist_bench_sonar | Type: diffuse | Para: 0.3\n"
     ]
    },
    {
     "name": "stderr",
     "output_type": "stream",
     "text": [
      "d:\\miniconda3\\envs\\py3.10\\lib\\site-packages\\sklearn\\impute\\_iterative.py:800: ConvergenceWarning: [IterativeImputer] Early stopping criterion not reached.\n",
      "  warnings.warn(\n",
      "d:\\miniconda3\\envs\\py3.10\\lib\\site-packages\\sklearn\\impute\\_iterative.py:800: ConvergenceWarning: [IterativeImputer] Early stopping criterion not reached.\n",
      "  warnings.warn(\n",
      "d:\\miniconda3\\envs\\py3.10\\lib\\site-packages\\sklearn\\impute\\_iterative.py:800: ConvergenceWarning: [IterativeImputer] Early stopping criterion not reached.\n",
      "  warnings.warn(\n",
      "d:\\miniconda3\\envs\\py3.10\\lib\\site-packages\\sklearn\\impute\\_iterative.py:800: ConvergenceWarning: [IterativeImputer] Early stopping criterion not reached.\n",
      "  warnings.warn(\n",
      "d:\\miniconda3\\envs\\py3.10\\lib\\site-packages\\sklearn\\impute\\_iterative.py:800: ConvergenceWarning: [IterativeImputer] Early stopping criterion not reached.\n",
      "  warnings.warn(\n"
     ]
    },
    {
     "name": "stdout",
     "output_type": "stream",
     "text": [
      "Data: connectionist_bench_sonar | Type: diffuse | Para: 0.5\n"
     ]
    },
    {
     "name": "stderr",
     "output_type": "stream",
     "text": [
      "d:\\miniconda3\\envs\\py3.10\\lib\\site-packages\\sklearn\\impute\\_iterative.py:800: ConvergenceWarning: [IterativeImputer] Early stopping criterion not reached.\n",
      "  warnings.warn(\n",
      "d:\\miniconda3\\envs\\py3.10\\lib\\site-packages\\sklearn\\impute\\_iterative.py:800: ConvergenceWarning: [IterativeImputer] Early stopping criterion not reached.\n",
      "  warnings.warn(\n",
      "d:\\miniconda3\\envs\\py3.10\\lib\\site-packages\\sklearn\\impute\\_iterative.py:800: ConvergenceWarning: [IterativeImputer] Early stopping criterion not reached.\n",
      "  warnings.warn(\n",
      "d:\\miniconda3\\envs\\py3.10\\lib\\site-packages\\sklearn\\impute\\_iterative.py:800: ConvergenceWarning: [IterativeImputer] Early stopping criterion not reached.\n",
      "  warnings.warn(\n",
      "d:\\miniconda3\\envs\\py3.10\\lib\\site-packages\\sklearn\\impute\\_iterative.py:800: ConvergenceWarning: [IterativeImputer] Early stopping criterion not reached.\n",
      "  warnings.warn(\n"
     ]
    },
    {
     "name": "stdout",
     "output_type": "stream",
     "text": [
      "Data: connectionist_bench_sonar | Type: diffuse | Para: 0.7\n"
     ]
    },
    {
     "name": "stderr",
     "output_type": "stream",
     "text": [
      "d:\\miniconda3\\envs\\py3.10\\lib\\site-packages\\sklearn\\impute\\_iterative.py:800: ConvergenceWarning: [IterativeImputer] Early stopping criterion not reached.\n",
      "  warnings.warn(\n",
      "d:\\miniconda3\\envs\\py3.10\\lib\\site-packages\\sklearn\\impute\\_iterative.py:800: ConvergenceWarning: [IterativeImputer] Early stopping criterion not reached.\n",
      "  warnings.warn(\n",
      "d:\\miniconda3\\envs\\py3.10\\lib\\site-packages\\sklearn\\impute\\_iterative.py:800: ConvergenceWarning: [IterativeImputer] Early stopping criterion not reached.\n",
      "  warnings.warn(\n",
      "d:\\miniconda3\\envs\\py3.10\\lib\\site-packages\\sklearn\\impute\\_iterative.py:800: ConvergenceWarning: [IterativeImputer] Early stopping criterion not reached.\n",
      "  warnings.warn(\n",
      "d:\\miniconda3\\envs\\py3.10\\lib\\site-packages\\sklearn\\impute\\_iterative.py:800: ConvergenceWarning: [IterativeImputer] Early stopping criterion not reached.\n",
      "  warnings.warn(\n"
     ]
    },
    {
     "name": "stdout",
     "output_type": "stream",
     "text": [
      "Data: connectionist_bench_sonar | Type: logistic | Para: 0.3\n"
     ]
    },
    {
     "name": "stderr",
     "output_type": "stream",
     "text": [
      "d:\\miniconda3\\envs\\py3.10\\lib\\site-packages\\sklearn\\impute\\_iterative.py:800: ConvergenceWarning: [IterativeImputer] Early stopping criterion not reached.\n",
      "  warnings.warn(\n",
      "d:\\miniconda3\\envs\\py3.10\\lib\\site-packages\\sklearn\\impute\\_iterative.py:800: ConvergenceWarning: [IterativeImputer] Early stopping criterion not reached.\n",
      "  warnings.warn(\n",
      "d:\\miniconda3\\envs\\py3.10\\lib\\site-packages\\sklearn\\impute\\_iterative.py:800: ConvergenceWarning: [IterativeImputer] Early stopping criterion not reached.\n",
      "  warnings.warn(\n",
      "d:\\miniconda3\\envs\\py3.10\\lib\\site-packages\\sklearn\\impute\\_iterative.py:800: ConvergenceWarning: [IterativeImputer] Early stopping criterion not reached.\n",
      "  warnings.warn(\n",
      "d:\\miniconda3\\envs\\py3.10\\lib\\site-packages\\sklearn\\impute\\_iterative.py:800: ConvergenceWarning: [IterativeImputer] Early stopping criterion not reached.\n",
      "  warnings.warn(\n"
     ]
    },
    {
     "name": "stdout",
     "output_type": "stream",
     "text": [
      "Data: connectionist_bench_sonar | Type: logistic | Para: 0.5\n"
     ]
    },
    {
     "name": "stderr",
     "output_type": "stream",
     "text": [
      "d:\\miniconda3\\envs\\py3.10\\lib\\site-packages\\sklearn\\impute\\_iterative.py:800: ConvergenceWarning: [IterativeImputer] Early stopping criterion not reached.\n",
      "  warnings.warn(\n",
      "d:\\miniconda3\\envs\\py3.10\\lib\\site-packages\\sklearn\\impute\\_iterative.py:800: ConvergenceWarning: [IterativeImputer] Early stopping criterion not reached.\n",
      "  warnings.warn(\n",
      "d:\\miniconda3\\envs\\py3.10\\lib\\site-packages\\sklearn\\impute\\_iterative.py:800: ConvergenceWarning: [IterativeImputer] Early stopping criterion not reached.\n",
      "  warnings.warn(\n",
      "d:\\miniconda3\\envs\\py3.10\\lib\\site-packages\\sklearn\\impute\\_iterative.py:800: ConvergenceWarning: [IterativeImputer] Early stopping criterion not reached.\n",
      "  warnings.warn(\n",
      "d:\\miniconda3\\envs\\py3.10\\lib\\site-packages\\sklearn\\impute\\_iterative.py:800: ConvergenceWarning: [IterativeImputer] Early stopping criterion not reached.\n",
      "  warnings.warn(\n"
     ]
    },
    {
     "name": "stdout",
     "output_type": "stream",
     "text": [
      "Data: connectionist_bench_sonar | Type: logistic | Para: 0.7\n"
     ]
    },
    {
     "name": "stderr",
     "output_type": "stream",
     "text": [
      "d:\\miniconda3\\envs\\py3.10\\lib\\site-packages\\sklearn\\impute\\_iterative.py:800: ConvergenceWarning: [IterativeImputer] Early stopping criterion not reached.\n",
      "  warnings.warn(\n",
      "d:\\miniconda3\\envs\\py3.10\\lib\\site-packages\\sklearn\\impute\\_iterative.py:800: ConvergenceWarning: [IterativeImputer] Early stopping criterion not reached.\n",
      "  warnings.warn(\n",
      "d:\\miniconda3\\envs\\py3.10\\lib\\site-packages\\sklearn\\impute\\_iterative.py:800: ConvergenceWarning: [IterativeImputer] Early stopping criterion not reached.\n",
      "  warnings.warn(\n",
      "d:\\miniconda3\\envs\\py3.10\\lib\\site-packages\\sklearn\\impute\\_iterative.py:800: ConvergenceWarning: [IterativeImputer] Early stopping criterion not reached.\n",
      "  warnings.warn(\n",
      "d:\\miniconda3\\envs\\py3.10\\lib\\site-packages\\sklearn\\impute\\_iterative.py:800: ConvergenceWarning: [IterativeImputer] Early stopping criterion not reached.\n",
      "  warnings.warn(\n",
      "d:\\miniconda3\\envs\\py3.10\\lib\\site-packages\\sklearn\\impute\\_base.py:558: UserWarning: Skipping features without any observed values: [ 1  3  5  8 10 11 15 19 22 24 25 29 30 36 39 40 42 50]. At least one non-missing value is needed for imputation with strategy='mean'.\n",
      "  warnings.warn(\n",
      "d:\\miniconda3\\envs\\py3.10\\lib\\site-packages\\sklearn\\impute\\_base.py:558: UserWarning: Skipping features without any observed values: [ 1  3  5  8 10 11 15 19 22 24 25 29 30 36 39 40 42 50]. At least one non-missing value is needed for imputation with strategy='mean'.\n",
      "  warnings.warn(\n",
      "d:\\miniconda3\\envs\\py3.10\\lib\\site-packages\\sklearn\\impute\\_base.py:558: UserWarning: Skipping features without any observed values: [ 1  3  5  8 10 11 15 19 22 24 25 29 30 36 39 40 42 50]. At least one non-missing value is needed for imputation with strategy='mean'.\n",
      "  warnings.warn(\n",
      "d:\\miniconda3\\envs\\py3.10\\lib\\site-packages\\sklearn\\impute\\_base.py:558: UserWarning: Skipping features without any observed values: [ 1  3  5  8 10 11 15 19 22 24 25 29 30 36 39 40 42 50]. At least one non-missing value is needed for imputation with strategy='mean'.\n",
      "  warnings.warn(\n",
      "d:\\miniconda3\\envs\\py3.10\\lib\\site-packages\\sklearn\\impute\\_base.py:558: UserWarning: Skipping features without any observed values: [ 1  3  5  8 10 11 15 19 22 24 25 29 30 36 39 40 42 50]. At least one non-missing value is needed for imputation with strategy='mean'.\n",
      "  warnings.warn(\n",
      "d:\\miniconda3\\envs\\py3.10\\lib\\site-packages\\sklearn\\impute\\_base.py:558: UserWarning: Skipping features without any observed values: [ 1  3  5  8 10 11 15 19 22 24 25 29 30 36 39 40 42 50]. At least one non-missing value is needed for imputation with strategy='mean'.\n",
      "  warnings.warn(\n"
     ]
    },
    {
     "name": "stdout",
     "output_type": "stream",
     "text": [
      "Data: connectionist_bench_sonar | Type: mar | Para: 0.3\n"
     ]
    },
    {
     "name": "stderr",
     "output_type": "stream",
     "text": [
      "d:\\miniconda3\\envs\\py3.10\\lib\\site-packages\\sklearn\\impute\\_base.py:558: UserWarning: Skipping features without any observed values: [ 1  3  5  8 10 11 15 19 22 24 25 29 30 36 39 40 42 50]. At least one non-missing value is needed for imputation with strategy='mean'.\n",
      "  warnings.warn(\n",
      "d:\\miniconda3\\envs\\py3.10\\lib\\site-packages\\sklearn\\impute\\_base.py:558: UserWarning: Skipping features without any observed values: [ 1  3  5  8 10 11 15 19 22 24 25 29 30 36 39 40 42 50]. At least one non-missing value is needed for imputation with strategy='mean'.\n",
      "  warnings.warn(\n",
      "d:\\miniconda3\\envs\\py3.10\\lib\\site-packages\\sklearn\\impute\\_base.py:558: UserWarning: Skipping features without any observed values: [ 1  3  5  8 10 11 15 19 22 24 25 29 30 36 39 40 42 50]. At least one non-missing value is needed for imputation with strategy='mean'.\n",
      "  warnings.warn(\n",
      "d:\\miniconda3\\envs\\py3.10\\lib\\site-packages\\sklearn\\impute\\_base.py:558: UserWarning: Skipping features without any observed values: [ 1  3  5  8 10 11 15 19 22 24 25 29 30 36 39 40 42 50]. At least one non-missing value is needed for imputation with strategy='mean'.\n",
      "  warnings.warn(\n",
      "d:\\miniconda3\\envs\\py3.10\\lib\\site-packages\\sklearn\\impute\\_base.py:558: UserWarning: Skipping features without any observed values: [ 0  1  2  3  5  7  8  9 10 11 13 14 15 16 17 19 20 22 23 24 25 26 29 30\n",
      " 31 32 33 34 36 38 39 40 41 42 48 49 50 51 53 55 58 59]. At least one non-missing value is needed for imputation with strategy='mean'.\n",
      "  warnings.warn(\n",
      "d:\\miniconda3\\envs\\py3.10\\lib\\site-packages\\sklearn\\impute\\_base.py:558: UserWarning: Skipping features without any observed values: [ 0  1  2  3  5  7  8  9 10 11 13 14 15 16 17 19 20 22 23 24 25 26 29 30\n",
      " 31 32 33 34 36 38 39 40 41 42 48 49 50 51 53 55 58 59]. At least one non-missing value is needed for imputation with strategy='mean'.\n",
      "  warnings.warn(\n",
      "d:\\miniconda3\\envs\\py3.10\\lib\\site-packages\\sklearn\\impute\\_base.py:558: UserWarning: Skipping features without any observed values: [ 0  1  2  3  5  7  8  9 10 11 13 14 15 16 17 19 20 22 23 24 25 26 29 30\n",
      " 31 32 33 34 36 38 39 40 41 42 48 49 50 51 53 55 58 59]. At least one non-missing value is needed for imputation with strategy='mean'.\n",
      "  warnings.warn(\n",
      "d:\\miniconda3\\envs\\py3.10\\lib\\site-packages\\sklearn\\impute\\_base.py:558: UserWarning: Skipping features without any observed values: [ 0  1  2  3  5  7  8  9 10 11 13 14 15 16 17 19 20 22 23 24 25 26 29 30\n",
      " 31 32 33 34 36 38 39 40 41 42 48 49 50 51 53 55 58 59]. At least one non-missing value is needed for imputation with strategy='mean'.\n",
      "  warnings.warn(\n",
      "d:\\miniconda3\\envs\\py3.10\\lib\\site-packages\\sklearn\\impute\\_base.py:558: UserWarning: Skipping features without any observed values: [ 0  1  2  3  5  7  8  9 10 11 13 14 15 16 17 19 20 22 23 24 25 26 29 30\n",
      " 31 32 33 34 36 38 39 40 41 42 48 49 50 51 53 55 58 59]. At least one non-missing value is needed for imputation with strategy='mean'.\n",
      "  warnings.warn(\n",
      "d:\\miniconda3\\envs\\py3.10\\lib\\site-packages\\sklearn\\impute\\_base.py:558: UserWarning: Skipping features without any observed values: [ 0  1  2  3  5  7  8  9 10 11 13 14 15 16 17 19 20 22 23 24 25 26 29 30\n",
      " 31 32 33 34 36 38 39 40 41 42 48 49 50 51 53 55 58 59]. At least one non-missing value is needed for imputation with strategy='mean'.\n",
      "  warnings.warn(\n",
      "d:\\miniconda3\\envs\\py3.10\\lib\\site-packages\\sklearn\\impute\\_base.py:558: UserWarning: Skipping features without any observed values: [ 0  1  2  3  5  7  8  9 10 11 13 14 15 16 17 19 20 22 23 24 25 26 29 30\n",
      " 31 32 33 34 36 38 39 40 41 42 48 49 50 51 53 55 58 59]. At least one non-missing value is needed for imputation with strategy='mean'.\n",
      "  warnings.warn(\n",
      "d:\\miniconda3\\envs\\py3.10\\lib\\site-packages\\sklearn\\impute\\_base.py:558: UserWarning: Skipping features without any observed values: [ 0  1  2  3  5  7  8  9 10 11 13 14 15 16 17 19 20 22 23 24 25 26 29 30\n",
      " 31 32 33 34 36 38 39 40 41 42 48 49 50 51 53 55 58 59]. At least one non-missing value is needed for imputation with strategy='mean'.\n",
      "  warnings.warn(\n"
     ]
    },
    {
     "name": "stdout",
     "output_type": "stream",
     "text": [
      "Data: connectionist_bench_sonar | Type: mar | Para: 0.5\n",
      "Data: connectionist_bench_sonar | Type: mar | Para: 0.7\n",
      "Data: connectionist_bench_sonar | Type: mcar | Para: 0.3\n"
     ]
    },
    {
     "name": "stderr",
     "output_type": "stream",
     "text": [
      "d:\\miniconda3\\envs\\py3.10\\lib\\site-packages\\sklearn\\impute\\_base.py:558: UserWarning: Skipping features without any observed values: [ 0  1  2  3  5  7  8  9 10 11 13 14 15 16 17 19 20 22 23 24 25 26 29 30\n",
      " 31 32 33 34 36 38 39 40 41 42 48 49 50 51 53 55 58 59]. At least one non-missing value is needed for imputation with strategy='mean'.\n",
      "  warnings.warn(\n",
      "d:\\miniconda3\\envs\\py3.10\\lib\\site-packages\\sklearn\\impute\\_base.py:558: UserWarning: Skipping features without any observed values: [ 0  1  2  3  5  7  8  9 10 11 13 14 15 16 17 19 20 22 23 24 25 26 29 30\n",
      " 31 32 33 34 36 38 39 40 41 42 48 49 50 51 53 55 58 59]. At least one non-missing value is needed for imputation with strategy='mean'.\n",
      "  warnings.warn(\n",
      "d:\\miniconda3\\envs\\py3.10\\lib\\site-packages\\sklearn\\impute\\_base.py:558: UserWarning: Skipping features without any observed values: [ 0  1  2  3  4  5  6  7  8  9 10 11 13 14 15 16 17 18 19 20 21 22 23 24\n",
      " 25 26 27 29 30 31 32 33 34 35 36 38 39 40 41 42 43 45 47 48 49 50 51 52\n",
      " 53 54 55 56 58 59]. At least one non-missing value is needed for imputation with strategy='mean'.\n",
      "  warnings.warn(\n",
      "d:\\miniconda3\\envs\\py3.10\\lib\\site-packages\\sklearn\\impute\\_base.py:558: UserWarning: Skipping features without any observed values: [ 0  1  2  3  4  5  6  7  8  9 10 11 13 14 15 16 17 18 19 20 21 22 23 24\n",
      " 25 26 27 29 30 31 32 33 34 35 36 38 39 40 41 42 43 45 47 48 49 50 51 52\n",
      " 53 54 55 56 58 59]. At least one non-missing value is needed for imputation with strategy='mean'.\n",
      "  warnings.warn(\n",
      "d:\\miniconda3\\envs\\py3.10\\lib\\site-packages\\sklearn\\impute\\_base.py:558: UserWarning: Skipping features without any observed values: [ 0  1  2  3  4  5  6  7  8  9 10 11 13 14 15 16 17 18 19 20 21 22 23 24\n",
      " 25 26 27 29 30 31 32 33 34 35 36 38 39 40 41 42 43 45 47 48 49 50 51 52\n",
      " 53 54 55 56 58 59]. At least one non-missing value is needed for imputation with strategy='mean'.\n",
      "  warnings.warn(\n",
      "d:\\miniconda3\\envs\\py3.10\\lib\\site-packages\\sklearn\\impute\\_base.py:558: UserWarning: Skipping features without any observed values: [ 0  1  2  3  4  5  6  7  8  9 10 11 13 14 15 16 17 18 19 20 21 22 23 24\n",
      " 25 26 27 29 30 31 32 33 34 35 36 38 39 40 41 42 43 45 47 48 49 50 51 52\n",
      " 53 54 55 56 58 59]. At least one non-missing value is needed for imputation with strategy='mean'.\n",
      "  warnings.warn(\n",
      "d:\\miniconda3\\envs\\py3.10\\lib\\site-packages\\sklearn\\impute\\_base.py:558: UserWarning: Skipping features without any observed values: [ 0  1  2  3  4  5  6  7  8  9 10 11 13 14 15 16 17 18 19 20 21 22 23 24\n",
      " 25 26 27 29 30 31 32 33 34 35 36 38 39 40 41 42 43 45 47 48 49 50 51 52\n",
      " 53 54 55 56 58 59]. At least one non-missing value is needed for imputation with strategy='mean'.\n",
      "  warnings.warn(\n",
      "d:\\miniconda3\\envs\\py3.10\\lib\\site-packages\\sklearn\\impute\\_base.py:558: UserWarning: Skipping features without any observed values: [ 0  1  2  3  4  5  6  7  8  9 10 11 13 14 15 16 17 18 19 20 21 22 23 24\n",
      " 25 26 27 29 30 31 32 33 34 35 36 38 39 40 41 42 43 45 47 48 49 50 51 52\n",
      " 53 54 55 56 58 59]. At least one non-missing value is needed for imputation with strategy='mean'.\n",
      "  warnings.warn(\n",
      "d:\\miniconda3\\envs\\py3.10\\lib\\site-packages\\sklearn\\impute\\_base.py:558: UserWarning: Skipping features without any observed values: [ 0  1  2  3  4  5  6  7  8  9 10 11 13 14 15 16 17 18 19 20 21 22 23 24\n",
      " 25 26 27 29 30 31 32 33 34 35 36 38 39 40 41 42 43 45 47 48 49 50 51 52\n",
      " 53 54 55 56 58 59]. At least one non-missing value is needed for imputation with strategy='mean'.\n",
      "  warnings.warn(\n",
      "d:\\miniconda3\\envs\\py3.10\\lib\\site-packages\\sklearn\\impute\\_base.py:558: UserWarning: Skipping features without any observed values: [ 0  1  2  3  4  5  6  7  8  9 10 11 13 14 15 16 17 18 19 20 21 22 23 24\n",
      " 25 26 27 29 30 31 32 33 34 35 36 38 39 40 41 42 43 45 47 48 49 50 51 52\n",
      " 53 54 55 56 58 59]. At least one non-missing value is needed for imputation with strategy='mean'.\n",
      "  warnings.warn(\n",
      "d:\\miniconda3\\envs\\py3.10\\lib\\site-packages\\sklearn\\impute\\_base.py:558: UserWarning: Skipping features without any observed values: [ 0  1  2  3  4  5  6  7  8  9 10 11 13 14 15 16 17 18 19 20 21 22 23 24\n",
      " 25 26 27 29 30 31 32 33 34 35 36 38 39 40 41 42 43 45 47 48 49 50 51 52\n",
      " 53 54 55 56 58 59]. At least one non-missing value is needed for imputation with strategy='mean'.\n",
      "  warnings.warn(\n",
      "d:\\miniconda3\\envs\\py3.10\\lib\\site-packages\\sklearn\\impute\\_base.py:558: UserWarning: Skipping features without any observed values: [ 0  1  2  3  4  5  6  7  8  9 10 11 13 14 15 16 17 18 19 20 21 22 23 24\n",
      " 25 26 27 29 30 31 32 33 34 35 36 38 39 40 41 42 43 45 47 48 49 50 51 52\n",
      " 53 54 55 56 58 59]. At least one non-missing value is needed for imputation with strategy='mean'.\n",
      "  warnings.warn(\n",
      "d:\\miniconda3\\envs\\py3.10\\lib\\site-packages\\sklearn\\impute\\_iterative.py:800: ConvergenceWarning: [IterativeImputer] Early stopping criterion not reached.\n",
      "  warnings.warn(\n",
      "d:\\miniconda3\\envs\\py3.10\\lib\\site-packages\\sklearn\\impute\\_iterative.py:800: ConvergenceWarning: [IterativeImputer] Early stopping criterion not reached.\n",
      "  warnings.warn(\n",
      "d:\\miniconda3\\envs\\py3.10\\lib\\site-packages\\sklearn\\impute\\_iterative.py:800: ConvergenceWarning: [IterativeImputer] Early stopping criterion not reached.\n",
      "  warnings.warn(\n",
      "d:\\miniconda3\\envs\\py3.10\\lib\\site-packages\\sklearn\\impute\\_iterative.py:800: ConvergenceWarning: [IterativeImputer] Early stopping criterion not reached.\n",
      "  warnings.warn(\n",
      "d:\\miniconda3\\envs\\py3.10\\lib\\site-packages\\sklearn\\impute\\_iterative.py:800: ConvergenceWarning: [IterativeImputer] Early stopping criterion not reached.\n",
      "  warnings.warn(\n"
     ]
    },
    {
     "name": "stdout",
     "output_type": "stream",
     "text": [
      "Data: connectionist_bench_sonar | Type: mcar | Para: 0.5\n"
     ]
    },
    {
     "name": "stderr",
     "output_type": "stream",
     "text": [
      "d:\\miniconda3\\envs\\py3.10\\lib\\site-packages\\sklearn\\impute\\_iterative.py:800: ConvergenceWarning: [IterativeImputer] Early stopping criterion not reached.\n",
      "  warnings.warn(\n",
      "d:\\miniconda3\\envs\\py3.10\\lib\\site-packages\\sklearn\\impute\\_iterative.py:800: ConvergenceWarning: [IterativeImputer] Early stopping criterion not reached.\n",
      "  warnings.warn(\n",
      "d:\\miniconda3\\envs\\py3.10\\lib\\site-packages\\sklearn\\impute\\_iterative.py:800: ConvergenceWarning: [IterativeImputer] Early stopping criterion not reached.\n",
      "  warnings.warn(\n",
      "d:\\miniconda3\\envs\\py3.10\\lib\\site-packages\\sklearn\\impute\\_iterative.py:800: ConvergenceWarning: [IterativeImputer] Early stopping criterion not reached.\n",
      "  warnings.warn(\n",
      "d:\\miniconda3\\envs\\py3.10\\lib\\site-packages\\sklearn\\impute\\_iterative.py:800: ConvergenceWarning: [IterativeImputer] Early stopping criterion not reached.\n",
      "  warnings.warn(\n"
     ]
    },
    {
     "name": "stdout",
     "output_type": "stream",
     "text": [
      "Data: connectionist_bench_sonar | Type: mcar | Para: 0.7\n"
     ]
    },
    {
     "name": "stderr",
     "output_type": "stream",
     "text": [
      "d:\\miniconda3\\envs\\py3.10\\lib\\site-packages\\sklearn\\impute\\_iterative.py:800: ConvergenceWarning: [IterativeImputer] Early stopping criterion not reached.\n",
      "  warnings.warn(\n",
      "d:\\miniconda3\\envs\\py3.10\\lib\\site-packages\\sklearn\\impute\\_iterative.py:800: ConvergenceWarning: [IterativeImputer] Early stopping criterion not reached.\n",
      "  warnings.warn(\n",
      "d:\\miniconda3\\envs\\py3.10\\lib\\site-packages\\sklearn\\impute\\_iterative.py:800: ConvergenceWarning: [IterativeImputer] Early stopping criterion not reached.\n",
      "  warnings.warn(\n",
      "d:\\miniconda3\\envs\\py3.10\\lib\\site-packages\\sklearn\\impute\\_iterative.py:800: ConvergenceWarning: [IterativeImputer] Early stopping criterion not reached.\n",
      "  warnings.warn(\n",
      "d:\\miniconda3\\envs\\py3.10\\lib\\site-packages\\sklearn\\impute\\_iterative.py:800: ConvergenceWarning: [IterativeImputer] Early stopping criterion not reached.\n",
      "  warnings.warn(\n"
     ]
    },
    {
     "name": "stdout",
     "output_type": "stream",
     "text": [
      "Data: qsar_biodegradation | Type: diffuse | Para: 0.3\n"
     ]
    },
    {
     "name": "stderr",
     "output_type": "stream",
     "text": [
      "d:\\miniconda3\\envs\\py3.10\\lib\\site-packages\\sklearn\\impute\\_iterative.py:800: ConvergenceWarning: [IterativeImputer] Early stopping criterion not reached.\n",
      "  warnings.warn(\n",
      "d:\\miniconda3\\envs\\py3.10\\lib\\site-packages\\sklearn\\impute\\_iterative.py:800: ConvergenceWarning: [IterativeImputer] Early stopping criterion not reached.\n",
      "  warnings.warn(\n",
      "d:\\miniconda3\\envs\\py3.10\\lib\\site-packages\\sklearn\\impute\\_iterative.py:800: ConvergenceWarning: [IterativeImputer] Early stopping criterion not reached.\n",
      "  warnings.warn(\n",
      "d:\\miniconda3\\envs\\py3.10\\lib\\site-packages\\sklearn\\impute\\_iterative.py:800: ConvergenceWarning: [IterativeImputer] Early stopping criterion not reached.\n",
      "  warnings.warn(\n",
      "d:\\miniconda3\\envs\\py3.10\\lib\\site-packages\\sklearn\\impute\\_iterative.py:800: ConvergenceWarning: [IterativeImputer] Early stopping criterion not reached.\n",
      "  warnings.warn(\n"
     ]
    },
    {
     "name": "stdout",
     "output_type": "stream",
     "text": [
      "Data: qsar_biodegradation | Type: diffuse | Para: 0.5\n"
     ]
    },
    {
     "name": "stderr",
     "output_type": "stream",
     "text": [
      "d:\\miniconda3\\envs\\py3.10\\lib\\site-packages\\sklearn\\impute\\_iterative.py:800: ConvergenceWarning: [IterativeImputer] Early stopping criterion not reached.\n",
      "  warnings.warn(\n",
      "d:\\miniconda3\\envs\\py3.10\\lib\\site-packages\\sklearn\\impute\\_iterative.py:800: ConvergenceWarning: [IterativeImputer] Early stopping criterion not reached.\n",
      "  warnings.warn(\n",
      "d:\\miniconda3\\envs\\py3.10\\lib\\site-packages\\sklearn\\impute\\_iterative.py:800: ConvergenceWarning: [IterativeImputer] Early stopping criterion not reached.\n",
      "  warnings.warn(\n",
      "d:\\miniconda3\\envs\\py3.10\\lib\\site-packages\\sklearn\\impute\\_iterative.py:800: ConvergenceWarning: [IterativeImputer] Early stopping criterion not reached.\n",
      "  warnings.warn(\n",
      "d:\\miniconda3\\envs\\py3.10\\lib\\site-packages\\sklearn\\impute\\_iterative.py:800: ConvergenceWarning: [IterativeImputer] Early stopping criterion not reached.\n",
      "  warnings.warn(\n"
     ]
    },
    {
     "name": "stdout",
     "output_type": "stream",
     "text": [
      "Data: qsar_biodegradation | Type: diffuse | Para: 0.7\n"
     ]
    },
    {
     "name": "stderr",
     "output_type": "stream",
     "text": [
      "d:\\miniconda3\\envs\\py3.10\\lib\\site-packages\\sklearn\\impute\\_iterative.py:800: ConvergenceWarning: [IterativeImputer] Early stopping criterion not reached.\n",
      "  warnings.warn(\n",
      "d:\\miniconda3\\envs\\py3.10\\lib\\site-packages\\sklearn\\impute\\_iterative.py:800: ConvergenceWarning: [IterativeImputer] Early stopping criterion not reached.\n",
      "  warnings.warn(\n",
      "d:\\miniconda3\\envs\\py3.10\\lib\\site-packages\\sklearn\\impute\\_iterative.py:800: ConvergenceWarning: [IterativeImputer] Early stopping criterion not reached.\n",
      "  warnings.warn(\n",
      "d:\\miniconda3\\envs\\py3.10\\lib\\site-packages\\sklearn\\impute\\_iterative.py:800: ConvergenceWarning: [IterativeImputer] Early stopping criterion not reached.\n",
      "  warnings.warn(\n",
      "d:\\miniconda3\\envs\\py3.10\\lib\\site-packages\\sklearn\\impute\\_iterative.py:800: ConvergenceWarning: [IterativeImputer] Early stopping criterion not reached.\n",
      "  warnings.warn(\n"
     ]
    },
    {
     "name": "stdout",
     "output_type": "stream",
     "text": [
      "Data: qsar_biodegradation | Type: logistic | Para: 0.3\n"
     ]
    },
    {
     "name": "stderr",
     "output_type": "stream",
     "text": [
      "d:\\miniconda3\\envs\\py3.10\\lib\\site-packages\\sklearn\\impute\\_iterative.py:800: ConvergenceWarning: [IterativeImputer] Early stopping criterion not reached.\n",
      "  warnings.warn(\n"
     ]
    },
    {
     "name": "stdout",
     "output_type": "stream",
     "text": [
      "Data: qsar_biodegradation | Type: logistic | Para: 0.5\n"
     ]
    },
    {
     "name": "stderr",
     "output_type": "stream",
     "text": [
      "d:\\miniconda3\\envs\\py3.10\\lib\\site-packages\\sklearn\\impute\\_iterative.py:800: ConvergenceWarning: [IterativeImputer] Early stopping criterion not reached.\n",
      "  warnings.warn(\n",
      "d:\\miniconda3\\envs\\py3.10\\lib\\site-packages\\sklearn\\impute\\_iterative.py:800: ConvergenceWarning: [IterativeImputer] Early stopping criterion not reached.\n",
      "  warnings.warn(\n",
      "d:\\miniconda3\\envs\\py3.10\\lib\\site-packages\\sklearn\\impute\\_iterative.py:800: ConvergenceWarning: [IterativeImputer] Early stopping criterion not reached.\n",
      "  warnings.warn(\n",
      "d:\\miniconda3\\envs\\py3.10\\lib\\site-packages\\sklearn\\impute\\_iterative.py:800: ConvergenceWarning: [IterativeImputer] Early stopping criterion not reached.\n",
      "  warnings.warn(\n",
      "d:\\miniconda3\\envs\\py3.10\\lib\\site-packages\\sklearn\\impute\\_iterative.py:800: ConvergenceWarning: [IterativeImputer] Early stopping criterion not reached.\n",
      "  warnings.warn(\n"
     ]
    },
    {
     "name": "stdout",
     "output_type": "stream",
     "text": [
      "Data: qsar_biodegradation | Type: logistic | Para: 0.7\n"
     ]
    },
    {
     "name": "stderr",
     "output_type": "stream",
     "text": [
      "d:\\miniconda3\\envs\\py3.10\\lib\\site-packages\\sklearn\\impute\\_iterative.py:800: ConvergenceWarning: [IterativeImputer] Early stopping criterion not reached.\n",
      "  warnings.warn(\n",
      "d:\\miniconda3\\envs\\py3.10\\lib\\site-packages\\sklearn\\impute\\_iterative.py:800: ConvergenceWarning: [IterativeImputer] Early stopping criterion not reached.\n",
      "  warnings.warn(\n",
      "d:\\miniconda3\\envs\\py3.10\\lib\\site-packages\\sklearn\\impute\\_iterative.py:800: ConvergenceWarning: [IterativeImputer] Early stopping criterion not reached.\n",
      "  warnings.warn(\n",
      "d:\\miniconda3\\envs\\py3.10\\lib\\site-packages\\sklearn\\impute\\_iterative.py:800: ConvergenceWarning: [IterativeImputer] Early stopping criterion not reached.\n",
      "  warnings.warn(\n",
      "d:\\miniconda3\\envs\\py3.10\\lib\\site-packages\\sklearn\\impute\\_iterative.py:800: ConvergenceWarning: [IterativeImputer] Early stopping criterion not reached.\n",
      "  warnings.warn(\n",
      "d:\\miniconda3\\envs\\py3.10\\lib\\site-packages\\sklearn\\impute\\_base.py:558: UserWarning: Skipping features without any observed values: [ 1  8 12 15 17 19 22 26 28 34 38 39]. At least one non-missing value is needed for imputation with strategy='mean'.\n",
      "  warnings.warn(\n",
      "d:\\miniconda3\\envs\\py3.10\\lib\\site-packages\\sklearn\\impute\\_base.py:558: UserWarning: Skipping features without any observed values: [ 1  8 12 15 17 19 22 26 28 34 38 39]. At least one non-missing value is needed for imputation with strategy='mean'.\n",
      "  warnings.warn(\n",
      "d:\\miniconda3\\envs\\py3.10\\lib\\site-packages\\sklearn\\impute\\_base.py:558: UserWarning: Skipping features without any observed values: [ 1  8 12 15 17 19 22 26 28 34 38 39]. At least one non-missing value is needed for imputation with strategy='mean'.\n",
      "  warnings.warn(\n",
      "d:\\miniconda3\\envs\\py3.10\\lib\\site-packages\\sklearn\\impute\\_base.py:558: UserWarning: Skipping features without any observed values: [ 1  8 12 15 17 19 22 26 28 34 38 39]. At least one non-missing value is needed for imputation with strategy='mean'.\n",
      "  warnings.warn(\n",
      "d:\\miniconda3\\envs\\py3.10\\lib\\site-packages\\sklearn\\impute\\_base.py:558: UserWarning: Skipping features without any observed values: [ 1  8 12 15 17 19 22 26 28 34 38 39]. At least one non-missing value is needed for imputation with strategy='mean'.\n",
      "  warnings.warn(\n",
      "d:\\miniconda3\\envs\\py3.10\\lib\\site-packages\\sklearn\\impute\\_base.py:558: UserWarning: Skipping features without any observed values: [ 1  8 12 15 17 19 22 26 28 34 38 39]. At least one non-missing value is needed for imputation with strategy='mean'.\n",
      "  warnings.warn(\n"
     ]
    },
    {
     "name": "stdout",
     "output_type": "stream",
     "text": [
      "Data: qsar_biodegradation | Type: mar | Para: 0.3\n"
     ]
    },
    {
     "name": "stderr",
     "output_type": "stream",
     "text": [
      "d:\\miniconda3\\envs\\py3.10\\lib\\site-packages\\sklearn\\impute\\_base.py:558: UserWarning: Skipping features without any observed values: [ 1  8 12 15 17 19 22 26 28 34 38 39]. At least one non-missing value is needed for imputation with strategy='mean'.\n",
      "  warnings.warn(\n",
      "d:\\miniconda3\\envs\\py3.10\\lib\\site-packages\\sklearn\\impute\\_base.py:558: UserWarning: Skipping features without any observed values: [ 1  8 12 15 17 19 22 26 28 34 38 39]. At least one non-missing value is needed for imputation with strategy='mean'.\n",
      "  warnings.warn(\n",
      "d:\\miniconda3\\envs\\py3.10\\lib\\site-packages\\sklearn\\impute\\_base.py:558: UserWarning: Skipping features without any observed values: [ 1  8 12 15 17 19 22 26 28 34 38 39]. At least one non-missing value is needed for imputation with strategy='mean'.\n",
      "  warnings.warn(\n",
      "d:\\miniconda3\\envs\\py3.10\\lib\\site-packages\\sklearn\\impute\\_base.py:558: UserWarning: Skipping features without any observed values: [ 1  8 12 15 17 19 22 26 28 34 38 39]. At least one non-missing value is needed for imputation with strategy='mean'.\n",
      "  warnings.warn(\n",
      "d:\\miniconda3\\envs\\py3.10\\lib\\site-packages\\sklearn\\impute\\_base.py:558: UserWarning: Skipping features without any observed values: [ 0  1  7  8 11 12 13 14 15 17 19 20 21 22 23 25 26 27 28 30 32 34 35 36\n",
      " 37 38 39]. At least one non-missing value is needed for imputation with strategy='mean'.\n",
      "  warnings.warn(\n",
      "d:\\miniconda3\\envs\\py3.10\\lib\\site-packages\\sklearn\\impute\\_base.py:558: UserWarning: Skipping features without any observed values: [ 0  1  7  8 11 12 13 14 15 17 19 20 21 22 23 25 26 27 28 30 32 34 35 36\n",
      " 37 38 39]. At least one non-missing value is needed for imputation with strategy='mean'.\n",
      "  warnings.warn(\n",
      "d:\\miniconda3\\envs\\py3.10\\lib\\site-packages\\sklearn\\impute\\_base.py:558: UserWarning: Skipping features without any observed values: [ 0  1  7  8 11 12 13 14 15 17 19 20 21 22 23 25 26 27 28 30 32 34 35 36\n",
      " 37 38 39]. At least one non-missing value is needed for imputation with strategy='mean'.\n",
      "  warnings.warn(\n",
      "d:\\miniconda3\\envs\\py3.10\\lib\\site-packages\\sklearn\\impute\\_base.py:558: UserWarning: Skipping features without any observed values: [ 0  1  7  8 11 12 13 14 15 17 19 20 21 22 23 25 26 27 28 30 32 34 35 36\n",
      " 37 38 39]. At least one non-missing value is needed for imputation with strategy='mean'.\n",
      "  warnings.warn(\n",
      "d:\\miniconda3\\envs\\py3.10\\lib\\site-packages\\sklearn\\impute\\_base.py:558: UserWarning: Skipping features without any observed values: [ 0  1  7  8 11 12 13 14 15 17 19 20 21 22 23 25 26 27 28 30 32 34 35 36\n",
      " 37 38 39]. At least one non-missing value is needed for imputation with strategy='mean'.\n",
      "  warnings.warn(\n",
      "d:\\miniconda3\\envs\\py3.10\\lib\\site-packages\\sklearn\\impute\\_base.py:558: UserWarning: Skipping features without any observed values: [ 0  1  7  8 11 12 13 14 15 17 19 20 21 22 23 25 26 27 28 30 32 34 35 36\n",
      " 37 38 39]. At least one non-missing value is needed for imputation with strategy='mean'.\n",
      "  warnings.warn(\n"
     ]
    },
    {
     "name": "stdout",
     "output_type": "stream",
     "text": [
      "Data: qsar_biodegradation | Type: mar | Para: 0.5\n",
      "Data: qsar_biodegradation | Type: mar | Para: 0.7\n",
      "Data: qsar_biodegradation | Type: mcar | Para: 0.3\n"
     ]
    },
    {
     "name": "stderr",
     "output_type": "stream",
     "text": [
      "d:\\miniconda3\\envs\\py3.10\\lib\\site-packages\\sklearn\\impute\\_base.py:558: UserWarning: Skipping features without any observed values: [ 0  1  7  8 11 12 13 14 15 17 19 20 21 22 23 25 26 27 28 30 32 34 35 36\n",
      " 37 38 39]. At least one non-missing value is needed for imputation with strategy='mean'.\n",
      "  warnings.warn(\n",
      "d:\\miniconda3\\envs\\py3.10\\lib\\site-packages\\sklearn\\impute\\_base.py:558: UserWarning: Skipping features without any observed values: [ 0  1  7  8 11 12 13 14 15 17 19 20 21 22 23 25 26 27 28 30 32 34 35 36\n",
      " 37 38 39]. At least one non-missing value is needed for imputation with strategy='mean'.\n",
      "  warnings.warn(\n",
      "d:\\miniconda3\\envs\\py3.10\\lib\\site-packages\\sklearn\\impute\\_base.py:558: UserWarning: Skipping features without any observed values: [ 0  1  7  8 11 12 13 14 15 17 19 20 21 22 23 25 26 27 28 30 32 34 35 36\n",
      " 37 38 39]. At least one non-missing value is needed for imputation with strategy='mean'.\n",
      "  warnings.warn(\n",
      "d:\\miniconda3\\envs\\py3.10\\lib\\site-packages\\sklearn\\impute\\_base.py:558: UserWarning: Skipping features without any observed values: [ 0  1  7  8 11 12 13 14 15 17 19 20 21 22 23 25 26 27 28 30 32 34 35 36\n",
      " 37 38 39]. At least one non-missing value is needed for imputation with strategy='mean'.\n",
      "  warnings.warn(\n",
      "d:\\miniconda3\\envs\\py3.10\\lib\\site-packages\\sklearn\\impute\\_base.py:558: UserWarning: Skipping features without any observed values: [ 0  1  2  3  4  5  6  7  8 10 11 12 13 14 15 17 18 19 20 21 22 23 24 25\n",
      " 26 27 28 30 31 32 33 34 35 36 37 38 39 40]. At least one non-missing value is needed for imputation with strategy='mean'.\n",
      "  warnings.warn(\n",
      "d:\\miniconda3\\envs\\py3.10\\lib\\site-packages\\sklearn\\impute\\_base.py:558: UserWarning: Skipping features without any observed values: [ 0  1  2  3  4  5  6  7  8 10 11 12 13 14 15 17 18 19 20 21 22 23 24 25\n",
      " 26 27 28 30 31 32 33 34 35 36 37 38 39 40]. At least one non-missing value is needed for imputation with strategy='mean'.\n",
      "  warnings.warn(\n",
      "d:\\miniconda3\\envs\\py3.10\\lib\\site-packages\\sklearn\\impute\\_base.py:558: UserWarning: Skipping features without any observed values: [ 0  1  2  3  4  5  6  7  8 10 11 12 13 14 15 17 18 19 20 21 22 23 24 25\n",
      " 26 27 28 30 31 32 33 34 35 36 37 38 39 40]. At least one non-missing value is needed for imputation with strategy='mean'.\n",
      "  warnings.warn(\n",
      "d:\\miniconda3\\envs\\py3.10\\lib\\site-packages\\sklearn\\impute\\_base.py:558: UserWarning: Skipping features without any observed values: [ 0  1  2  3  4  5  6  7  8 10 11 12 13 14 15 17 18 19 20 21 22 23 24 25\n",
      " 26 27 28 30 31 32 33 34 35 36 37 38 39 40]. At least one non-missing value is needed for imputation with strategy='mean'.\n",
      "  warnings.warn(\n",
      "d:\\miniconda3\\envs\\py3.10\\lib\\site-packages\\sklearn\\impute\\_base.py:558: UserWarning: Skipping features without any observed values: [ 0  1  2  3  4  5  6  7  8 10 11 12 13 14 15 17 18 19 20 21 22 23 24 25\n",
      " 26 27 28 30 31 32 33 34 35 36 37 38 39 40]. At least one non-missing value is needed for imputation with strategy='mean'.\n",
      "  warnings.warn(\n",
      "d:\\miniconda3\\envs\\py3.10\\lib\\site-packages\\sklearn\\impute\\_base.py:558: UserWarning: Skipping features without any observed values: [ 0  1  2  3  4  5  6  7  8 10 11 12 13 14 15 17 18 19 20 21 22 23 24 25\n",
      " 26 27 28 30 31 32 33 34 35 36 37 38 39 40]. At least one non-missing value is needed for imputation with strategy='mean'.\n",
      "  warnings.warn(\n",
      "d:\\miniconda3\\envs\\py3.10\\lib\\site-packages\\sklearn\\impute\\_base.py:558: UserWarning: Skipping features without any observed values: [ 0  1  2  3  4  5  6  7  8 10 11 12 13 14 15 17 18 19 20 21 22 23 24 25\n",
      " 26 27 28 30 31 32 33 34 35 36 37 38 39 40]. At least one non-missing value is needed for imputation with strategy='mean'.\n",
      "  warnings.warn(\n",
      "d:\\miniconda3\\envs\\py3.10\\lib\\site-packages\\sklearn\\impute\\_base.py:558: UserWarning: Skipping features without any observed values: [ 0  1  2  3  4  5  6  7  8 10 11 12 13 14 15 17 18 19 20 21 22 23 24 25\n",
      " 26 27 28 30 31 32 33 34 35 36 37 38 39 40]. At least one non-missing value is needed for imputation with strategy='mean'.\n",
      "  warnings.warn(\n",
      "d:\\miniconda3\\envs\\py3.10\\lib\\site-packages\\sklearn\\impute\\_base.py:558: UserWarning: Skipping features without any observed values: [ 0  1  2  3  4  5  6  7  8 10 11 12 13 14 15 17 18 19 20 21 22 23 24 25\n",
      " 26 27 28 30 31 32 33 34 35 36 37 38 39 40]. At least one non-missing value is needed for imputation with strategy='mean'.\n",
      "  warnings.warn(\n",
      "d:\\miniconda3\\envs\\py3.10\\lib\\site-packages\\sklearn\\impute\\_base.py:558: UserWarning: Skipping features without any observed values: [ 0  1  2  3  4  5  6  7  8 10 11 12 13 14 15 17 18 19 20 21 22 23 24 25\n",
      " 26 27 28 30 31 32 33 34 35 36 37 38 39 40]. At least one non-missing value is needed for imputation with strategy='mean'.\n",
      "  warnings.warn(\n"
     ]
    },
    {
     "name": "stdout",
     "output_type": "stream",
     "text": [
      "Data: qsar_biodegradation | Type: mcar | Para: 0.5\n"
     ]
    },
    {
     "name": "stderr",
     "output_type": "stream",
     "text": [
      "d:\\miniconda3\\envs\\py3.10\\lib\\site-packages\\sklearn\\impute\\_iterative.py:800: ConvergenceWarning: [IterativeImputer] Early stopping criterion not reached.\n",
      "  warnings.warn(\n",
      "d:\\miniconda3\\envs\\py3.10\\lib\\site-packages\\sklearn\\impute\\_iterative.py:800: ConvergenceWarning: [IterativeImputer] Early stopping criterion not reached.\n",
      "  warnings.warn(\n",
      "d:\\miniconda3\\envs\\py3.10\\lib\\site-packages\\sklearn\\impute\\_iterative.py:800: ConvergenceWarning: [IterativeImputer] Early stopping criterion not reached.\n",
      "  warnings.warn(\n"
     ]
    },
    {
     "name": "stdout",
     "output_type": "stream",
     "text": [
      "Data: qsar_biodegradation | Type: mcar | Para: 0.7\n"
     ]
    },
    {
     "name": "stderr",
     "output_type": "stream",
     "text": [
      "d:\\miniconda3\\envs\\py3.10\\lib\\site-packages\\sklearn\\impute\\_iterative.py:800: ConvergenceWarning: [IterativeImputer] Early stopping criterion not reached.\n",
      "  warnings.warn(\n",
      "d:\\miniconda3\\envs\\py3.10\\lib\\site-packages\\sklearn\\impute\\_iterative.py:800: ConvergenceWarning: [IterativeImputer] Early stopping criterion not reached.\n",
      "  warnings.warn(\n",
      "d:\\miniconda3\\envs\\py3.10\\lib\\site-packages\\sklearn\\impute\\_iterative.py:800: ConvergenceWarning: [IterativeImputer] Early stopping criterion not reached.\n",
      "  warnings.warn(\n",
      "d:\\miniconda3\\envs\\py3.10\\lib\\site-packages\\sklearn\\impute\\_iterative.py:800: ConvergenceWarning: [IterativeImputer] Early stopping criterion not reached.\n",
      "  warnings.warn(\n",
      "d:\\miniconda3\\envs\\py3.10\\lib\\site-packages\\sklearn\\impute\\_iterative.py:800: ConvergenceWarning: [IterativeImputer] Early stopping criterion not reached.\n",
      "  warnings.warn(\n"
     ]
    },
    {
     "name": "stdout",
     "output_type": "stream",
     "text": [
      "Data: wine_quality_red | Type: diffuse | Para: 0.3\n",
      "Data: wine_quality_red | Type: diffuse | Para: 0.5\n"
     ]
    },
    {
     "name": "stderr",
     "output_type": "stream",
     "text": [
      "d:\\miniconda3\\envs\\py3.10\\lib\\site-packages\\sklearn\\impute\\_iterative.py:800: ConvergenceWarning: [IterativeImputer] Early stopping criterion not reached.\n",
      "  warnings.warn(\n",
      "d:\\miniconda3\\envs\\py3.10\\lib\\site-packages\\sklearn\\impute\\_iterative.py:800: ConvergenceWarning: [IterativeImputer] Early stopping criterion not reached.\n",
      "  warnings.warn(\n",
      "d:\\miniconda3\\envs\\py3.10\\lib\\site-packages\\sklearn\\impute\\_iterative.py:800: ConvergenceWarning: [IterativeImputer] Early stopping criterion not reached.\n",
      "  warnings.warn(\n",
      "d:\\miniconda3\\envs\\py3.10\\lib\\site-packages\\sklearn\\impute\\_iterative.py:800: ConvergenceWarning: [IterativeImputer] Early stopping criterion not reached.\n",
      "  warnings.warn(\n",
      "d:\\miniconda3\\envs\\py3.10\\lib\\site-packages\\sklearn\\impute\\_iterative.py:800: ConvergenceWarning: [IterativeImputer] Early stopping criterion not reached.\n",
      "  warnings.warn(\n",
      "d:\\miniconda3\\envs\\py3.10\\lib\\site-packages\\sklearn\\impute\\_iterative.py:800: ConvergenceWarning: [IterativeImputer] Early stopping criterion not reached.\n",
      "  warnings.warn(\n",
      "d:\\miniconda3\\envs\\py3.10\\lib\\site-packages\\sklearn\\impute\\_iterative.py:800: ConvergenceWarning: [IterativeImputer] Early stopping criterion not reached.\n",
      "  warnings.warn(\n"
     ]
    },
    {
     "name": "stdout",
     "output_type": "stream",
     "text": [
      "Data: wine_quality_red | Type: diffuse | Para: 0.7\n"
     ]
    },
    {
     "name": "stderr",
     "output_type": "stream",
     "text": [
      "d:\\miniconda3\\envs\\py3.10\\lib\\site-packages\\sklearn\\impute\\_iterative.py:800: ConvergenceWarning: [IterativeImputer] Early stopping criterion not reached.\n",
      "  warnings.warn(\n",
      "d:\\miniconda3\\envs\\py3.10\\lib\\site-packages\\sklearn\\impute\\_iterative.py:800: ConvergenceWarning: [IterativeImputer] Early stopping criterion not reached.\n",
      "  warnings.warn(\n",
      "d:\\miniconda3\\envs\\py3.10\\lib\\site-packages\\sklearn\\impute\\_iterative.py:800: ConvergenceWarning: [IterativeImputer] Early stopping criterion not reached.\n",
      "  warnings.warn(\n"
     ]
    },
    {
     "name": "stdout",
     "output_type": "stream",
     "text": [
      "Data: wine_quality_red | Type: logistic | Para: 0.3\n"
     ]
    },
    {
     "name": "stderr",
     "output_type": "stream",
     "text": [
      "d:\\miniconda3\\envs\\py3.10\\lib\\site-packages\\sklearn\\impute\\_iterative.py:800: ConvergenceWarning: [IterativeImputer] Early stopping criterion not reached.\n",
      "  warnings.warn(\n",
      "d:\\miniconda3\\envs\\py3.10\\lib\\site-packages\\sklearn\\impute\\_iterative.py:800: ConvergenceWarning: [IterativeImputer] Early stopping criterion not reached.\n",
      "  warnings.warn(\n",
      "d:\\miniconda3\\envs\\py3.10\\lib\\site-packages\\sklearn\\impute\\_iterative.py:800: ConvergenceWarning: [IterativeImputer] Early stopping criterion not reached.\n",
      "  warnings.warn(\n",
      "d:\\miniconda3\\envs\\py3.10\\lib\\site-packages\\sklearn\\impute\\_iterative.py:800: ConvergenceWarning: [IterativeImputer] Early stopping criterion not reached.\n",
      "  warnings.warn(\n",
      "d:\\miniconda3\\envs\\py3.10\\lib\\site-packages\\sklearn\\impute\\_iterative.py:800: ConvergenceWarning: [IterativeImputer] Early stopping criterion not reached.\n",
      "  warnings.warn(\n"
     ]
    },
    {
     "name": "stdout",
     "output_type": "stream",
     "text": [
      "Data: wine_quality_red | Type: logistic | Para: 0.5\n",
      "Data: wine_quality_red | Type: logistic | Para: 0.7\n",
      "Data: wine_quality_red | Type: mar | Para: 0.3\n",
      "Data: wine_quality_red | Type: mar | Para: 0.5\n",
      "Data: wine_quality_red | Type: mar | Para: 0.7\n",
      "Data: wine_quality_red | Type: mcar | Para: 0.3\n"
     ]
    },
    {
     "name": "stderr",
     "output_type": "stream",
     "text": [
      "d:\\miniconda3\\envs\\py3.10\\lib\\site-packages\\sklearn\\impute\\_base.py:558: UserWarning: Skipping features without any observed values: [ 3  6 10]. At least one non-missing value is needed for imputation with strategy='mean'.\n",
      "  warnings.warn(\n",
      "d:\\miniconda3\\envs\\py3.10\\lib\\site-packages\\sklearn\\impute\\_base.py:558: UserWarning: Skipping features without any observed values: [ 3  6 10]. At least one non-missing value is needed for imputation with strategy='mean'.\n",
      "  warnings.warn(\n",
      "d:\\miniconda3\\envs\\py3.10\\lib\\site-packages\\sklearn\\impute\\_base.py:558: UserWarning: Skipping features without any observed values: [ 3  6 10]. At least one non-missing value is needed for imputation with strategy='mean'.\n",
      "  warnings.warn(\n",
      "d:\\miniconda3\\envs\\py3.10\\lib\\site-packages\\sklearn\\impute\\_base.py:558: UserWarning: Skipping features without any observed values: [ 3  6 10]. At least one non-missing value is needed for imputation with strategy='mean'.\n",
      "  warnings.warn(\n",
      "d:\\miniconda3\\envs\\py3.10\\lib\\site-packages\\sklearn\\impute\\_base.py:558: UserWarning: Skipping features without any observed values: [ 3  6 10]. At least one non-missing value is needed for imputation with strategy='mean'.\n",
      "  warnings.warn(\n",
      "d:\\miniconda3\\envs\\py3.10\\lib\\site-packages\\sklearn\\impute\\_base.py:558: UserWarning: Skipping features without any observed values: [ 3  6 10]. At least one non-missing value is needed for imputation with strategy='mean'.\n",
      "  warnings.warn(\n",
      "d:\\miniconda3\\envs\\py3.10\\lib\\site-packages\\sklearn\\impute\\_base.py:558: UserWarning: Skipping features without any observed values: [ 3  6 10]. At least one non-missing value is needed for imputation with strategy='mean'.\n",
      "  warnings.warn(\n",
      "d:\\miniconda3\\envs\\py3.10\\lib\\site-packages\\sklearn\\impute\\_base.py:558: UserWarning: Skipping features without any observed values: [ 3  6 10]. At least one non-missing value is needed for imputation with strategy='mean'.\n",
      "  warnings.warn(\n",
      "d:\\miniconda3\\envs\\py3.10\\lib\\site-packages\\sklearn\\impute\\_base.py:558: UserWarning: Skipping features without any observed values: [ 3  6 10]. At least one non-missing value is needed for imputation with strategy='mean'.\n",
      "  warnings.warn(\n",
      "d:\\miniconda3\\envs\\py3.10\\lib\\site-packages\\sklearn\\impute\\_base.py:558: UserWarning: Skipping features without any observed values: [ 3  6 10]. At least one non-missing value is needed for imputation with strategy='mean'.\n",
      "  warnings.warn(\n",
      "d:\\miniconda3\\envs\\py3.10\\lib\\site-packages\\sklearn\\impute\\_base.py:558: UserWarning: Skipping features without any observed values: [ 1  3  5  6  7  9 10]. At least one non-missing value is needed for imputation with strategy='mean'.\n",
      "  warnings.warn(\n",
      "d:\\miniconda3\\envs\\py3.10\\lib\\site-packages\\sklearn\\impute\\_base.py:558: UserWarning: Skipping features without any observed values: [ 1  3  5  6  7  9 10]. At least one non-missing value is needed for imputation with strategy='mean'.\n",
      "  warnings.warn(\n",
      "d:\\miniconda3\\envs\\py3.10\\lib\\site-packages\\sklearn\\impute\\_base.py:558: UserWarning: Skipping features without any observed values: [ 1  3  5  6  7  9 10]. At least one non-missing value is needed for imputation with strategy='mean'.\n",
      "  warnings.warn(\n",
      "d:\\miniconda3\\envs\\py3.10\\lib\\site-packages\\sklearn\\impute\\_base.py:558: UserWarning: Skipping features without any observed values: [ 1  3  5  6  7  9 10]. At least one non-missing value is needed for imputation with strategy='mean'.\n",
      "  warnings.warn(\n",
      "d:\\miniconda3\\envs\\py3.10\\lib\\site-packages\\sklearn\\impute\\_base.py:558: UserWarning: Skipping features without any observed values: [ 1  3  5  6  7  9 10]. At least one non-missing value is needed for imputation with strategy='mean'.\n",
      "  warnings.warn(\n",
      "d:\\miniconda3\\envs\\py3.10\\lib\\site-packages\\sklearn\\impute\\_base.py:558: UserWarning: Skipping features without any observed values: [ 1  3  5  6  7  9 10]. At least one non-missing value is needed for imputation with strategy='mean'.\n",
      "  warnings.warn(\n",
      "d:\\miniconda3\\envs\\py3.10\\lib\\site-packages\\sklearn\\impute\\_base.py:558: UserWarning: Skipping features without any observed values: [ 1  3  5  6  7  9 10]. At least one non-missing value is needed for imputation with strategy='mean'.\n",
      "  warnings.warn(\n",
      "d:\\miniconda3\\envs\\py3.10\\lib\\site-packages\\sklearn\\impute\\_base.py:558: UserWarning: Skipping features without any observed values: [ 1  3  5  6  7  9 10]. At least one non-missing value is needed for imputation with strategy='mean'.\n",
      "  warnings.warn(\n",
      "d:\\miniconda3\\envs\\py3.10\\lib\\site-packages\\sklearn\\impute\\_base.py:558: UserWarning: Skipping features without any observed values: [ 1  3  5  6  7  9 10]. At least one non-missing value is needed for imputation with strategy='mean'.\n",
      "  warnings.warn(\n",
      "d:\\miniconda3\\envs\\py3.10\\lib\\site-packages\\sklearn\\impute\\_base.py:558: UserWarning: Skipping features without any observed values: [ 1  3  5  6  7  9 10]. At least one non-missing value is needed for imputation with strategy='mean'.\n",
      "  warnings.warn(\n",
      "d:\\miniconda3\\envs\\py3.10\\lib\\site-packages\\sklearn\\impute\\_base.py:558: UserWarning: Skipping features without any observed values: [ 0  1  2  3  4  5  6  7  8  9 10]. At least one non-missing value is needed for imputation with strategy='mean'.\n",
      "  warnings.warn(\n",
      "d:\\miniconda3\\envs\\py3.10\\lib\\site-packages\\sklearn\\impute\\_base.py:558: UserWarning: Skipping features without any observed values: [ 0  1  2  3  4  5  6  7  8  9 10]. At least one non-missing value is needed for imputation with strategy='mean'.\n",
      "  warnings.warn(\n",
      "d:\\miniconda3\\envs\\py3.10\\lib\\site-packages\\sklearn\\impute\\_base.py:558: UserWarning: Skipping features without any observed values: [ 0  1  2  3  4  5  6  7  8  9 10]. At least one non-missing value is needed for imputation with strategy='mean'.\n",
      "  warnings.warn(\n",
      "d:\\miniconda3\\envs\\py3.10\\lib\\site-packages\\sklearn\\impute\\_base.py:558: UserWarning: Skipping features without any observed values: [ 0  1  2  3  4  5  6  7  8  9 10]. At least one non-missing value is needed for imputation with strategy='mean'.\n",
      "  warnings.warn(\n",
      "d:\\miniconda3\\envs\\py3.10\\lib\\site-packages\\sklearn\\impute\\_base.py:558: UserWarning: Skipping features without any observed values: [ 0  1  2  3  4  5  6  7  8  9 10]. At least one non-missing value is needed for imputation with strategy='mean'.\n",
      "  warnings.warn(\n",
      "d:\\miniconda3\\envs\\py3.10\\lib\\site-packages\\sklearn\\impute\\_base.py:558: UserWarning: Skipping features without any observed values: [ 0  1  2  3  4  5  6  7  8  9 10]. At least one non-missing value is needed for imputation with strategy='mean'.\n",
      "  warnings.warn(\n",
      "d:\\miniconda3\\envs\\py3.10\\lib\\site-packages\\sklearn\\impute\\_base.py:558: UserWarning: Skipping features without any observed values: [ 0  1  2  3  4  5  6  7  8  9 10]. At least one non-missing value is needed for imputation with strategy='mean'.\n",
      "  warnings.warn(\n",
      "d:\\miniconda3\\envs\\py3.10\\lib\\site-packages\\sklearn\\impute\\_base.py:558: UserWarning: Skipping features without any observed values: [ 0  1  2  3  4  5  6  7  8  9 10]. At least one non-missing value is needed for imputation with strategy='mean'.\n",
      "  warnings.warn(\n",
      "d:\\miniconda3\\envs\\py3.10\\lib\\site-packages\\sklearn\\impute\\_base.py:558: UserWarning: Skipping features without any observed values: [ 0  1  2  3  4  5  6  7  8  9 10]. At least one non-missing value is needed for imputation with strategy='mean'.\n",
      "  warnings.warn(\n",
      "d:\\miniconda3\\envs\\py3.10\\lib\\site-packages\\sklearn\\impute\\_base.py:558: UserWarning: Skipping features without any observed values: [ 0  1  2  3  4  5  6  7  8  9 10]. At least one non-missing value is needed for imputation with strategy='mean'.\n",
      "  warnings.warn(\n",
      "d:\\miniconda3\\envs\\py3.10\\lib\\site-packages\\sklearn\\impute\\_iterative.py:800: ConvergenceWarning: [IterativeImputer] Early stopping criterion not reached.\n",
      "  warnings.warn(\n",
      "d:\\miniconda3\\envs\\py3.10\\lib\\site-packages\\sklearn\\impute\\_iterative.py:800: ConvergenceWarning: [IterativeImputer] Early stopping criterion not reached.\n",
      "  warnings.warn(\n",
      "d:\\miniconda3\\envs\\py3.10\\lib\\site-packages\\sklearn\\impute\\_iterative.py:800: ConvergenceWarning: [IterativeImputer] Early stopping criterion not reached.\n",
      "  warnings.warn(\n",
      "d:\\miniconda3\\envs\\py3.10\\lib\\site-packages\\sklearn\\impute\\_iterative.py:800: ConvergenceWarning: [IterativeImputer] Early stopping criterion not reached.\n",
      "  warnings.warn(\n",
      "d:\\miniconda3\\envs\\py3.10\\lib\\site-packages\\sklearn\\impute\\_iterative.py:800: ConvergenceWarning: [IterativeImputer] Early stopping criterion not reached.\n",
      "  warnings.warn(\n"
     ]
    },
    {
     "name": "stdout",
     "output_type": "stream",
     "text": [
      "Data: wine_quality_red | Type: mcar | Para: 0.5\n",
      "Data: wine_quality_red | Type: mcar | Para: 0.7\n"
     ]
    },
    {
     "name": "stderr",
     "output_type": "stream",
     "text": [
      "d:\\miniconda3\\envs\\py3.10\\lib\\site-packages\\sklearn\\impute\\_iterative.py:800: ConvergenceWarning: [IterativeImputer] Early stopping criterion not reached.\n",
      "  warnings.warn(\n"
     ]
    },
    {
     "name": "stdout",
     "output_type": "stream",
     "text": [
      "Data: wine_quality_white | Type: diffuse | Para: 0.3\n"
     ]
    },
    {
     "name": "stderr",
     "output_type": "stream",
     "text": [
      "d:\\miniconda3\\envs\\py3.10\\lib\\site-packages\\sklearn\\impute\\_iterative.py:800: ConvergenceWarning: [IterativeImputer] Early stopping criterion not reached.\n",
      "  warnings.warn(\n",
      "d:\\miniconda3\\envs\\py3.10\\lib\\site-packages\\sklearn\\impute\\_iterative.py:800: ConvergenceWarning: [IterativeImputer] Early stopping criterion not reached.\n",
      "  warnings.warn(\n",
      "d:\\miniconda3\\envs\\py3.10\\lib\\site-packages\\sklearn\\impute\\_iterative.py:800: ConvergenceWarning: [IterativeImputer] Early stopping criterion not reached.\n",
      "  warnings.warn(\n",
      "d:\\miniconda3\\envs\\py3.10\\lib\\site-packages\\sklearn\\impute\\_iterative.py:800: ConvergenceWarning: [IterativeImputer] Early stopping criterion not reached.\n",
      "  warnings.warn(\n",
      "d:\\miniconda3\\envs\\py3.10\\lib\\site-packages\\sklearn\\impute\\_iterative.py:800: ConvergenceWarning: [IterativeImputer] Early stopping criterion not reached.\n",
      "  warnings.warn(\n",
      "d:\\miniconda3\\envs\\py3.10\\lib\\site-packages\\sklearn\\impute\\_iterative.py:800: ConvergenceWarning: [IterativeImputer] Early stopping criterion not reached.\n",
      "  warnings.warn(\n"
     ]
    },
    {
     "name": "stdout",
     "output_type": "stream",
     "text": [
      "Data: wine_quality_white | Type: diffuse | Para: 0.5\n"
     ]
    },
    {
     "name": "stderr",
     "output_type": "stream",
     "text": [
      "d:\\miniconda3\\envs\\py3.10\\lib\\site-packages\\sklearn\\impute\\_iterative.py:800: ConvergenceWarning: [IterativeImputer] Early stopping criterion not reached.\n",
      "  warnings.warn(\n",
      "d:\\miniconda3\\envs\\py3.10\\lib\\site-packages\\sklearn\\impute\\_iterative.py:800: ConvergenceWarning: [IterativeImputer] Early stopping criterion not reached.\n",
      "  warnings.warn(\n",
      "d:\\miniconda3\\envs\\py3.10\\lib\\site-packages\\sklearn\\impute\\_iterative.py:800: ConvergenceWarning: [IterativeImputer] Early stopping criterion not reached.\n",
      "  warnings.warn(\n",
      "d:\\miniconda3\\envs\\py3.10\\lib\\site-packages\\sklearn\\impute\\_iterative.py:800: ConvergenceWarning: [IterativeImputer] Early stopping criterion not reached.\n",
      "  warnings.warn(\n"
     ]
    },
    {
     "name": "stdout",
     "output_type": "stream",
     "text": [
      "Data: wine_quality_white | Type: diffuse | Para: 0.7\n"
     ]
    },
    {
     "name": "stderr",
     "output_type": "stream",
     "text": [
      "d:\\miniconda3\\envs\\py3.10\\lib\\site-packages\\sklearn\\impute\\_iterative.py:800: ConvergenceWarning: [IterativeImputer] Early stopping criterion not reached.\n",
      "  warnings.warn(\n",
      "d:\\miniconda3\\envs\\py3.10\\lib\\site-packages\\sklearn\\impute\\_iterative.py:800: ConvergenceWarning: [IterativeImputer] Early stopping criterion not reached.\n",
      "  warnings.warn(\n",
      "d:\\miniconda3\\envs\\py3.10\\lib\\site-packages\\sklearn\\impute\\_iterative.py:800: ConvergenceWarning: [IterativeImputer] Early stopping criterion not reached.\n",
      "  warnings.warn(\n",
      "d:\\miniconda3\\envs\\py3.10\\lib\\site-packages\\sklearn\\impute\\_iterative.py:800: ConvergenceWarning: [IterativeImputer] Early stopping criterion not reached.\n",
      "  warnings.warn(\n",
      "d:\\miniconda3\\envs\\py3.10\\lib\\site-packages\\sklearn\\impute\\_iterative.py:800: ConvergenceWarning: [IterativeImputer] Early stopping criterion not reached.\n",
      "  warnings.warn(\n",
      "d:\\miniconda3\\envs\\py3.10\\lib\\site-packages\\sklearn\\impute\\_iterative.py:800: ConvergenceWarning: [IterativeImputer] Early stopping criterion not reached.\n",
      "  warnings.warn(\n"
     ]
    },
    {
     "name": "stdout",
     "output_type": "stream",
     "text": [
      "Data: wine_quality_white | Type: logistic | Para: 0.3\n"
     ]
    },
    {
     "name": "stderr",
     "output_type": "stream",
     "text": [
      "d:\\miniconda3\\envs\\py3.10\\lib\\site-packages\\sklearn\\impute\\_iterative.py:800: ConvergenceWarning: [IterativeImputer] Early stopping criterion not reached.\n",
      "  warnings.warn(\n",
      "d:\\miniconda3\\envs\\py3.10\\lib\\site-packages\\sklearn\\impute\\_iterative.py:800: ConvergenceWarning: [IterativeImputer] Early stopping criterion not reached.\n",
      "  warnings.warn(\n",
      "d:\\miniconda3\\envs\\py3.10\\lib\\site-packages\\sklearn\\impute\\_iterative.py:800: ConvergenceWarning: [IterativeImputer] Early stopping criterion not reached.\n",
      "  warnings.warn(\n",
      "d:\\miniconda3\\envs\\py3.10\\lib\\site-packages\\sklearn\\impute\\_iterative.py:800: ConvergenceWarning: [IterativeImputer] Early stopping criterion not reached.\n",
      "  warnings.warn(\n"
     ]
    },
    {
     "name": "stdout",
     "output_type": "stream",
     "text": [
      "Data: wine_quality_white | Type: logistic | Para: 0.5\n",
      "Data: wine_quality_white | Type: logistic | Para: 0.7\n",
      "Data: wine_quality_white | Type: mar | Para: 0.3\n"
     ]
    },
    {
     "name": "stderr",
     "output_type": "stream",
     "text": [
      "d:\\miniconda3\\envs\\py3.10\\lib\\site-packages\\sklearn\\impute\\_base.py:558: UserWarning: Skipping features without any observed values: [2 3 8]. At least one non-missing value is needed for imputation with strategy='mean'.\n",
      "  warnings.warn(\n",
      "d:\\miniconda3\\envs\\py3.10\\lib\\site-packages\\sklearn\\impute\\_base.py:558: UserWarning: Skipping features without any observed values: [2 3 8]. At least one non-missing value is needed for imputation with strategy='mean'.\n",
      "  warnings.warn(\n",
      "d:\\miniconda3\\envs\\py3.10\\lib\\site-packages\\sklearn\\impute\\_base.py:558: UserWarning: Skipping features without any observed values: [2 3 8]. At least one non-missing value is needed for imputation with strategy='mean'.\n",
      "  warnings.warn(\n",
      "d:\\miniconda3\\envs\\py3.10\\lib\\site-packages\\sklearn\\impute\\_base.py:558: UserWarning: Skipping features without any observed values: [2 3 8]. At least one non-missing value is needed for imputation with strategy='mean'.\n",
      "  warnings.warn(\n",
      "d:\\miniconda3\\envs\\py3.10\\lib\\site-packages\\sklearn\\impute\\_base.py:558: UserWarning: Skipping features without any observed values: [2 3 8]. At least one non-missing value is needed for imputation with strategy='mean'.\n",
      "  warnings.warn(\n",
      "d:\\miniconda3\\envs\\py3.10\\lib\\site-packages\\sklearn\\impute\\_base.py:558: UserWarning: Skipping features without any observed values: [2 3 8]. At least one non-missing value is needed for imputation with strategy='mean'.\n",
      "  warnings.warn(\n",
      "d:\\miniconda3\\envs\\py3.10\\lib\\site-packages\\sklearn\\impute\\_base.py:558: UserWarning: Skipping features without any observed values: [2 3 8]. At least one non-missing value is needed for imputation with strategy='mean'.\n",
      "  warnings.warn(\n",
      "d:\\miniconda3\\envs\\py3.10\\lib\\site-packages\\sklearn\\impute\\_base.py:558: UserWarning: Skipping features without any observed values: [2 3 8]. At least one non-missing value is needed for imputation with strategy='mean'.\n",
      "  warnings.warn(\n",
      "d:\\miniconda3\\envs\\py3.10\\lib\\site-packages\\sklearn\\impute\\_base.py:558: UserWarning: Skipping features without any observed values: [2 3 8]. At least one non-missing value is needed for imputation with strategy='mean'.\n",
      "  warnings.warn(\n",
      "d:\\miniconda3\\envs\\py3.10\\lib\\site-packages\\sklearn\\impute\\_base.py:558: UserWarning: Skipping features without any observed values: [2 3 8]. At least one non-missing value is needed for imputation with strategy='mean'.\n",
      "  warnings.warn(\n",
      "d:\\miniconda3\\envs\\py3.10\\lib\\site-packages\\sklearn\\impute\\_base.py:558: UserWarning: Skipping features without any observed values: [2 3 6 8 9]. At least one non-missing value is needed for imputation with strategy='mean'.\n",
      "  warnings.warn(\n",
      "d:\\miniconda3\\envs\\py3.10\\lib\\site-packages\\sklearn\\impute\\_base.py:558: UserWarning: Skipping features without any observed values: [2 3 6 8 9]. At least one non-missing value is needed for imputation with strategy='mean'.\n",
      "  warnings.warn(\n",
      "d:\\miniconda3\\envs\\py3.10\\lib\\site-packages\\sklearn\\impute\\_base.py:558: UserWarning: Skipping features without any observed values: [2 3 6 8 9]. At least one non-missing value is needed for imputation with strategy='mean'.\n",
      "  warnings.warn(\n",
      "d:\\miniconda3\\envs\\py3.10\\lib\\site-packages\\sklearn\\impute\\_base.py:558: UserWarning: Skipping features without any observed values: [2 3 6 8 9]. At least one non-missing value is needed for imputation with strategy='mean'.\n",
      "  warnings.warn(\n",
      "d:\\miniconda3\\envs\\py3.10\\lib\\site-packages\\sklearn\\impute\\_base.py:558: UserWarning: Skipping features without any observed values: [2 3 6 8 9]. At least one non-missing value is needed for imputation with strategy='mean'.\n",
      "  warnings.warn(\n",
      "d:\\miniconda3\\envs\\py3.10\\lib\\site-packages\\sklearn\\impute\\_base.py:558: UserWarning: Skipping features without any observed values: [2 3 6 8 9]. At least one non-missing value is needed for imputation with strategy='mean'.\n",
      "  warnings.warn(\n",
      "d:\\miniconda3\\envs\\py3.10\\lib\\site-packages\\sklearn\\impute\\_base.py:558: UserWarning: Skipping features without any observed values: [2 3 6 8 9]. At least one non-missing value is needed for imputation with strategy='mean'.\n",
      "  warnings.warn(\n",
      "d:\\miniconda3\\envs\\py3.10\\lib\\site-packages\\sklearn\\impute\\_base.py:558: UserWarning: Skipping features without any observed values: [2 3 6 8 9]. At least one non-missing value is needed for imputation with strategy='mean'.\n",
      "  warnings.warn(\n",
      "d:\\miniconda3\\envs\\py3.10\\lib\\site-packages\\sklearn\\impute\\_base.py:558: UserWarning: Skipping features without any observed values: [2 3 6 8 9]. At least one non-missing value is needed for imputation with strategy='mean'.\n",
      "  warnings.warn(\n",
      "d:\\miniconda3\\envs\\py3.10\\lib\\site-packages\\sklearn\\impute\\_base.py:558: UserWarning: Skipping features without any observed values: [2 3 6 8 9]. At least one non-missing value is needed for imputation with strategy='mean'.\n",
      "  warnings.warn(\n",
      "d:\\miniconda3\\envs\\py3.10\\lib\\site-packages\\sklearn\\impute\\_base.py:558: UserWarning: Skipping features without any observed values: [2 3 4 5 6 7 8 9]. At least one non-missing value is needed for imputation with strategy='mean'.\n",
      "  warnings.warn(\n",
      "d:\\miniconda3\\envs\\py3.10\\lib\\site-packages\\sklearn\\impute\\_base.py:558: UserWarning: Skipping features without any observed values: [2 3 4 5 6 7 8 9]. At least one non-missing value is needed for imputation with strategy='mean'.\n",
      "  warnings.warn(\n",
      "d:\\miniconda3\\envs\\py3.10\\lib\\site-packages\\sklearn\\impute\\_base.py:558: UserWarning: Skipping features without any observed values: [2 3 4 5 6 7 8 9]. At least one non-missing value is needed for imputation with strategy='mean'.\n",
      "  warnings.warn(\n",
      "d:\\miniconda3\\envs\\py3.10\\lib\\site-packages\\sklearn\\impute\\_base.py:558: UserWarning: Skipping features without any observed values: [2 3 4 5 6 7 8 9]. At least one non-missing value is needed for imputation with strategy='mean'.\n",
      "  warnings.warn(\n",
      "d:\\miniconda3\\envs\\py3.10\\lib\\site-packages\\sklearn\\impute\\_base.py:558: UserWarning: Skipping features without any observed values: [2 3 4 5 6 7 8 9]. At least one non-missing value is needed for imputation with strategy='mean'.\n",
      "  warnings.warn(\n",
      "d:\\miniconda3\\envs\\py3.10\\lib\\site-packages\\sklearn\\impute\\_base.py:558: UserWarning: Skipping features without any observed values: [2 3 4 5 6 7 8 9]. At least one non-missing value is needed for imputation with strategy='mean'.\n",
      "  warnings.warn(\n",
      "d:\\miniconda3\\envs\\py3.10\\lib\\site-packages\\sklearn\\impute\\_base.py:558: UserWarning: Skipping features without any observed values: [2 3 4 5 6 7 8 9]. At least one non-missing value is needed for imputation with strategy='mean'.\n",
      "  warnings.warn(\n",
      "d:\\miniconda3\\envs\\py3.10\\lib\\site-packages\\sklearn\\impute\\_base.py:558: UserWarning: Skipping features without any observed values: [2 3 4 5 6 7 8 9]. At least one non-missing value is needed for imputation with strategy='mean'.\n",
      "  warnings.warn(\n",
      "d:\\miniconda3\\envs\\py3.10\\lib\\site-packages\\sklearn\\impute\\_base.py:558: UserWarning: Skipping features without any observed values: [2 3 4 5 6 7 8 9]. At least one non-missing value is needed for imputation with strategy='mean'.\n",
      "  warnings.warn(\n",
      "d:\\miniconda3\\envs\\py3.10\\lib\\site-packages\\sklearn\\impute\\_base.py:558: UserWarning: Skipping features without any observed values: [2 3 4 5 6 7 8 9]. At least one non-missing value is needed for imputation with strategy='mean'.\n",
      "  warnings.warn(\n"
     ]
    },
    {
     "name": "stdout",
     "output_type": "stream",
     "text": [
      "Data: wine_quality_white | Type: mar | Para: 0.5\n",
      "Data: wine_quality_white | Type: mar | Para: 0.7\n",
      "Data: wine_quality_white | Type: mcar | Para: 0.3\n"
     ]
    },
    {
     "name": "stderr",
     "output_type": "stream",
     "text": [
      "d:\\miniconda3\\envs\\py3.10\\lib\\site-packages\\sklearn\\impute\\_iterative.py:800: ConvergenceWarning: [IterativeImputer] Early stopping criterion not reached.\n",
      "  warnings.warn(\n",
      "d:\\miniconda3\\envs\\py3.10\\lib\\site-packages\\sklearn\\impute\\_iterative.py:800: ConvergenceWarning: [IterativeImputer] Early stopping criterion not reached.\n",
      "  warnings.warn(\n",
      "d:\\miniconda3\\envs\\py3.10\\lib\\site-packages\\sklearn\\impute\\_iterative.py:800: ConvergenceWarning: [IterativeImputer] Early stopping criterion not reached.\n",
      "  warnings.warn(\n",
      "d:\\miniconda3\\envs\\py3.10\\lib\\site-packages\\sklearn\\impute\\_iterative.py:800: ConvergenceWarning: [IterativeImputer] Early stopping criterion not reached.\n",
      "  warnings.warn(\n",
      "d:\\miniconda3\\envs\\py3.10\\lib\\site-packages\\sklearn\\impute\\_iterative.py:800: ConvergenceWarning: [IterativeImputer] Early stopping criterion not reached.\n",
      "  warnings.warn(\n",
      "d:\\miniconda3\\envs\\py3.10\\lib\\site-packages\\sklearn\\impute\\_iterative.py:800: ConvergenceWarning: [IterativeImputer] Early stopping criterion not reached.\n",
      "  warnings.warn(\n"
     ]
    },
    {
     "name": "stdout",
     "output_type": "stream",
     "text": [
      "Data: wine_quality_white | Type: mcar | Para: 0.5\n"
     ]
    },
    {
     "name": "stderr",
     "output_type": "stream",
     "text": [
      "d:\\miniconda3\\envs\\py3.10\\lib\\site-packages\\sklearn\\impute\\_iterative.py:800: ConvergenceWarning: [IterativeImputer] Early stopping criterion not reached.\n",
      "  warnings.warn(\n",
      "d:\\miniconda3\\envs\\py3.10\\lib\\site-packages\\sklearn\\impute\\_iterative.py:800: ConvergenceWarning: [IterativeImputer] Early stopping criterion not reached.\n",
      "  warnings.warn(\n",
      "d:\\miniconda3\\envs\\py3.10\\lib\\site-packages\\sklearn\\impute\\_iterative.py:800: ConvergenceWarning: [IterativeImputer] Early stopping criterion not reached.\n",
      "  warnings.warn(\n",
      "d:\\miniconda3\\envs\\py3.10\\lib\\site-packages\\sklearn\\impute\\_iterative.py:800: ConvergenceWarning: [IterativeImputer] Early stopping criterion not reached.\n",
      "  warnings.warn(\n"
     ]
    },
    {
     "name": "stdout",
     "output_type": "stream",
     "text": [
      "Data: wine_quality_white | Type: mcar | Para: 0.7\n",
      "Data: yacht_hydrodynamics | Type: diffuse | Para: 0.3\n",
      "Data: yacht_hydrodynamics | Type: diffuse | Para: 0.5\n"
     ]
    },
    {
     "name": "stderr",
     "output_type": "stream",
     "text": [
      "d:\\miniconda3\\envs\\py3.10\\lib\\site-packages\\sklearn\\impute\\_iterative.py:800: ConvergenceWarning: [IterativeImputer] Early stopping criterion not reached.\n",
      "  warnings.warn(\n",
      "d:\\miniconda3\\envs\\py3.10\\lib\\site-packages\\sklearn\\impute\\_iterative.py:800: ConvergenceWarning: [IterativeImputer] Early stopping criterion not reached.\n",
      "  warnings.warn(\n",
      "d:\\miniconda3\\envs\\py3.10\\lib\\site-packages\\sklearn\\impute\\_iterative.py:800: ConvergenceWarning: [IterativeImputer] Early stopping criterion not reached.\n",
      "  warnings.warn(\n",
      "d:\\miniconda3\\envs\\py3.10\\lib\\site-packages\\sklearn\\impute\\_iterative.py:800: ConvergenceWarning: [IterativeImputer] Early stopping criterion not reached.\n",
      "  warnings.warn(\n",
      "d:\\miniconda3\\envs\\py3.10\\lib\\site-packages\\sklearn\\impute\\_iterative.py:800: ConvergenceWarning: [IterativeImputer] Early stopping criterion not reached.\n",
      "  warnings.warn(\n",
      "d:\\miniconda3\\envs\\py3.10\\lib\\site-packages\\sklearn\\impute\\_iterative.py:800: ConvergenceWarning: [IterativeImputer] Early stopping criterion not reached.\n",
      "  warnings.warn(\n",
      "d:\\miniconda3\\envs\\py3.10\\lib\\site-packages\\sklearn\\impute\\_iterative.py:800: ConvergenceWarning: [IterativeImputer] Early stopping criterion not reached.\n",
      "  warnings.warn(\n"
     ]
    },
    {
     "name": "stdout",
     "output_type": "stream",
     "text": [
      "Data: yacht_hydrodynamics | Type: diffuse | Para: 0.7\n",
      "Data: yacht_hydrodynamics | Type: logistic | Para: 0.3\n"
     ]
    },
    {
     "name": "stderr",
     "output_type": "stream",
     "text": [
      "d:\\miniconda3\\envs\\py3.10\\lib\\site-packages\\sklearn\\impute\\_iterative.py:800: ConvergenceWarning: [IterativeImputer] Early stopping criterion not reached.\n",
      "  warnings.warn(\n",
      "d:\\miniconda3\\envs\\py3.10\\lib\\site-packages\\sklearn\\impute\\_iterative.py:800: ConvergenceWarning: [IterativeImputer] Early stopping criterion not reached.\n",
      "  warnings.warn(\n",
      "d:\\miniconda3\\envs\\py3.10\\lib\\site-packages\\sklearn\\impute\\_iterative.py:800: ConvergenceWarning: [IterativeImputer] Early stopping criterion not reached.\n",
      "  warnings.warn(\n",
      "d:\\miniconda3\\envs\\py3.10\\lib\\site-packages\\sklearn\\impute\\_iterative.py:800: ConvergenceWarning: [IterativeImputer] Early stopping criterion not reached.\n",
      "  warnings.warn(\n",
      "d:\\miniconda3\\envs\\py3.10\\lib\\site-packages\\sklearn\\impute\\_iterative.py:800: ConvergenceWarning: [IterativeImputer] Early stopping criterion not reached.\n",
      "  warnings.warn(\n"
     ]
    },
    {
     "name": "stdout",
     "output_type": "stream",
     "text": [
      "Data: yacht_hydrodynamics | Type: logistic | Para: 0.5\n",
      "Data: yacht_hydrodynamics | Type: logistic | Para: 0.7\n"
     ]
    },
    {
     "name": "stderr",
     "output_type": "stream",
     "text": [
      "d:\\miniconda3\\envs\\py3.10\\lib\\site-packages\\sklearn\\impute\\_iterative.py:800: ConvergenceWarning: [IterativeImputer] Early stopping criterion not reached.\n",
      "  warnings.warn(\n",
      "d:\\miniconda3\\envs\\py3.10\\lib\\site-packages\\sklearn\\impute\\_iterative.py:800: ConvergenceWarning: [IterativeImputer] Early stopping criterion not reached.\n",
      "  warnings.warn(\n",
      "d:\\miniconda3\\envs\\py3.10\\lib\\site-packages\\sklearn\\impute\\_iterative.py:800: ConvergenceWarning: [IterativeImputer] Early stopping criterion not reached.\n",
      "  warnings.warn(\n",
      "d:\\miniconda3\\envs\\py3.10\\lib\\site-packages\\sklearn\\impute\\_iterative.py:800: ConvergenceWarning: [IterativeImputer] Early stopping criterion not reached.\n",
      "  warnings.warn(\n",
      "d:\\miniconda3\\envs\\py3.10\\lib\\site-packages\\sklearn\\impute\\_iterative.py:800: ConvergenceWarning: [IterativeImputer] Early stopping criterion not reached.\n",
      "  warnings.warn(\n",
      "d:\\miniconda3\\envs\\py3.10\\lib\\site-packages\\sklearn\\impute\\_iterative.py:800: ConvergenceWarning: [IterativeImputer] Early stopping criterion not reached.\n",
      "  warnings.warn(\n",
      "d:\\miniconda3\\envs\\py3.10\\lib\\site-packages\\sklearn\\impute\\_iterative.py:800: ConvergenceWarning: [IterativeImputer] Early stopping criterion not reached.\n",
      "  warnings.warn(\n"
     ]
    },
    {
     "name": "stdout",
     "output_type": "stream",
     "text": [
      "Data: yacht_hydrodynamics | Type: mar | Para: 0.3\n",
      "Data: yacht_hydrodynamics | Type: mar | Para: 0.5\n",
      "Data: yacht_hydrodynamics | Type: mar | Para: 0.7\n",
      "Data: yacht_hydrodynamics | Type: mcar | Para: 0.3\n"
     ]
    },
    {
     "name": "stderr",
     "output_type": "stream",
     "text": [
      "d:\\miniconda3\\envs\\py3.10\\lib\\site-packages\\sklearn\\impute\\_base.py:558: UserWarning: Skipping features without any observed values: [1]. At least one non-missing value is needed for imputation with strategy='mean'.\n",
      "  warnings.warn(\n",
      "d:\\miniconda3\\envs\\py3.10\\lib\\site-packages\\sklearn\\impute\\_base.py:558: UserWarning: Skipping features without any observed values: [1]. At least one non-missing value is needed for imputation with strategy='mean'.\n",
      "  warnings.warn(\n",
      "d:\\miniconda3\\envs\\py3.10\\lib\\site-packages\\sklearn\\impute\\_base.py:558: UserWarning: Skipping features without any observed values: [1]. At least one non-missing value is needed for imputation with strategy='mean'.\n",
      "  warnings.warn(\n",
      "d:\\miniconda3\\envs\\py3.10\\lib\\site-packages\\sklearn\\impute\\_base.py:558: UserWarning: Skipping features without any observed values: [1]. At least one non-missing value is needed for imputation with strategy='mean'.\n",
      "  warnings.warn(\n",
      "d:\\miniconda3\\envs\\py3.10\\lib\\site-packages\\sklearn\\impute\\_base.py:558: UserWarning: Skipping features without any observed values: [1]. At least one non-missing value is needed for imputation with strategy='mean'.\n",
      "  warnings.warn(\n",
      "d:\\miniconda3\\envs\\py3.10\\lib\\site-packages\\sklearn\\impute\\_base.py:558: UserWarning: Skipping features without any observed values: [1]. At least one non-missing value is needed for imputation with strategy='mean'.\n",
      "  warnings.warn(\n",
      "d:\\miniconda3\\envs\\py3.10\\lib\\site-packages\\sklearn\\impute\\_base.py:558: UserWarning: Skipping features without any observed values: [1]. At least one non-missing value is needed for imputation with strategy='mean'.\n",
      "  warnings.warn(\n",
      "d:\\miniconda3\\envs\\py3.10\\lib\\site-packages\\sklearn\\impute\\_base.py:558: UserWarning: Skipping features without any observed values: [1]. At least one non-missing value is needed for imputation with strategy='mean'.\n",
      "  warnings.warn(\n",
      "d:\\miniconda3\\envs\\py3.10\\lib\\site-packages\\sklearn\\impute\\_base.py:558: UserWarning: Skipping features without any observed values: [1]. At least one non-missing value is needed for imputation with strategy='mean'.\n",
      "  warnings.warn(\n",
      "d:\\miniconda3\\envs\\py3.10\\lib\\site-packages\\sklearn\\impute\\_base.py:558: UserWarning: Skipping features without any observed values: [1]. At least one non-missing value is needed for imputation with strategy='mean'.\n",
      "  warnings.warn(\n",
      "d:\\miniconda3\\envs\\py3.10\\lib\\site-packages\\sklearn\\impute\\_base.py:558: UserWarning: Skipping features without any observed values: [1 3 4]. At least one non-missing value is needed for imputation with strategy='mean'.\n",
      "  warnings.warn(\n",
      "d:\\miniconda3\\envs\\py3.10\\lib\\site-packages\\sklearn\\impute\\_base.py:558: UserWarning: Skipping features without any observed values: [1 3 4]. At least one non-missing value is needed for imputation with strategy='mean'.\n",
      "  warnings.warn(\n",
      "d:\\miniconda3\\envs\\py3.10\\lib\\site-packages\\sklearn\\impute\\_base.py:558: UserWarning: Skipping features without any observed values: [1 3 4]. At least one non-missing value is needed for imputation with strategy='mean'.\n",
      "  warnings.warn(\n",
      "d:\\miniconda3\\envs\\py3.10\\lib\\site-packages\\sklearn\\impute\\_base.py:558: UserWarning: Skipping features without any observed values: [1 3 4]. At least one non-missing value is needed for imputation with strategy='mean'.\n",
      "  warnings.warn(\n",
      "d:\\miniconda3\\envs\\py3.10\\lib\\site-packages\\sklearn\\impute\\_base.py:558: UserWarning: Skipping features without any observed values: [1 3 4]. At least one non-missing value is needed for imputation with strategy='mean'.\n",
      "  warnings.warn(\n",
      "d:\\miniconda3\\envs\\py3.10\\lib\\site-packages\\sklearn\\impute\\_base.py:558: UserWarning: Skipping features without any observed values: [1 3 4]. At least one non-missing value is needed for imputation with strategy='mean'.\n",
      "  warnings.warn(\n",
      "d:\\miniconda3\\envs\\py3.10\\lib\\site-packages\\sklearn\\impute\\_base.py:558: UserWarning: Skipping features without any observed values: [1 3 4]. At least one non-missing value is needed for imputation with strategy='mean'.\n",
      "  warnings.warn(\n",
      "d:\\miniconda3\\envs\\py3.10\\lib\\site-packages\\sklearn\\impute\\_base.py:558: UserWarning: Skipping features without any observed values: [1 3 4]. At least one non-missing value is needed for imputation with strategy='mean'.\n",
      "  warnings.warn(\n",
      "d:\\miniconda3\\envs\\py3.10\\lib\\site-packages\\sklearn\\impute\\_base.py:558: UserWarning: Skipping features without any observed values: [1 3 4]. At least one non-missing value is needed for imputation with strategy='mean'.\n",
      "  warnings.warn(\n",
      "d:\\miniconda3\\envs\\py3.10\\lib\\site-packages\\sklearn\\impute\\_base.py:558: UserWarning: Skipping features without any observed values: [1 3 4]. At least one non-missing value is needed for imputation with strategy='mean'.\n",
      "  warnings.warn(\n",
      "d:\\miniconda3\\envs\\py3.10\\lib\\site-packages\\sklearn\\impute\\_base.py:558: UserWarning: Skipping features without any observed values: [1 2 3 4 5]. At least one non-missing value is needed for imputation with strategy='mean'.\n",
      "  warnings.warn(\n",
      "d:\\miniconda3\\envs\\py3.10\\lib\\site-packages\\sklearn\\impute\\_base.py:558: UserWarning: Skipping features without any observed values: [1 2 3 4 5]. At least one non-missing value is needed for imputation with strategy='mean'.\n",
      "  warnings.warn(\n",
      "d:\\miniconda3\\envs\\py3.10\\lib\\site-packages\\sklearn\\impute\\_base.py:558: UserWarning: Skipping features without any observed values: [1 2 3 4 5]. At least one non-missing value is needed for imputation with strategy='mean'.\n",
      "  warnings.warn(\n",
      "d:\\miniconda3\\envs\\py3.10\\lib\\site-packages\\sklearn\\impute\\_base.py:558: UserWarning: Skipping features without any observed values: [1 2 3 4 5]. At least one non-missing value is needed for imputation with strategy='mean'.\n",
      "  warnings.warn(\n",
      "d:\\miniconda3\\envs\\py3.10\\lib\\site-packages\\sklearn\\impute\\_base.py:558: UserWarning: Skipping features without any observed values: [1 2 3 4 5]. At least one non-missing value is needed for imputation with strategy='mean'.\n",
      "  warnings.warn(\n",
      "d:\\miniconda3\\envs\\py3.10\\lib\\site-packages\\sklearn\\impute\\_base.py:558: UserWarning: Skipping features without any observed values: [1 2 3 4 5]. At least one non-missing value is needed for imputation with strategy='mean'.\n",
      "  warnings.warn(\n",
      "d:\\miniconda3\\envs\\py3.10\\lib\\site-packages\\sklearn\\impute\\_base.py:558: UserWarning: Skipping features without any observed values: [1 2 3 4 5]. At least one non-missing value is needed for imputation with strategy='mean'.\n",
      "  warnings.warn(\n",
      "d:\\miniconda3\\envs\\py3.10\\lib\\site-packages\\sklearn\\impute\\_base.py:558: UserWarning: Skipping features without any observed values: [1 2 3 4 5]. At least one non-missing value is needed for imputation with strategy='mean'.\n",
      "  warnings.warn(\n",
      "d:\\miniconda3\\envs\\py3.10\\lib\\site-packages\\sklearn\\impute\\_base.py:558: UserWarning: Skipping features without any observed values: [1 2 3 4 5]. At least one non-missing value is needed for imputation with strategy='mean'.\n",
      "  warnings.warn(\n",
      "d:\\miniconda3\\envs\\py3.10\\lib\\site-packages\\sklearn\\impute\\_base.py:558: UserWarning: Skipping features without any observed values: [1 2 3 4 5]. At least one non-missing value is needed for imputation with strategy='mean'.\n",
      "  warnings.warn(\n",
      "d:\\miniconda3\\envs\\py3.10\\lib\\site-packages\\sklearn\\impute\\_iterative.py:800: ConvergenceWarning: [IterativeImputer] Early stopping criterion not reached.\n",
      "  warnings.warn(\n",
      "d:\\miniconda3\\envs\\py3.10\\lib\\site-packages\\sklearn\\impute\\_iterative.py:800: ConvergenceWarning: [IterativeImputer] Early stopping criterion not reached.\n",
      "  warnings.warn(\n",
      "d:\\miniconda3\\envs\\py3.10\\lib\\site-packages\\sklearn\\impute\\_iterative.py:800: ConvergenceWarning: [IterativeImputer] Early stopping criterion not reached.\n",
      "  warnings.warn(\n",
      "d:\\miniconda3\\envs\\py3.10\\lib\\site-packages\\sklearn\\impute\\_iterative.py:800: ConvergenceWarning: [IterativeImputer] Early stopping criterion not reached.\n",
      "  warnings.warn(\n",
      "d:\\miniconda3\\envs\\py3.10\\lib\\site-packages\\sklearn\\impute\\_iterative.py:800: ConvergenceWarning: [IterativeImputer] Early stopping criterion not reached.\n",
      "  warnings.warn(\n",
      "d:\\miniconda3\\envs\\py3.10\\lib\\site-packages\\sklearn\\impute\\_iterative.py:800: ConvergenceWarning: [IterativeImputer] Early stopping criterion not reached.\n",
      "  warnings.warn(\n",
      "d:\\miniconda3\\envs\\py3.10\\lib\\site-packages\\sklearn\\impute\\_iterative.py:800: ConvergenceWarning: [IterativeImputer] Early stopping criterion not reached.\n",
      "  warnings.warn(\n",
      "d:\\miniconda3\\envs\\py3.10\\lib\\site-packages\\sklearn\\impute\\_iterative.py:800: ConvergenceWarning: [IterativeImputer] Early stopping criterion not reached.\n",
      "  warnings.warn(\n"
     ]
    },
    {
     "name": "stdout",
     "output_type": "stream",
     "text": [
      "Data: yacht_hydrodynamics | Type: mcar | Para: 0.5\n",
      "Data: yacht_hydrodynamics | Type: mcar | Para: 0.7\n"
     ]
    },
    {
     "name": "stderr",
     "output_type": "stream",
     "text": [
      "d:\\miniconda3\\envs\\py3.10\\lib\\site-packages\\sklearn\\impute\\_iterative.py:800: ConvergenceWarning: [IterativeImputer] Early stopping criterion not reached.\n",
      "  warnings.warn(\n",
      "d:\\miniconda3\\envs\\py3.10\\lib\\site-packages\\sklearn\\impute\\_iterative.py:800: ConvergenceWarning: [IterativeImputer] Early stopping criterion not reached.\n",
      "  warnings.warn(\n",
      "d:\\miniconda3\\envs\\py3.10\\lib\\site-packages\\sklearn\\impute\\_iterative.py:800: ConvergenceWarning: [IterativeImputer] Early stopping criterion not reached.\n",
      "  warnings.warn(\n",
      "d:\\miniconda3\\envs\\py3.10\\lib\\site-packages\\sklearn\\impute\\_iterative.py:800: ConvergenceWarning: [IterativeImputer] Early stopping criterion not reached.\n",
      "  warnings.warn(\n",
      "d:\\miniconda3\\envs\\py3.10\\lib\\site-packages\\sklearn\\impute\\_iterative.py:800: ConvergenceWarning: [IterativeImputer] Early stopping criterion not reached.\n",
      "  warnings.warn(\n",
      "d:\\miniconda3\\envs\\py3.10\\lib\\site-packages\\sklearn\\impute\\_iterative.py:800: ConvergenceWarning: [IterativeImputer] Early stopping criterion not reached.\n",
      "  warnings.warn(\n"
     ]
    },
    {
     "name": "stdout",
     "output_type": "stream",
     "text": [
      "Data: yeast | Type: diffuse | Para: 0.3\n",
      "Data: yeast | Type: diffuse | Para: 0.5\n"
     ]
    },
    {
     "name": "stderr",
     "output_type": "stream",
     "text": [
      "d:\\miniconda3\\envs\\py3.10\\lib\\site-packages\\sklearn\\impute\\_iterative.py:800: ConvergenceWarning: [IterativeImputer] Early stopping criterion not reached.\n",
      "  warnings.warn(\n",
      "d:\\miniconda3\\envs\\py3.10\\lib\\site-packages\\sklearn\\impute\\_iterative.py:800: ConvergenceWarning: [IterativeImputer] Early stopping criterion not reached.\n",
      "  warnings.warn(\n",
      "d:\\miniconda3\\envs\\py3.10\\lib\\site-packages\\sklearn\\impute\\_iterative.py:800: ConvergenceWarning: [IterativeImputer] Early stopping criterion not reached.\n",
      "  warnings.warn(\n",
      "d:\\miniconda3\\envs\\py3.10\\lib\\site-packages\\sklearn\\impute\\_iterative.py:800: ConvergenceWarning: [IterativeImputer] Early stopping criterion not reached.\n",
      "  warnings.warn(\n"
     ]
    },
    {
     "name": "stdout",
     "output_type": "stream",
     "text": [
      "Data: yeast | Type: diffuse | Para: 0.7\n"
     ]
    },
    {
     "name": "stderr",
     "output_type": "stream",
     "text": [
      "d:\\miniconda3\\envs\\py3.10\\lib\\site-packages\\sklearn\\impute\\_iterative.py:800: ConvergenceWarning: [IterativeImputer] Early stopping criterion not reached.\n",
      "  warnings.warn(\n",
      "d:\\miniconda3\\envs\\py3.10\\lib\\site-packages\\sklearn\\impute\\_iterative.py:800: ConvergenceWarning: [IterativeImputer] Early stopping criterion not reached.\n",
      "  warnings.warn(\n",
      "d:\\miniconda3\\envs\\py3.10\\lib\\site-packages\\sklearn\\impute\\_iterative.py:800: ConvergenceWarning: [IterativeImputer] Early stopping criterion not reached.\n",
      "  warnings.warn(\n",
      "d:\\miniconda3\\envs\\py3.10\\lib\\site-packages\\sklearn\\impute\\_iterative.py:800: ConvergenceWarning: [IterativeImputer] Early stopping criterion not reached.\n",
      "  warnings.warn(\n"
     ]
    },
    {
     "name": "stdout",
     "output_type": "stream",
     "text": [
      "Data: yeast | Type: logistic | Para: 0.3\n"
     ]
    },
    {
     "name": "stderr",
     "output_type": "stream",
     "text": [
      "d:\\miniconda3\\envs\\py3.10\\lib\\site-packages\\sklearn\\impute\\_iterative.py:800: ConvergenceWarning: [IterativeImputer] Early stopping criterion not reached.\n",
      "  warnings.warn(\n",
      "d:\\miniconda3\\envs\\py3.10\\lib\\site-packages\\sklearn\\impute\\_iterative.py:800: ConvergenceWarning: [IterativeImputer] Early stopping criterion not reached.\n",
      "  warnings.warn(\n",
      "d:\\miniconda3\\envs\\py3.10\\lib\\site-packages\\sklearn\\impute\\_iterative.py:800: ConvergenceWarning: [IterativeImputer] Early stopping criterion not reached.\n",
      "  warnings.warn(\n",
      "d:\\miniconda3\\envs\\py3.10\\lib\\site-packages\\sklearn\\impute\\_iterative.py:800: ConvergenceWarning: [IterativeImputer] Early stopping criterion not reached.\n",
      "  warnings.warn(\n",
      "d:\\miniconda3\\envs\\py3.10\\lib\\site-packages\\sklearn\\impute\\_iterative.py:800: ConvergenceWarning: [IterativeImputer] Early stopping criterion not reached.\n",
      "  warnings.warn(\n"
     ]
    },
    {
     "name": "stdout",
     "output_type": "stream",
     "text": [
      "Data: yeast | Type: logistic | Para: 0.5\n",
      "Data: yeast | Type: logistic | Para: 0.7\n"
     ]
    },
    {
     "name": "stderr",
     "output_type": "stream",
     "text": [
      "d:\\miniconda3\\envs\\py3.10\\lib\\site-packages\\sklearn\\impute\\_iterative.py:800: ConvergenceWarning: [IterativeImputer] Early stopping criterion not reached.\n",
      "  warnings.warn(\n",
      "d:\\miniconda3\\envs\\py3.10\\lib\\site-packages\\sklearn\\impute\\_base.py:558: UserWarning: Skipping features without any observed values: [2 7]. At least one non-missing value is needed for imputation with strategy='mean'.\n",
      "  warnings.warn(\n",
      "d:\\miniconda3\\envs\\py3.10\\lib\\site-packages\\sklearn\\impute\\_base.py:558: UserWarning: Skipping features without any observed values: [2 7]. At least one non-missing value is needed for imputation with strategy='mean'.\n",
      "  warnings.warn(\n",
      "d:\\miniconda3\\envs\\py3.10\\lib\\site-packages\\sklearn\\impute\\_base.py:558: UserWarning: Skipping features without any observed values: [2 7]. At least one non-missing value is needed for imputation with strategy='mean'.\n",
      "  warnings.warn(\n",
      "d:\\miniconda3\\envs\\py3.10\\lib\\site-packages\\sklearn\\impute\\_base.py:558: UserWarning: Skipping features without any observed values: [2 7]. At least one non-missing value is needed for imputation with strategy='mean'.\n",
      "  warnings.warn(\n",
      "d:\\miniconda3\\envs\\py3.10\\lib\\site-packages\\sklearn\\impute\\_base.py:558: UserWarning: Skipping features without any observed values: [2 7]. At least one non-missing value is needed for imputation with strategy='mean'.\n",
      "  warnings.warn(\n",
      "d:\\miniconda3\\envs\\py3.10\\lib\\site-packages\\sklearn\\impute\\_base.py:558: UserWarning: Skipping features without any observed values: [2 7]. At least one non-missing value is needed for imputation with strategy='mean'.\n",
      "  warnings.warn(\n",
      "d:\\miniconda3\\envs\\py3.10\\lib\\site-packages\\sklearn\\impute\\_base.py:558: UserWarning: Skipping features without any observed values: [2 7]. At least one non-missing value is needed for imputation with strategy='mean'.\n",
      "  warnings.warn(\n",
      "d:\\miniconda3\\envs\\py3.10\\lib\\site-packages\\sklearn\\impute\\_base.py:558: UserWarning: Skipping features without any observed values: [2 7]. At least one non-missing value is needed for imputation with strategy='mean'.\n",
      "  warnings.warn(\n",
      "d:\\miniconda3\\envs\\py3.10\\lib\\site-packages\\sklearn\\impute\\_base.py:558: UserWarning: Skipping features without any observed values: [2 7]. At least one non-missing value is needed for imputation with strategy='mean'.\n",
      "  warnings.warn(\n",
      "d:\\miniconda3\\envs\\py3.10\\lib\\site-packages\\sklearn\\impute\\_base.py:558: UserWarning: Skipping features without any observed values: [2 7]. At least one non-missing value is needed for imputation with strategy='mean'.\n",
      "  warnings.warn(\n",
      "d:\\miniconda3\\envs\\py3.10\\lib\\site-packages\\sklearn\\impute\\_base.py:558: UserWarning: Skipping features without any observed values: [0 2 5 6 7]. At least one non-missing value is needed for imputation with strategy='mean'.\n",
      "  warnings.warn(\n",
      "d:\\miniconda3\\envs\\py3.10\\lib\\site-packages\\sklearn\\impute\\_base.py:558: UserWarning: Skipping features without any observed values: [0 2 5 6 7]. At least one non-missing value is needed for imputation with strategy='mean'.\n",
      "  warnings.warn(\n",
      "d:\\miniconda3\\envs\\py3.10\\lib\\site-packages\\sklearn\\impute\\_base.py:558: UserWarning: Skipping features without any observed values: [0 2 5 6 7]. At least one non-missing value is needed for imputation with strategy='mean'.\n",
      "  warnings.warn(\n",
      "d:\\miniconda3\\envs\\py3.10\\lib\\site-packages\\sklearn\\impute\\_base.py:558: UserWarning: Skipping features without any observed values: [0 2 5 6 7]. At least one non-missing value is needed for imputation with strategy='mean'.\n",
      "  warnings.warn(\n",
      "d:\\miniconda3\\envs\\py3.10\\lib\\site-packages\\sklearn\\impute\\_base.py:558: UserWarning: Skipping features without any observed values: [0 2 5 6 7]. At least one non-missing value is needed for imputation with strategy='mean'.\n",
      "  warnings.warn(\n",
      "d:\\miniconda3\\envs\\py3.10\\lib\\site-packages\\sklearn\\impute\\_base.py:558: UserWarning: Skipping features without any observed values: [0 2 5 6 7]. At least one non-missing value is needed for imputation with strategy='mean'.\n",
      "  warnings.warn(\n",
      "d:\\miniconda3\\envs\\py3.10\\lib\\site-packages\\sklearn\\impute\\_base.py:558: UserWarning: Skipping features without any observed values: [0 2 5 6 7]. At least one non-missing value is needed for imputation with strategy='mean'.\n",
      "  warnings.warn(\n",
      "d:\\miniconda3\\envs\\py3.10\\lib\\site-packages\\sklearn\\impute\\_base.py:558: UserWarning: Skipping features without any observed values: [0 2 5 6 7]. At least one non-missing value is needed for imputation with strategy='mean'.\n",
      "  warnings.warn(\n",
      "d:\\miniconda3\\envs\\py3.10\\lib\\site-packages\\sklearn\\impute\\_base.py:558: UserWarning: Skipping features without any observed values: [0 2 5 6 7]. At least one non-missing value is needed for imputation with strategy='mean'.\n",
      "  warnings.warn(\n",
      "d:\\miniconda3\\envs\\py3.10\\lib\\site-packages\\sklearn\\impute\\_base.py:558: UserWarning: Skipping features without any observed values: [0 2 5 6 7]. At least one non-missing value is needed for imputation with strategy='mean'.\n",
      "  warnings.warn(\n",
      "d:\\miniconda3\\envs\\py3.10\\lib\\site-packages\\sklearn\\impute\\_base.py:558: UserWarning: Skipping features without any observed values: [0 2 3 4 5 6 7]. At least one non-missing value is needed for imputation with strategy='mean'.\n",
      "  warnings.warn(\n",
      "d:\\miniconda3\\envs\\py3.10\\lib\\site-packages\\sklearn\\impute\\_base.py:558: UserWarning: Skipping features without any observed values: [0 2 3 4 5 6 7]. At least one non-missing value is needed for imputation with strategy='mean'.\n",
      "  warnings.warn(\n",
      "d:\\miniconda3\\envs\\py3.10\\lib\\site-packages\\sklearn\\impute\\_base.py:558: UserWarning: Skipping features without any observed values: [0 2 3 4 5 6 7]. At least one non-missing value is needed for imputation with strategy='mean'.\n",
      "  warnings.warn(\n",
      "d:\\miniconda3\\envs\\py3.10\\lib\\site-packages\\sklearn\\impute\\_base.py:558: UserWarning: Skipping features without any observed values: [0 2 3 4 5 6 7]. At least one non-missing value is needed for imputation with strategy='mean'.\n",
      "  warnings.warn(\n",
      "d:\\miniconda3\\envs\\py3.10\\lib\\site-packages\\sklearn\\impute\\_base.py:558: UserWarning: Skipping features without any observed values: [0 2 3 4 5 6 7]. At least one non-missing value is needed for imputation with strategy='mean'.\n",
      "  warnings.warn(\n",
      "d:\\miniconda3\\envs\\py3.10\\lib\\site-packages\\sklearn\\impute\\_base.py:558: UserWarning: Skipping features without any observed values: [0 2 3 4 5 6 7]. At least one non-missing value is needed for imputation with strategy='mean'.\n",
      "  warnings.warn(\n",
      "d:\\miniconda3\\envs\\py3.10\\lib\\site-packages\\sklearn\\impute\\_base.py:558: UserWarning: Skipping features without any observed values: [0 2 3 4 5 6 7]. At least one non-missing value is needed for imputation with strategy='mean'.\n",
      "  warnings.warn(\n",
      "d:\\miniconda3\\envs\\py3.10\\lib\\site-packages\\sklearn\\impute\\_base.py:558: UserWarning: Skipping features without any observed values: [0 2 3 4 5 6 7]. At least one non-missing value is needed for imputation with strategy='mean'.\n",
      "  warnings.warn(\n",
      "d:\\miniconda3\\envs\\py3.10\\lib\\site-packages\\sklearn\\impute\\_base.py:558: UserWarning: Skipping features without any observed values: [0 2 3 4 5 6 7]. At least one non-missing value is needed for imputation with strategy='mean'.\n",
      "  warnings.warn(\n",
      "d:\\miniconda3\\envs\\py3.10\\lib\\site-packages\\sklearn\\impute\\_base.py:558: UserWarning: Skipping features without any observed values: [0 2 3 4 5 6 7]. At least one non-missing value is needed for imputation with strategy='mean'.\n",
      "  warnings.warn(\n",
      "d:\\miniconda3\\envs\\py3.10\\lib\\site-packages\\sklearn\\impute\\_iterative.py:800: ConvergenceWarning: [IterativeImputer] Early stopping criterion not reached.\n",
      "  warnings.warn(\n"
     ]
    },
    {
     "name": "stdout",
     "output_type": "stream",
     "text": [
      "Data: yeast | Type: mar | Para: 0.3\n",
      "Data: yeast | Type: mar | Para: 0.5\n",
      "Data: yeast | Type: mar | Para: 0.7\n",
      "Data: yeast | Type: mcar | Para: 0.3\n"
     ]
    },
    {
     "name": "stderr",
     "output_type": "stream",
     "text": [
      "d:\\miniconda3\\envs\\py3.10\\lib\\site-packages\\sklearn\\impute\\_iterative.py:800: ConvergenceWarning: [IterativeImputer] Early stopping criterion not reached.\n",
      "  warnings.warn(\n",
      "d:\\miniconda3\\envs\\py3.10\\lib\\site-packages\\sklearn\\impute\\_iterative.py:800: ConvergenceWarning: [IterativeImputer] Early stopping criterion not reached.\n",
      "  warnings.warn(\n",
      "d:\\miniconda3\\envs\\py3.10\\lib\\site-packages\\sklearn\\impute\\_iterative.py:800: ConvergenceWarning: [IterativeImputer] Early stopping criterion not reached.\n",
      "  warnings.warn(\n"
     ]
    },
    {
     "name": "stdout",
     "output_type": "stream",
     "text": [
      "Data: yeast | Type: mcar | Para: 0.5\n"
     ]
    },
    {
     "name": "stderr",
     "output_type": "stream",
     "text": [
      "d:\\miniconda3\\envs\\py3.10\\lib\\site-packages\\sklearn\\impute\\_iterative.py:800: ConvergenceWarning: [IterativeImputer] Early stopping criterion not reached.\n",
      "  warnings.warn(\n",
      "d:\\miniconda3\\envs\\py3.10\\lib\\site-packages\\sklearn\\impute\\_iterative.py:800: ConvergenceWarning: [IterativeImputer] Early stopping criterion not reached.\n",
      "  warnings.warn(\n",
      "d:\\miniconda3\\envs\\py3.10\\lib\\site-packages\\sklearn\\impute\\_iterative.py:800: ConvergenceWarning: [IterativeImputer] Early stopping criterion not reached.\n",
      "  warnings.warn(\n"
     ]
    },
    {
     "name": "stdout",
     "output_type": "stream",
     "text": [
      "Data: yeast | Type: mcar | Para: 0.7\n"
     ]
    },
    {
     "name": "stderr",
     "output_type": "stream",
     "text": [
      "d:\\miniconda3\\envs\\py3.10\\lib\\site-packages\\sklearn\\impute\\_iterative.py:800: ConvergenceWarning: [IterativeImputer] Early stopping criterion not reached.\n",
      "  warnings.warn(\n"
     ]
    }
   ],
   "source": [
    "for data in data_list:\n",
    "    for types in type_list:\n",
    "        \n",
    "        norm_data = np.load('datasets/{}/{}_norm.npy'.format(data,data))\n",
    "        full_data, y = load_data(data)\n",
    "\n",
    "        for para in para_set:\n",
    "            \n",
    "            # for original data\n",
    "            path = 'datasets/{}/{}/{}'.format(data,types,para)\n",
    "            mask = np.load('{}.npy'.format(path))\n",
    "\n",
    "            # for prefilled data\n",
    "            prefilled_path = 'prefilled_data/{}/{}/{}'.format(data,types,para)\n",
    "            if not os.path.exists(prefilled_path):\n",
    "                os.makedirs(prefilled_path)\n",
    "\n",
    "            print(\"Data: {} | Type: {} | Para: {}\".format(data, types, para))\n",
    "\n",
    "            with open('datasets/{}/split_index_cv_seed-1_nfold-5.json'.format(data), 'r') as file:\n",
    "                index = json.load(file)\n",
    "                for fold_n in index.keys():\n",
    "                    #print(fold)\n",
    "                    fold = index[fold_n]\n",
    "                    # use nan to inpute X data\n",
    "                    full_data[mask == 0] = np.nan\n",
    "                    norm_data[mask == 0] = np.nan\n",
    "\n",
    "                    train_index = fold['train_index']\n",
    "                    test_index = fold['test_index']\n",
    "\n",
    "                    full_X_train = full_data[train_index]\n",
    "                    full_X_test = full_data[test_index]\n",
    "\n",
    "                    norm_X_train = norm_data[train_index]\n",
    "                    norm_X_test = norm_data[test_index]\n",
    "\n",
    "                    y_train = y[train_index]\n",
    "                    y_test = y[test_index]\n",
    "\n",
    "                    for fillintype in prefilled_type:\n",
    "                        full_X_train_copy = full_X_train.copy()\n",
    "                        norm_X_train_copy = norm_X_train.copy()\n",
    "                        #run_norm(full_X_train_copy, [fillintype, prefilled_path,\"full_{}\".format(fold_n)])\n",
    "                        run_norm(norm_X_train_copy, [fillintype, prefilled_path,\"norm_{}\".format(fold_n)])\n",
    "                    # np.savetxt(path+'train_data.txt', X_train, delimiter=',')\n",
    "                    # np.savetxt(path+'test_data.txt', X_test, delimiter=',')\n",
    "                    # np.savetxt(path+'train_labels.txt', y_train, delimiter=',')\n",
    "                    # np.savetxt(path+'test_labels.txt', y_test, delimiter=',')"
   ]
  },
  {
   "cell_type": "code",
   "execution_count": 5,
   "metadata": {},
   "outputs": [],
   "source": [
    "from sklearn.datasets import load_iris, load_wine, fetch_california_housing\n",
    "from sklearn.preprocessing import LabelEncoder\n",
    "\n",
    "# Assuming df is your DataFrame and the label column is 'target'\n",
    "\n",
    "\n",
    "data_list = ['banknote','california','climate_model_crashes','concrete_compression',\n",
    " 'connectionist_bench_sonar','qsar_biodegradation','wine_quality_red','wine_quality_white','yacht_hydrodynamics',\n",
    " 'yeast']\n",
    "\n",
    "def load_data(name):\n",
    "    label_encoder = LabelEncoder()\n",
    "    if name == 'banknote':\n",
    "     with open('datasets/banknote/data_banknote_authentication.txt', 'rb') as f:\n",
    "        df = pd.read_csv(f, low_memory=False, sep=',')\n",
    "        X = df.values[:,:-1]\n",
    "        y = df.values[:,-1]\n",
    "        y = label_encoder.fit_transform(y)\n",
    "    elif name == 'california':\n",
    "        data  = fetch_california_housing()\n",
    "        X = data[\"data\"]\n",
    "        y = data[\"target\"]\n",
    "\n",
    "    elif name == 'climate_model_crashes':\n",
    "        X,y = fetch_climate_model_crashes()\n",
    "        y = label_encoder.fit_transform(y)\n",
    "    elif name == 'concrete_compression':\n",
    "         X,y = fetch_concrete_compression()\n",
    "    elif name == 'yacht_hydrodynamics':\n",
    "         X,y = fetch_yacht_hydrodynamics()\n",
    "    elif name == 'airfoil_self_noise':\n",
    "         X,y = fetch_airfoil_self_noise()\n",
    "    elif name == 'connectionist_bench_sonar':\n",
    "         X,y = fetch_connectionist_bench_sonar()\n",
    "         y = label_encoder.fit_transform(y) \n",
    "    elif name == 'qsar_biodegradation':\n",
    "         X,y = fetch_qsar_biodegradation()\n",
    "         y = label_encoder.fit_transform(y) \n",
    "    elif name == 'wine_quality_red':\n",
    "             X,y = fetch_wine_quality_red()\n",
    "    elif name == 'wine_quality_white':\n",
    "             X,y = fetch_wine_quality_white() \n",
    "    elif name == 'yeast':\n",
    "             X,y = fetch_yeast()\n",
    "             y = label_encoder.fit_transform(y)  \n",
    "\n",
    "    return X,y\n",
    "\n"
   ]
  },
  {
   "cell_type": "code",
   "execution_count": 6,
   "metadata": {},
   "outputs": [],
   "source": [
    "def fetch_climate_model_crashes():\n",
    "    with open('datasets/climate_model_crashes/pop_failures.dat', 'rb') as f:\n",
    "        df = pd.read_csv(f, delimiter='\\s+', header = 0)\n",
    "        # Ignore the two blocking factor\n",
    "        X = df.values[:, 2:-1]\n",
    "        y =  df.values[:, -1]\n",
    "\n",
    "    return X,y\n",
    "\n",
    "def fetch_concrete_compression():\n",
    "    with open('datasets/concrete_compression/Concrete_Data.xls', 'rb') as f:\n",
    "        df = pd.read_excel(io=f)\n",
    "        X = df.values[:, :-1]\n",
    "        y =  df.values[:, -1]\n",
    "    return X,y\n",
    "\n",
    "\n",
    "def fetch_yacht_hydrodynamics():\n",
    "    with open('datasets/yacht_hydrodynamics/yacht_hydrodynamics.data', 'rb') as f:\n",
    "        df = pd.read_csv(f, delimiter='\\s+', header = None)\n",
    "        X = df.values[:, :-1]\n",
    "        y =  df.values[:, -1]\n",
    "    return X,y\n",
    "\n",
    "\n",
    "def fetch_connectionist_bench_sonar():\n",
    "    with open('datasets/connectionist_bench_sonar/sonar.all-data', 'rb') as f:\n",
    "        df = pd.read_csv(f, delimiter=',', header = None)\n",
    "\n",
    "        X = df.values[:, :-1].astype('float')\n",
    "        y =  df.values[:, -1]\n",
    "    return X,y\n",
    "\n",
    "\n",
    "def fetch_qsar_biodegradation():\n",
    "    with open('datasets/qsar_biodegradation/biodeg.csv', 'rb') as f:\n",
    "        df = pd.read_csv(f, delimiter=';', header = None)\n",
    "        X = df.values[:, :-1].astype('float')\n",
    "        y =  df.values[:, -1]\n",
    "\n",
    "    return X,y\n",
    "\n",
    "def fetch_yeast():\n",
    "    with open('datasets/yeast/yeast.data', 'rb') as f:\n",
    "        df = pd.read_csv(f, delimiter='\\s+', header = None)\n",
    "        X = df.values[:, 1:-1].astype('float')\n",
    "        y =  df.values[:, -1]\n",
    "\n",
    "    return X,y\n",
    "\n",
    "\n",
    "def fetch_wine_quality_red():\n",
    "    with open('datasets/wine_quality_red/winequality-red.csv', 'rb') as f:\n",
    "        df = pd.read_csv(f, delimiter=';')\n",
    "        X = df.values[:, :-1].astype('float')\n",
    "        y =  df.values[:, -1]\n",
    "    return X,y\n",
    "\n",
    "# Dpne!\n",
    "def fetch_wine_quality_white():\n",
    "    with open('datasets/wine_quality_white/data.csv', 'rb') as f:\n",
    "        df = pd.read_csv(f, delimiter=';')\n",
    "        X = df.values[:, :-1].astype('float')\n",
    "        y =  df.values[:, -1]\n",
    "    return X,y\n"
   ]
  }
 ],
 "metadata": {
  "kernelspec": {
   "display_name": "Python 3",
   "language": "python",
   "name": "python3"
  },
  "language_info": {
   "codemirror_mode": {
    "name": "ipython",
    "version": 3
   },
   "file_extension": ".py",
   "mimetype": "text/x-python",
   "name": "python",
   "nbconvert_exporter": "python",
   "pygments_lexer": "ipython3",
   "version": "3.10.13"
  }
 },
 "nbformat": 4,
 "nbformat_minor": 2
}
